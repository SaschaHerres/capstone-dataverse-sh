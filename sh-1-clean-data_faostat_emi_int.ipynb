{
 "cells": [
  {
   "cell_type": "markdown",
   "metadata": {},
   "source": [
    "# cleaning the data:\n",
    "# # [faostat] emissions intensities"
   ]
  },
  {
   "cell_type": "code",
   "execution_count": 2,
   "metadata": {},
   "outputs": [],
   "source": [
    "import pandas as pd\n",
    "\n",
    "import _functions_sql as fs\n",
    "import _functions_data_files as fdf\n",
    "\n",
    "source_dir = 'faostat_emi_int'"
   ]
  },
  {
   "cell_type": "markdown",
   "metadata": {},
   "source": [
    "## import from CSV & general overview"
   ]
  },
  {
   "cell_type": "code",
   "execution_count": 3,
   "metadata": {},
   "outputs": [],
   "source": [
    "file_name = 'Environment_Emissions_intensities_E_All_Data_(Normalized).csv'\n",
    "# define converters for 'read_csv' & import file\n",
    "conv = {\n",
    "    'Note': str # handle DtypeWarning not using 'low_memory=False' (deprecated)\n",
    "                # so missing values are now read as empty string ('')\n",
    "}\n",
    "df_prod = pd.read_csv(\n",
    "      fdf.get_file_path(file_name, source_dir)\n",
    "    , encoding='latin-1' # content is not UTF-8 compatible :TODO: :FIXME: ???\n",
    "    , converters=conv\n",
    ")"
   ]
  },
  {
   "cell_type": "code",
   "execution_count": 4,
   "metadata": {},
   "outputs": [
    {
     "data": {
      "text/html": [
       "<div>\n",
       "<style scoped>\n",
       "    .dataframe tbody tr th:only-of-type {\n",
       "        vertical-align: middle;\n",
       "    }\n",
       "\n",
       "    .dataframe tbody tr th {\n",
       "        vertical-align: top;\n",
       "    }\n",
       "\n",
       "    .dataframe thead th {\n",
       "        text-align: right;\n",
       "    }\n",
       "</style>\n",
       "<table border=\"1\" class=\"dataframe\">\n",
       "  <thead>\n",
       "    <tr style=\"text-align: right;\">\n",
       "      <th></th>\n",
       "      <th>Area Code</th>\n",
       "      <th>Area Code (M49)</th>\n",
       "      <th>Area</th>\n",
       "      <th>Item Code</th>\n",
       "      <th>Item Code (CPC)</th>\n",
       "      <th>Item</th>\n",
       "      <th>Element Code</th>\n",
       "      <th>Element</th>\n",
       "      <th>Year Code</th>\n",
       "      <th>Year</th>\n",
       "      <th>Unit</th>\n",
       "      <th>Value</th>\n",
       "      <th>Flag</th>\n",
       "    </tr>\n",
       "  </thead>\n",
       "  <tbody>\n",
       "    <tr>\n",
       "      <th>0</th>\n",
       "      <td>2</td>\n",
       "      <td>'004</td>\n",
       "      <td>Afghanistan</td>\n",
       "      <td>1718</td>\n",
       "      <td>'F1718</td>\n",
       "      <td>Cereals excluding rice</td>\n",
       "      <td>71761</td>\n",
       "      <td>Emissions intensity</td>\n",
       "      <td>1961</td>\n",
       "      <td>1961</td>\n",
       "      <td>kg CO2eq/kg</td>\n",
       "      <td>0.1130</td>\n",
       "      <td>E</td>\n",
       "    </tr>\n",
       "    <tr>\n",
       "      <th>1</th>\n",
       "      <td>2</td>\n",
       "      <td>'004</td>\n",
       "      <td>Afghanistan</td>\n",
       "      <td>1718</td>\n",
       "      <td>'F1718</td>\n",
       "      <td>Cereals excluding rice</td>\n",
       "      <td>71761</td>\n",
       "      <td>Emissions intensity</td>\n",
       "      <td>1962</td>\n",
       "      <td>1962</td>\n",
       "      <td>kg CO2eq/kg</td>\n",
       "      <td>0.1149</td>\n",
       "      <td>E</td>\n",
       "    </tr>\n",
       "    <tr>\n",
       "      <th>2</th>\n",
       "      <td>2</td>\n",
       "      <td>'004</td>\n",
       "      <td>Afghanistan</td>\n",
       "      <td>1718</td>\n",
       "      <td>'F1718</td>\n",
       "      <td>Cereals excluding rice</td>\n",
       "      <td>71761</td>\n",
       "      <td>Emissions intensity</td>\n",
       "      <td>1963</td>\n",
       "      <td>1963</td>\n",
       "      <td>kg CO2eq/kg</td>\n",
       "      <td>0.1205</td>\n",
       "      <td>E</td>\n",
       "    </tr>\n",
       "    <tr>\n",
       "      <th>3</th>\n",
       "      <td>2</td>\n",
       "      <td>'004</td>\n",
       "      <td>Afghanistan</td>\n",
       "      <td>1718</td>\n",
       "      <td>'F1718</td>\n",
       "      <td>Cereals excluding rice</td>\n",
       "      <td>71761</td>\n",
       "      <td>Emissions intensity</td>\n",
       "      <td>1964</td>\n",
       "      <td>1964</td>\n",
       "      <td>kg CO2eq/kg</td>\n",
       "      <td>0.1154</td>\n",
       "      <td>E</td>\n",
       "    </tr>\n",
       "    <tr>\n",
       "      <th>4</th>\n",
       "      <td>2</td>\n",
       "      <td>'004</td>\n",
       "      <td>Afghanistan</td>\n",
       "      <td>1718</td>\n",
       "      <td>'F1718</td>\n",
       "      <td>Cereals excluding rice</td>\n",
       "      <td>71761</td>\n",
       "      <td>Emissions intensity</td>\n",
       "      <td>1965</td>\n",
       "      <td>1965</td>\n",
       "      <td>kg CO2eq/kg</td>\n",
       "      <td>0.1144</td>\n",
       "      <td>E</td>\n",
       "    </tr>\n",
       "  </tbody>\n",
       "</table>\n",
       "</div>"
      ],
      "text/plain": [
       "   Area Code Area Code (M49)         Area  Item Code Item Code (CPC)  \\\n",
       "0          2            '004  Afghanistan       1718          'F1718   \n",
       "1          2            '004  Afghanistan       1718          'F1718   \n",
       "2          2            '004  Afghanistan       1718          'F1718   \n",
       "3          2            '004  Afghanistan       1718          'F1718   \n",
       "4          2            '004  Afghanistan       1718          'F1718   \n",
       "\n",
       "                     Item  Element Code              Element  Year Code  Year  \\\n",
       "0  Cereals excluding rice         71761  Emissions intensity       1961  1961   \n",
       "1  Cereals excluding rice         71761  Emissions intensity       1962  1962   \n",
       "2  Cereals excluding rice         71761  Emissions intensity       1963  1963   \n",
       "3  Cereals excluding rice         71761  Emissions intensity       1964  1964   \n",
       "4  Cereals excluding rice         71761  Emissions intensity       1965  1965   \n",
       "\n",
       "          Unit   Value Flag  \n",
       "0  kg CO2eq/kg  0.1130    E  \n",
       "1  kg CO2eq/kg  0.1149    E  \n",
       "2  kg CO2eq/kg  0.1205    E  \n",
       "3  kg CO2eq/kg  0.1154    E  \n",
       "4  kg CO2eq/kg  0.1144    E  "
      ]
     },
     "execution_count": 4,
     "metadata": {},
     "output_type": "execute_result"
    }
   ],
   "source": [
    "df_prod.head()"
   ]
  },
  {
   "cell_type": "code",
   "execution_count": 5,
   "metadata": {},
   "outputs": [
    {
     "name": "stdout",
     "output_type": "stream",
     "text": [
      "<class 'pandas.core.frame.DataFrame'>\n",
      "RangeIndex: 399410 entries, 0 to 399409\n",
      "Data columns (total 13 columns):\n",
      " #   Column           Non-Null Count   Dtype  \n",
      "---  ------           --------------   -----  \n",
      " 0   Area Code        399410 non-null  int64  \n",
      " 1   Area Code (M49)  399410 non-null  object \n",
      " 2   Area             399410 non-null  object \n",
      " 3   Item Code        399410 non-null  int64  \n",
      " 4   Item Code (CPC)  399410 non-null  object \n",
      " 5   Item             399410 non-null  object \n",
      " 6   Element Code     399410 non-null  int64  \n",
      " 7   Element          399410 non-null  object \n",
      " 8   Year Code        399410 non-null  int64  \n",
      " 9   Year             399410 non-null  int64  \n",
      " 10  Unit             399410 non-null  object \n",
      " 11  Value            399410 non-null  float64\n",
      " 12  Flag             399410 non-null  object \n",
      "dtypes: float64(1), int64(5), object(7)\n",
      "memory usage: 39.6+ MB\n"
     ]
    }
   ],
   "source": [
    "df_prod.info()"
   ]
  },
  {
   "cell_type": "code",
   "execution_count": 6,
   "metadata": {},
   "outputs": [
    {
     "data": {
      "text/plain": [
       "2021"
      ]
     },
     "execution_count": 6,
     "metadata": {},
     "output_type": "execute_result"
    }
   ],
   "source": [
    "df_prod['Year'].max()\n"
   ]
  }
 ],
 "metadata": {
  "kernelspec": {
   "display_name": "nf_sql",
   "language": "python",
   "name": "python3"
  },
  "language_info": {
   "codemirror_mode": {
    "name": "ipython",
    "version": 3
   },
   "file_extension": ".py",
   "mimetype": "text/x-python",
   "name": "python",
   "nbconvert_exporter": "python",
   "pygments_lexer": "ipython3",
   "version": "3.9.18"
  }
 },
 "nbformat": 4,
 "nbformat_minor": 2
}
