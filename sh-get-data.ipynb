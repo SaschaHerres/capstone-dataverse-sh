{
 "cells": [
  {
   "cell_type": "code",
   "execution_count": null,
   "metadata": {},
   "outputs": [],
   "source": [
    "import _functions_data_files as fdf"
   ]
  },
  {
   "cell_type": "code",
   "execution_count": 24,
   "metadata": {},
   "outputs": [
    {
     "name": "stdout",
     "output_type": "stream",
     "text": [
      "# downloading crops & livestock production data\n",
      "file downloaded: Production_Crops_Livestock_E_All_Data_(Normalized).zip\n",
      "files extracted: ['Production_Crops_Livestock_E_All_Data_(Normalized).csv', 'Production_Crops_Livestock_E_AreaCodes.csv', 'Production_Crops_Livestock_E_Flags.csv', 'Production_Crops_Livestock_E_ItemCodes.csv']\n",
      "searched file found: ./data/Production_Crops_Livestock_E_All_Data_(Normalized).csv\n",
      "\n",
      "# downloading emissions from crops data\n",
      "file downloaded: Emissions_crops_E_All_Data_(Normalized).zip\n",
      "files extracted: ['Emissions_crops_E_All_Data_(Normalized).csv', 'Emissions_crops_E_AreaCodes.csv', 'Emissions_crops_E_Flags.csv', 'Emissions_crops_E_ItemCodes.csv']\n",
      "searched file found: ./data/Emissions_crops_E_All_Data_(Normalized).csv\n",
      "\n",
      "# downloading emissions from livestock data\n",
      "file downloaded: Emissions_livestock_E_All_Data_(Normalized).zip\n",
      "files extracted: ['Emissions_livestock_E_All_Data_(Normalized).csv', 'Emissions_livestock_E_AreaCodes.csv', 'Emissions_livestock_E_Flags.csv', 'Emissions_livestock_E_ItemCodes.csv']\n",
      "searched file found: ./data/Emissions_livestock_E_All_Data_(Normalized).csv\n",
      "\n",
      "# downloading food balances data\n",
      "file downloaded: FoodBalanceSheets_E_All_Data_(Normalized).zip\n",
      "files extracted: ['FoodBalanceSheets_E_All_Data_(Normalized).csv', 'FoodBalanceSheets_E_AreaCodes.csv', 'FoodBalanceSheets_E_Flags.csv', 'FoodBalanceSheets_E_ItemCodes.csv']\n",
      "searched file found: ./data/FoodBalanceSheets_E_All_Data_(Normalized).csv\n",
      "\n",
      "# downloading additional emissions data\n",
      "file downloaded: Environment_Emissions_intensities_E_All_Data_(Normalized).zip\n",
      "files extracted: ['Environment_Emissions_intensities_E_All_Data_(Normalized).csv', 'Environment_Emissions_intensities_E_AreaCodes.csv', 'Environment_Emissions_intensities_E_Flags.csv', 'Environment_Emissions_intensities_E_ItemCodes.csv']\n",
      "searched file found: ./data/Environment_Emissions_intensities_E_All_Data_(Normalized).csv\n",
      "\n"
     ]
    }
   ],
   "source": [
    "url_base = 'https://fenixservices.fao.org/faostat/static/bulkdownloads/'\n",
    "downloads = [\n",
    "    {\n",
    "        'title': 'crops & livestock production data',\n",
    "        'url_suffix': 'Production_Crops_Livestock_E_All_Data_(Normalized).zip',\n",
    "        'data_file': 'Production_Crops_Livestock_E_All_Data_(Normalized).csv'\n",
    "    },\n",
    "    {\n",
    "        'title': 'emissions from crops data',\n",
    "        'url_suffix': 'Emissions_crops_E_All_Data_(Normalized).zip',\n",
    "        'data_file': 'Emissions_crops_E_All_Data_(Normalized).csv'\n",
    "    },\n",
    "    {\n",
    "        'title': 'emissions from livestock data',\n",
    "        'url_suffix': 'Emissions_livestock_E_All_Data_(Normalized).zip',\n",
    "        'data_file': 'Emissions_livestock_E_All_Data_(Normalized).csv'\n",
    "    },\n",
    "    {\n",
    "        'title': 'food balances data',\n",
    "        'url_suffix': 'FoodBalanceSheets_E_All_Data_(Normalized).zip',\n",
    "        'data_file': 'FoodBalanceSheets_E_All_Data_(Normalized).csv'\n",
    "    },\n",
    "    {\n",
    "        'title': 'additional emissions data',\n",
    "        'url_suffix': 'Environment_Emissions_intensities_E_All_Data_(Normalized).zip',\n",
    "        'data_file': 'Environment_Emissions_intensities_E_All_Data_(Normalized).csv'\n",
    "    }\n",
    "]\n",
    "\n",
    "# download, extract all files, search for data file, print path as 'csv_file'\n",
    "for dl in downloads:\n",
    "    print('# downloading', dl['title'])\n",
    "    if zipfile := fdf.download_file(url_base + dl['url_suffix']):\n",
    "        if not dl['data_file'] in fdf.unzip_file(zipfile):\n",
    "            print('ERROR! searched file not extracted')    \n",
    "        elif not (csv_file := fdf.get_file_path(dl['data_file'], check_exist=True)):\n",
    "            print('ERROR! searched file not found in file system')\n",
    "        else:\n",
    "            print('searched file found: ' + csv_file)\n",
    "    print()"
   ]
  }
 ],
 "metadata": {
  "kernelspec": {
   "display_name": "capstone",
   "language": "python",
   "name": "python3"
  },
  "language_info": {
   "codemirror_mode": {
    "name": "ipython",
    "version": 3
   },
   "file_extension": ".py",
   "mimetype": "text/x-python",
   "name": "python",
   "nbconvert_exporter": "python",
   "pygments_lexer": "ipython3",
   "version": "3.9.18"
  }
 },
 "nbformat": 4,
 "nbformat_minor": 2
}
