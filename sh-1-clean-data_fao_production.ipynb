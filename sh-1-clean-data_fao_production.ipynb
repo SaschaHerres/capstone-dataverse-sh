{
 "cells": [
  {
   "cell_type": "markdown",
   "metadata": {},
   "source": [
    "# [FAO] production of crops and livestock products"
   ]
  },
  {
   "cell_type": "code",
   "execution_count": 1,
   "metadata": {},
   "outputs": [],
   "source": [
    "import pandas as pd\n",
    "import numpy as np\n",
    "import re as re\n",
    "\n",
    "import _functions_sql as fs\n",
    "import _functions_data_files as fdf\n",
    "\n",
    "source_dir = 'fao_production'\n",
    "source_file = 'Production_Crops_Livestock_E_All_Data_(Normalized).csv'"
   ]
  },
  {
   "cell_type": "markdown",
   "metadata": {},
   "source": [
    "## import from CSV & show general information"
   ]
  },
  {
   "cell_type": "code",
   "execution_count": 2,
   "metadata": {},
   "outputs": [],
   "source": [
    "# import raw data into a pandas dataframe\n",
    "df_raw = pd.read_csv(\n",
    "      fdf.get_path(source_file, source_dir)\n",
    "    , encoding='latin-1'\n",
    "    , converters={'Note': str} # handle DtypeWarning without 'low_memory=False' \n",
    ")"
   ]
  },
  {
   "cell_type": "code",
   "execution_count": 3,
   "metadata": {},
   "outputs": [
    {
     "data": {
      "text/html": [
       "<div>\n",
       "<style scoped>\n",
       "    .dataframe tbody tr th:only-of-type {\n",
       "        vertical-align: middle;\n",
       "    }\n",
       "\n",
       "    .dataframe tbody tr th {\n",
       "        vertical-align: top;\n",
       "    }\n",
       "\n",
       "    .dataframe thead th {\n",
       "        text-align: right;\n",
       "    }\n",
       "</style>\n",
       "<table border=\"1\" class=\"dataframe\">\n",
       "  <thead>\n",
       "    <tr style=\"text-align: right;\">\n",
       "      <th></th>\n",
       "      <th>Area Code</th>\n",
       "      <th>Area Code (M49)</th>\n",
       "      <th>Area</th>\n",
       "      <th>Item Code</th>\n",
       "      <th>Item Code (CPC)</th>\n",
       "      <th>Item</th>\n",
       "      <th>Element Code</th>\n",
       "      <th>Element</th>\n",
       "      <th>Year Code</th>\n",
       "      <th>Year</th>\n",
       "      <th>Unit</th>\n",
       "      <th>Value</th>\n",
       "      <th>Flag</th>\n",
       "      <th>Note</th>\n",
       "    </tr>\n",
       "  </thead>\n",
       "  <tbody>\n",
       "    <tr>\n",
       "      <th>0</th>\n",
       "      <td>2</td>\n",
       "      <td>'004</td>\n",
       "      <td>Afghanistan</td>\n",
       "      <td>221</td>\n",
       "      <td>'01371</td>\n",
       "      <td>Almonds, in shell</td>\n",
       "      <td>5312</td>\n",
       "      <td>Area harvested</td>\n",
       "      <td>1961</td>\n",
       "      <td>1961</td>\n",
       "      <td>ha</td>\n",
       "      <td>0.0</td>\n",
       "      <td>A</td>\n",
       "      <td></td>\n",
       "    </tr>\n",
       "    <tr>\n",
       "      <th>1</th>\n",
       "      <td>2</td>\n",
       "      <td>'004</td>\n",
       "      <td>Afghanistan</td>\n",
       "      <td>221</td>\n",
       "      <td>'01371</td>\n",
       "      <td>Almonds, in shell</td>\n",
       "      <td>5312</td>\n",
       "      <td>Area harvested</td>\n",
       "      <td>1962</td>\n",
       "      <td>1962</td>\n",
       "      <td>ha</td>\n",
       "      <td>0.0</td>\n",
       "      <td>A</td>\n",
       "      <td></td>\n",
       "    </tr>\n",
       "    <tr>\n",
       "      <th>2</th>\n",
       "      <td>2</td>\n",
       "      <td>'004</td>\n",
       "      <td>Afghanistan</td>\n",
       "      <td>221</td>\n",
       "      <td>'01371</td>\n",
       "      <td>Almonds, in shell</td>\n",
       "      <td>5312</td>\n",
       "      <td>Area harvested</td>\n",
       "      <td>1963</td>\n",
       "      <td>1963</td>\n",
       "      <td>ha</td>\n",
       "      <td>0.0</td>\n",
       "      <td>A</td>\n",
       "      <td></td>\n",
       "    </tr>\n",
       "    <tr>\n",
       "      <th>3</th>\n",
       "      <td>2</td>\n",
       "      <td>'004</td>\n",
       "      <td>Afghanistan</td>\n",
       "      <td>221</td>\n",
       "      <td>'01371</td>\n",
       "      <td>Almonds, in shell</td>\n",
       "      <td>5312</td>\n",
       "      <td>Area harvested</td>\n",
       "      <td>1964</td>\n",
       "      <td>1964</td>\n",
       "      <td>ha</td>\n",
       "      <td>0.0</td>\n",
       "      <td>A</td>\n",
       "      <td></td>\n",
       "    </tr>\n",
       "    <tr>\n",
       "      <th>4</th>\n",
       "      <td>2</td>\n",
       "      <td>'004</td>\n",
       "      <td>Afghanistan</td>\n",
       "      <td>221</td>\n",
       "      <td>'01371</td>\n",
       "      <td>Almonds, in shell</td>\n",
       "      <td>5312</td>\n",
       "      <td>Area harvested</td>\n",
       "      <td>1965</td>\n",
       "      <td>1965</td>\n",
       "      <td>ha</td>\n",
       "      <td>0.0</td>\n",
       "      <td>A</td>\n",
       "      <td></td>\n",
       "    </tr>\n",
       "  </tbody>\n",
       "</table>\n",
       "</div>"
      ],
      "text/plain": [
       "   Area Code Area Code (M49)         Area  Item Code Item Code (CPC)  \\\n",
       "0          2            '004  Afghanistan        221          '01371   \n",
       "1          2            '004  Afghanistan        221          '01371   \n",
       "2          2            '004  Afghanistan        221          '01371   \n",
       "3          2            '004  Afghanistan        221          '01371   \n",
       "4          2            '004  Afghanistan        221          '01371   \n",
       "\n",
       "                Item  Element Code         Element  Year Code  Year Unit  \\\n",
       "0  Almonds, in shell          5312  Area harvested       1961  1961   ha   \n",
       "1  Almonds, in shell          5312  Area harvested       1962  1962   ha   \n",
       "2  Almonds, in shell          5312  Area harvested       1963  1963   ha   \n",
       "3  Almonds, in shell          5312  Area harvested       1964  1964   ha   \n",
       "4  Almonds, in shell          5312  Area harvested       1965  1965   ha   \n",
       "\n",
       "   Value Flag Note  \n",
       "0    0.0    A       \n",
       "1    0.0    A       \n",
       "2    0.0    A       \n",
       "3    0.0    A       \n",
       "4    0.0    A       "
      ]
     },
     "execution_count": 3,
     "metadata": {},
     "output_type": "execute_result"
    }
   ],
   "source": [
    "# show first data rows\n",
    "df_raw.head()"
   ]
  },
  {
   "cell_type": "code",
   "execution_count": 4,
   "metadata": {},
   "outputs": [
    {
     "name": "stdout",
     "output_type": "stream",
     "text": [
      "<class 'pandas.core.frame.DataFrame'>\n",
      "RangeIndex: 4127584 entries, 0 to 4127583\n",
      "Data columns (total 14 columns):\n",
      " #   Column           Dtype  \n",
      "---  ------           -----  \n",
      " 0   Area Code        int64  \n",
      " 1   Area Code (M49)  object \n",
      " 2   Area             object \n",
      " 3   Item Code        int64  \n",
      " 4   Item Code (CPC)  object \n",
      " 5   Item             object \n",
      " 6   Element Code     int64  \n",
      " 7   Element          object \n",
      " 8   Year Code        int64  \n",
      " 9   Year             int64  \n",
      " 10  Unit             object \n",
      " 11  Value            float64\n",
      " 12  Flag             object \n",
      " 13  Note             object \n",
      "dtypes: float64(1), int64(5), object(8)\n",
      "memory usage: 440.9+ MB\n"
     ]
    }
   ],
   "source": [
    "# show table summary\n",
    "df_raw.info()"
   ]
  },
  {
   "cell_type": "code",
   "execution_count": 5,
   "metadata": {},
   "outputs": [
    {
     "data": {
      "text/plain": [
       "False    4127584\n",
       "Name: count, dtype: int64"
      ]
     },
     "execution_count": 5,
     "metadata": {},
     "output_type": "execute_result"
    }
   ],
   "source": [
    "# show full duplicates\n",
    "df_raw.duplicated().value_counts()"
   ]
  },
  {
   "cell_type": "code",
   "execution_count": 6,
   "metadata": {},
   "outputs": [
    {
     "data": {
      "text/plain": [
       "Area Code  Area Code (M49)  Area   Item Code  Item Code (CPC)  Item   Element Code  Element  Year Code  Year   Unit   Value  Flag   Note \n",
       "False      False            False  False      False            False  False         False    False      False  False  False  False  False    4127584\n",
       "Name: count, dtype: int64"
      ]
     },
     "execution_count": 6,
     "metadata": {},
     "output_type": "execute_result"
    }
   ],
   "source": [
    "# show null values\n",
    "df_raw.isnull().value_counts()"
   ]
  },
  {
   "cell_type": "markdown",
   "metadata": {},
   "source": [
    "## data cleaning"
   ]
  },
  {
   "cell_type": "code",
   "execution_count": 7,
   "metadata": {},
   "outputs": [],
   "source": [
    "# unify column names:\n",
    "# - remove leading/trailing spaces\n",
    "# - convert to lower case\n",
    "# - replace all non-alphanumerical characters with '_'\n",
    "df_raw.columns = [\n",
    "    re.sub('[^a-zA-Z0-9]', '_', col) for col in \\\n",
    "        df_raw.columns.str.strip().str.lower()\n",
    "]"
   ]
  },
  {
   "cell_type": "code",
   "execution_count": 8,
   "metadata": {},
   "outputs": [],
   "source": [
    "# retain original raw data for later\n",
    "df_clean = df_raw.copy()"
   ]
  },
  {
   "cell_type": "markdown",
   "metadata": {},
   "source": [
    "### drop 'area_code' & 'area_code_m49_' (redundant to 'Area')"
   ]
  },
  {
   "cell_type": "markdown",
   "metadata": {},
   "source": [
    ":FIXME: :TODO: has yet to be proven!!!"
   ]
  },
  {
   "cell_type": "code",
   "execution_count": 9,
   "metadata": {},
   "outputs": [],
   "source": [
    "# drop column\n",
    "df_clean.drop(columns = ['area_code', 'area_code__m49_'], inplace=True)"
   ]
  },
  {
   "cell_type": "markdown",
   "metadata": {},
   "source": [
    "### drop 'item_code_cpc_' (redundant to 'item_code')"
   ]
  },
  {
   "cell_type": "markdown",
   "metadata": {},
   "source": [
    ":FIXME: :TODO: has yet to be proven!!!"
   ]
  },
  {
   "cell_type": "code",
   "execution_count": 10,
   "metadata": {},
   "outputs": [],
   "source": [
    "# drop column\n",
    "df_clean.drop(columns = ['item_code__cpc_'], inplace=True)"
   ]
  },
  {
   "cell_type": "markdown",
   "metadata": {},
   "source": [
    "### drop 'element_code' (redundant to 'element')"
   ]
  },
  {
   "cell_type": "markdown",
   "metadata": {},
   "source": [
    ":FIXME: :TODO: has yet to be proven!!!"
   ]
  },
  {
   "cell_type": "markdown",
   "metadata": {},
   "source": [
    "'element_code' stands for a unique combination of element and unit, it can be dropped"
   ]
  },
  {
   "cell_type": "code",
   "execution_count": 11,
   "metadata": {},
   "outputs": [],
   "source": [
    "# drop column\n",
    "df_clean.drop(columns = ['element_code'], inplace=True)"
   ]
  },
  {
   "cell_type": "markdown",
   "metadata": {},
   "source": [
    "### drop 'year_code' (redundant to 'year')"
   ]
  },
  {
   "cell_type": "markdown",
   "metadata": {},
   "source": [
    ":FIXME: :TODO: has yet to be proven!!!"
   ]
  },
  {
   "cell_type": "code",
   "execution_count": 12,
   "metadata": {},
   "outputs": [],
   "source": [
    "# drop column\n",
    "df_clean.drop(columns = ['year_code'], inplace=True)"
   ]
  },
  {
   "cell_type": "markdown",
   "metadata": {},
   "source": [
    "### drop 'note' (no added value)"
   ]
  },
  {
   "cell_type": "markdown",
   "metadata": {},
   "source": [
    ":FIXME: :TODO: has yet to be proven!!!"
   ]
  },
  {
   "cell_type": "code",
   "execution_count": 13,
   "metadata": {},
   "outputs": [],
   "source": [
    "# replace empty strings with 'null'\n",
    "df_clean['note'].replace('', np.nan, inplace=True)"
   ]
  },
  {
   "cell_type": "code",
   "execution_count": 14,
   "metadata": {},
   "outputs": [
    {
     "data": {
      "text/plain": [
       "note\n",
       "NaN                  4046267\n",
       "Unofficial figure      81317\n",
       "Name: count, dtype: int64"
      ]
     },
     "execution_count": 14,
     "metadata": {},
     "output_type": "execute_result"
    }
   ],
   "source": [
    "# show unique values & counts\n",
    "df_clean['note'].value_counts(dropna=False)"
   ]
  },
  {
   "cell_type": "code",
   "execution_count": 15,
   "metadata": {},
   "outputs": [],
   "source": [
    "# drop column\n",
    "df_clean.drop(columns = ['note'], inplace=True)"
   ]
  },
  {
   "cell_type": "markdown",
   "metadata": {},
   "source": [
    "### drop 'flag' (no added value)"
   ]
  },
  {
   "cell_type": "markdown",
   "metadata": {},
   "source": [
    ":FIXME: :TODO: has yet to be proven!!!"
   ]
  },
  {
   "cell_type": "code",
   "execution_count": 16,
   "metadata": {},
   "outputs": [],
   "source": [
    "# drop column\n",
    "df_clean.drop(columns = ['flag'], inplace=True)"
   ]
  },
  {
   "cell_type": "markdown",
   "metadata": {},
   "source": [
    "## data wrangling"
   ]
  },
  {
   "cell_type": "code",
   "execution_count": 17,
   "metadata": {},
   "outputs": [],
   "source": [
    "# retain original cleaned data for later\n",
    "df_wrangled = df_clean.copy()"
   ]
  },
  {
   "cell_type": "markdown",
   "metadata": {},
   "source": [
    "### split 'element' column into separate columns using 'value' and 'unit'"
   ]
  },
  {
   "cell_type": "code",
   "execution_count": 18,
   "metadata": {},
   "outputs": [
    {
     "data": {
      "text/plain": [
       "False    4093765\n",
       "True       33819\n",
       "Name: count, dtype: int64"
      ]
     },
     "execution_count": 18,
     "metadata": {},
     "output_type": "execute_result"
    }
   ],
   "source": [
    "# check for duplicates regarding composite key with 'element'\n",
    "df_wrangled[['area', 'year', 'item', 'element']].duplicated().value_counts()"
   ]
  },
  {
   "cell_type": "code",
   "execution_count": 19,
   "metadata": {},
   "outputs": [
    {
     "data": {
      "text/plain": [
       "False    4127584\n",
       "Name: count, dtype: int64"
      ]
     },
     "execution_count": 19,
     "metadata": {},
     "output_type": "execute_result"
    }
   ],
   "source": [
    "# check for duplicates regarding composite key with 'element' + 'unit'\n",
    "df_wrangled[['area', 'year', 'item', 'element', 'unit']].duplicated().value_counts()"
   ]
  },
  {
   "cell_type": "markdown",
   "metadata": {},
   "source": [
    "it appears, that for some area-year-item-element combinations, there are duplicate 'value' values present, but with a different 'unit'"
   ]
  },
  {
   "cell_type": "code",
   "execution_count": 20,
   "metadata": {},
   "outputs": [
    {
     "data": {
      "text/html": [
       "<div>\n",
       "<style scoped>\n",
       "    .dataframe tbody tr th:only-of-type {\n",
       "        vertical-align: middle;\n",
       "    }\n",
       "\n",
       "    .dataframe tbody tr th {\n",
       "        vertical-align: top;\n",
       "    }\n",
       "\n",
       "    .dataframe thead th {\n",
       "        text-align: right;\n",
       "    }\n",
       "</style>\n",
       "<table border=\"1\" class=\"dataframe\">\n",
       "  <thead>\n",
       "    <tr style=\"text-align: right;\">\n",
       "      <th></th>\n",
       "      <th>area</th>\n",
       "      <th>item_code</th>\n",
       "      <th>item</th>\n",
       "      <th>element</th>\n",
       "      <th>year</th>\n",
       "      <th>unit</th>\n",
       "      <th>value</th>\n",
       "    </tr>\n",
       "  </thead>\n",
       "  <tbody>\n",
       "    <tr>\n",
       "      <th>0</th>\n",
       "      <td>Afghanistan</td>\n",
       "      <td>221</td>\n",
       "      <td>Almonds, in shell</td>\n",
       "      <td>Area harvested</td>\n",
       "      <td>1961</td>\n",
       "      <td>ha</td>\n",
       "      <td>0.00</td>\n",
       "    </tr>\n",
       "    <tr>\n",
       "      <th>109</th>\n",
       "      <td>Afghanistan</td>\n",
       "      <td>221</td>\n",
       "      <td>Almonds, in shell</td>\n",
       "      <td>Production</td>\n",
       "      <td>1961</td>\n",
       "      <td>t</td>\n",
       "      <td>0.00</td>\n",
       "    </tr>\n",
       "    <tr>\n",
       "      <th>171</th>\n",
       "      <td>Afghanistan</td>\n",
       "      <td>711</td>\n",
       "      <td>Anise, badian, coriander, cumin, caraway, fenn...</td>\n",
       "      <td>Area harvested</td>\n",
       "      <td>1961</td>\n",
       "      <td>ha</td>\n",
       "      <td>0.00</td>\n",
       "    </tr>\n",
       "    <tr>\n",
       "      <th>270</th>\n",
       "      <td>Afghanistan</td>\n",
       "      <td>711</td>\n",
       "      <td>Anise, badian, coriander, cumin, caraway, fenn...</td>\n",
       "      <td>Production</td>\n",
       "      <td>1961</td>\n",
       "      <td>t</td>\n",
       "      <td>0.00</td>\n",
       "    </tr>\n",
       "    <tr>\n",
       "      <th>332</th>\n",
       "      <td>Afghanistan</td>\n",
       "      <td>515</td>\n",
       "      <td>Apples</td>\n",
       "      <td>Area harvested</td>\n",
       "      <td>1961</td>\n",
       "      <td>ha</td>\n",
       "      <td>2220.00</td>\n",
       "    </tr>\n",
       "    <tr>\n",
       "      <th>...</th>\n",
       "      <td>...</td>\n",
       "      <td>...</td>\n",
       "      <td>...</td>\n",
       "      <td>...</td>\n",
       "      <td>...</td>\n",
       "      <td>...</td>\n",
       "      <td>...</td>\n",
       "    </tr>\n",
       "    <tr>\n",
       "      <th>3101662</th>\n",
       "      <td>Zimbabwe</td>\n",
       "      <td>1735</td>\n",
       "      <td>Vegetables Primary</td>\n",
       "      <td>Production</td>\n",
       "      <td>2022</td>\n",
       "      <td>t</td>\n",
       "      <td>235484.51</td>\n",
       "    </tr>\n",
       "    <tr>\n",
       "      <th>3101600</th>\n",
       "      <td>Zimbabwe</td>\n",
       "      <td>1735</td>\n",
       "      <td>Vegetables Primary</td>\n",
       "      <td>Yield</td>\n",
       "      <td>2022</td>\n",
       "      <td>100 g/ha</td>\n",
       "      <td>65856.00</td>\n",
       "    </tr>\n",
       "    <tr>\n",
       "      <th>3097858</th>\n",
       "      <td>Zimbabwe</td>\n",
       "      <td>15</td>\n",
       "      <td>Wheat</td>\n",
       "      <td>Area harvested</td>\n",
       "      <td>2022</td>\n",
       "      <td>ha</td>\n",
       "      <td>38700.00</td>\n",
       "    </tr>\n",
       "    <tr>\n",
       "      <th>3097982</th>\n",
       "      <td>Zimbabwe</td>\n",
       "      <td>15</td>\n",
       "      <td>Wheat</td>\n",
       "      <td>Production</td>\n",
       "      <td>2022</td>\n",
       "      <td>t</td>\n",
       "      <td>200000.00</td>\n",
       "    </tr>\n",
       "    <tr>\n",
       "      <th>3097920</th>\n",
       "      <td>Zimbabwe</td>\n",
       "      <td>15</td>\n",
       "      <td>Wheat</td>\n",
       "      <td>Yield</td>\n",
       "      <td>2022</td>\n",
       "      <td>100 g/ha</td>\n",
       "      <td>51680.00</td>\n",
       "    </tr>\n",
       "  </tbody>\n",
       "</table>\n",
       "<p>4127584 rows × 7 columns</p>\n",
       "</div>"
      ],
      "text/plain": [
       "                area  item_code  \\\n",
       "0        Afghanistan        221   \n",
       "109      Afghanistan        221   \n",
       "171      Afghanistan        711   \n",
       "270      Afghanistan        711   \n",
       "332      Afghanistan        515   \n",
       "...              ...        ...   \n",
       "3101662     Zimbabwe       1735   \n",
       "3101600     Zimbabwe       1735   \n",
       "3097858     Zimbabwe         15   \n",
       "3097982     Zimbabwe         15   \n",
       "3097920     Zimbabwe         15   \n",
       "\n",
       "                                                      item         element  \\\n",
       "0                                        Almonds, in shell  Area harvested   \n",
       "109                                      Almonds, in shell      Production   \n",
       "171      Anise, badian, coriander, cumin, caraway, fenn...  Area harvested   \n",
       "270      Anise, badian, coriander, cumin, caraway, fenn...      Production   \n",
       "332                                                 Apples  Area harvested   \n",
       "...                                                    ...             ...   \n",
       "3101662                                 Vegetables Primary      Production   \n",
       "3101600                                 Vegetables Primary           Yield   \n",
       "3097858                                              Wheat  Area harvested   \n",
       "3097982                                              Wheat      Production   \n",
       "3097920                                              Wheat           Yield   \n",
       "\n",
       "         year      unit      value  \n",
       "0        1961        ha       0.00  \n",
       "109      1961         t       0.00  \n",
       "171      1961        ha       0.00  \n",
       "270      1961         t       0.00  \n",
       "332      1961        ha    2220.00  \n",
       "...       ...       ...        ...  \n",
       "3101662  2022         t  235484.51  \n",
       "3101600  2022  100 g/ha   65856.00  \n",
       "3097858  2022        ha   38700.00  \n",
       "3097982  2022         t  200000.00  \n",
       "3097920  2022  100 g/ha   51680.00  \n",
       "\n",
       "[4127584 rows x 7 columns]"
      ]
     },
     "execution_count": 20,
     "metadata": {},
     "output_type": "execute_result"
    }
   ],
   "source": [
    "df_wrangled.sort_values(['area', 'year', 'item', 'element'])"
   ]
  },
  {
   "cell_type": "code",
   "execution_count": 21,
   "metadata": {},
   "outputs": [
    {
     "data": {
      "text/html": [
       "<div>\n",
       "<style scoped>\n",
       "    .dataframe tbody tr th:only-of-type {\n",
       "        vertical-align: middle;\n",
       "    }\n",
       "\n",
       "    .dataframe tbody tr th {\n",
       "        vertical-align: top;\n",
       "    }\n",
       "\n",
       "    .dataframe thead th {\n",
       "        text-align: right;\n",
       "    }\n",
       "</style>\n",
       "<table border=\"1\" class=\"dataframe\">\n",
       "  <thead>\n",
       "    <tr style=\"text-align: right;\">\n",
       "      <th></th>\n",
       "      <th>area</th>\n",
       "      <th>item_code</th>\n",
       "      <th>item</th>\n",
       "      <th>element</th>\n",
       "      <th>year</th>\n",
       "      <th>unit</th>\n",
       "      <th>value</th>\n",
       "    </tr>\n",
       "  </thead>\n",
       "  <tbody>\n",
       "    <tr>\n",
       "      <th>3189</th>\n",
       "      <td>Afghanistan</td>\n",
       "      <td>1062</td>\n",
       "      <td>Hen eggs in shell, fresh</td>\n",
       "      <td>Yield</td>\n",
       "      <td>1961</td>\n",
       "      <td>No/An</td>\n",
       "      <td>50.0</td>\n",
       "    </tr>\n",
       "    <tr>\n",
       "      <th>3190</th>\n",
       "      <td>Afghanistan</td>\n",
       "      <td>1062</td>\n",
       "      <td>Hen eggs in shell, fresh</td>\n",
       "      <td>Yield</td>\n",
       "      <td>1962</td>\n",
       "      <td>No/An</td>\n",
       "      <td>50.0</td>\n",
       "    </tr>\n",
       "    <tr>\n",
       "      <th>3191</th>\n",
       "      <td>Afghanistan</td>\n",
       "      <td>1062</td>\n",
       "      <td>Hen eggs in shell, fresh</td>\n",
       "      <td>Yield</td>\n",
       "      <td>1963</td>\n",
       "      <td>No/An</td>\n",
       "      <td>50.0</td>\n",
       "    </tr>\n",
       "    <tr>\n",
       "      <th>3192</th>\n",
       "      <td>Afghanistan</td>\n",
       "      <td>1062</td>\n",
       "      <td>Hen eggs in shell, fresh</td>\n",
       "      <td>Yield</td>\n",
       "      <td>1964</td>\n",
       "      <td>No/An</td>\n",
       "      <td>50.0</td>\n",
       "    </tr>\n",
       "    <tr>\n",
       "      <th>3193</th>\n",
       "      <td>Afghanistan</td>\n",
       "      <td>1062</td>\n",
       "      <td>Hen eggs in shell, fresh</td>\n",
       "      <td>Yield</td>\n",
       "      <td>1965</td>\n",
       "      <td>No/An</td>\n",
       "      <td>49.0</td>\n",
       "    </tr>\n",
       "    <tr>\n",
       "      <th>...</th>\n",
       "      <td>...</td>\n",
       "      <td>...</td>\n",
       "      <td>...</td>\n",
       "      <td>...</td>\n",
       "      <td>...</td>\n",
       "      <td>...</td>\n",
       "      <td>...</td>\n",
       "    </tr>\n",
       "    <tr>\n",
       "      <th>4100478</th>\n",
       "      <td>Net Food Importing Developing Countries</td>\n",
       "      <td>1062</td>\n",
       "      <td>Hen eggs in shell, fresh</td>\n",
       "      <td>Production</td>\n",
       "      <td>2018</td>\n",
       "      <td>1000 No</td>\n",
       "      <td>95215864.0</td>\n",
       "    </tr>\n",
       "    <tr>\n",
       "      <th>4100479</th>\n",
       "      <td>Net Food Importing Developing Countries</td>\n",
       "      <td>1062</td>\n",
       "      <td>Hen eggs in shell, fresh</td>\n",
       "      <td>Production</td>\n",
       "      <td>2019</td>\n",
       "      <td>1000 No</td>\n",
       "      <td>100018834.0</td>\n",
       "    </tr>\n",
       "    <tr>\n",
       "      <th>4100480</th>\n",
       "      <td>Net Food Importing Developing Countries</td>\n",
       "      <td>1062</td>\n",
       "      <td>Hen eggs in shell, fresh</td>\n",
       "      <td>Production</td>\n",
       "      <td>2020</td>\n",
       "      <td>1000 No</td>\n",
       "      <td>108112821.0</td>\n",
       "    </tr>\n",
       "    <tr>\n",
       "      <th>4100481</th>\n",
       "      <td>Net Food Importing Developing Countries</td>\n",
       "      <td>1062</td>\n",
       "      <td>Hen eggs in shell, fresh</td>\n",
       "      <td>Production</td>\n",
       "      <td>2021</td>\n",
       "      <td>1000 No</td>\n",
       "      <td>110522710.0</td>\n",
       "    </tr>\n",
       "    <tr>\n",
       "      <th>4100482</th>\n",
       "      <td>Net Food Importing Developing Countries</td>\n",
       "      <td>1062</td>\n",
       "      <td>Hen eggs in shell, fresh</td>\n",
       "      <td>Production</td>\n",
       "      <td>2022</td>\n",
       "      <td>1000 No</td>\n",
       "      <td>112050028.0</td>\n",
       "    </tr>\n",
       "  </tbody>\n",
       "</table>\n",
       "<p>33819 rows × 7 columns</p>\n",
       "</div>"
      ],
      "text/plain": [
       "                                            area  item_code  \\\n",
       "3189                                 Afghanistan       1062   \n",
       "3190                                 Afghanistan       1062   \n",
       "3191                                 Afghanistan       1062   \n",
       "3192                                 Afghanistan       1062   \n",
       "3193                                 Afghanistan       1062   \n",
       "...                                          ...        ...   \n",
       "4100478  Net Food Importing Developing Countries       1062   \n",
       "4100479  Net Food Importing Developing Countries       1062   \n",
       "4100480  Net Food Importing Developing Countries       1062   \n",
       "4100481  Net Food Importing Developing Countries       1062   \n",
       "4100482  Net Food Importing Developing Countries       1062   \n",
       "\n",
       "                             item     element  year     unit        value  \n",
       "3189     Hen eggs in shell, fresh       Yield  1961    No/An         50.0  \n",
       "3190     Hen eggs in shell, fresh       Yield  1962    No/An         50.0  \n",
       "3191     Hen eggs in shell, fresh       Yield  1963    No/An         50.0  \n",
       "3192     Hen eggs in shell, fresh       Yield  1964    No/An         50.0  \n",
       "3193     Hen eggs in shell, fresh       Yield  1965    No/An         49.0  \n",
       "...                           ...         ...   ...      ...          ...  \n",
       "4100478  Hen eggs in shell, fresh  Production  2018  1000 No   95215864.0  \n",
       "4100479  Hen eggs in shell, fresh  Production  2019  1000 No  100018834.0  \n",
       "4100480  Hen eggs in shell, fresh  Production  2020  1000 No  108112821.0  \n",
       "4100481  Hen eggs in shell, fresh  Production  2021  1000 No  110522710.0  \n",
       "4100482  Hen eggs in shell, fresh  Production  2022  1000 No  112050028.0  \n",
       "\n",
       "[33819 rows x 7 columns]"
      ]
     },
     "execution_count": 21,
     "metadata": {},
     "output_type": "execute_result"
    }
   ],
   "source": [
    "df_wrangled[df_wrangled.duplicated(['area', 'year', 'item', 'element'])]#.sort_values(['area', 'year', 'item', 'element'])"
   ]
  },
  {
   "cell_type": "markdown",
   "metadata": {},
   "source": [
    "\n",
    "\n",
    "----\n",
    "\n",
    "\n",
    "ab hier der revision unterlegen !!!!"
   ]
  },
  {
   "cell_type": "code",
   "execution_count": 22,
   "metadata": {},
   "outputs": [
    {
     "data": {
      "text/html": [
       "<div>\n",
       "<style scoped>\n",
       "    .dataframe tbody tr th:only-of-type {\n",
       "        vertical-align: middle;\n",
       "    }\n",
       "\n",
       "    .dataframe tbody tr th {\n",
       "        vertical-align: top;\n",
       "    }\n",
       "\n",
       "    .dataframe thead th {\n",
       "        text-align: right;\n",
       "    }\n",
       "</style>\n",
       "<table border=\"1\" class=\"dataframe\">\n",
       "  <thead>\n",
       "    <tr style=\"text-align: right;\">\n",
       "      <th></th>\n",
       "      <th>area</th>\n",
       "      <th>item_code</th>\n",
       "      <th>item</th>\n",
       "      <th>element</th>\n",
       "      <th>year</th>\n",
       "      <th>unit</th>\n",
       "      <th>value</th>\n",
       "    </tr>\n",
       "  </thead>\n",
       "  <tbody>\n",
       "    <tr>\n",
       "      <th>3251</th>\n",
       "      <td>Afghanistan</td>\n",
       "      <td>1062</td>\n",
       "      <td>Hen eggs in shell, fresh</td>\n",
       "      <td>Production</td>\n",
       "      <td>1961</td>\n",
       "      <td>t</td>\n",
       "      <td>10000.00</td>\n",
       "    </tr>\n",
       "    <tr>\n",
       "      <th>3313</th>\n",
       "      <td>Afghanistan</td>\n",
       "      <td>1062</td>\n",
       "      <td>Hen eggs in shell, fresh</td>\n",
       "      <td>Production</td>\n",
       "      <td>1961</td>\n",
       "      <td>1000 No</td>\n",
       "      <td>200000.00</td>\n",
       "    </tr>\n",
       "    <tr>\n",
       "      <th>3127</th>\n",
       "      <td>Afghanistan</td>\n",
       "      <td>1062</td>\n",
       "      <td>Hen eggs in shell, fresh</td>\n",
       "      <td>Yield</td>\n",
       "      <td>1961</td>\n",
       "      <td>100 mg/An</td>\n",
       "      <td>25000.00</td>\n",
       "    </tr>\n",
       "    <tr>\n",
       "      <th>3189</th>\n",
       "      <td>Afghanistan</td>\n",
       "      <td>1062</td>\n",
       "      <td>Hen eggs in shell, fresh</td>\n",
       "      <td>Yield</td>\n",
       "      <td>1961</td>\n",
       "      <td>No/An</td>\n",
       "      <td>50.00</td>\n",
       "    </tr>\n",
       "    <tr>\n",
       "      <th>3252</th>\n",
       "      <td>Afghanistan</td>\n",
       "      <td>1062</td>\n",
       "      <td>Hen eggs in shell, fresh</td>\n",
       "      <td>Production</td>\n",
       "      <td>1962</td>\n",
       "      <td>t</td>\n",
       "      <td>11000.00</td>\n",
       "    </tr>\n",
       "    <tr>\n",
       "      <th>...</th>\n",
       "      <td>...</td>\n",
       "      <td>...</td>\n",
       "      <td>...</td>\n",
       "      <td>...</td>\n",
       "      <td>...</td>\n",
       "      <td>...</td>\n",
       "      <td>...</td>\n",
       "    </tr>\n",
       "    <tr>\n",
       "      <th>3086761</th>\n",
       "      <td>Zimbabwe</td>\n",
       "      <td>1062</td>\n",
       "      <td>Hen eggs in shell, fresh</td>\n",
       "      <td>Yield</td>\n",
       "      <td>2021</td>\n",
       "      <td>No/An</td>\n",
       "      <td>93.00</td>\n",
       "    </tr>\n",
       "    <tr>\n",
       "      <th>3086824</th>\n",
       "      <td>Zimbabwe</td>\n",
       "      <td>1062</td>\n",
       "      <td>Hen eggs in shell, fresh</td>\n",
       "      <td>Production</td>\n",
       "      <td>2022</td>\n",
       "      <td>t</td>\n",
       "      <td>22163.89</td>\n",
       "    </tr>\n",
       "    <tr>\n",
       "      <th>3086886</th>\n",
       "      <td>Zimbabwe</td>\n",
       "      <td>1062</td>\n",
       "      <td>Hen eggs in shell, fresh</td>\n",
       "      <td>Production</td>\n",
       "      <td>2022</td>\n",
       "      <td>1000 No</td>\n",
       "      <td>461748.00</td>\n",
       "    </tr>\n",
       "    <tr>\n",
       "      <th>3086700</th>\n",
       "      <td>Zimbabwe</td>\n",
       "      <td>1062</td>\n",
       "      <td>Hen eggs in shell, fresh</td>\n",
       "      <td>Yield</td>\n",
       "      <td>2022</td>\n",
       "      <td>100 mg/An</td>\n",
       "      <td>49076.00</td>\n",
       "    </tr>\n",
       "    <tr>\n",
       "      <th>3086762</th>\n",
       "      <td>Zimbabwe</td>\n",
       "      <td>1062</td>\n",
       "      <td>Hen eggs in shell, fresh</td>\n",
       "      <td>Yield</td>\n",
       "      <td>2022</td>\n",
       "      <td>No/An</td>\n",
       "      <td>102.00</td>\n",
       "    </tr>\n",
       "  </tbody>\n",
       "</table>\n",
       "<p>67638 rows × 7 columns</p>\n",
       "</div>"
      ],
      "text/plain": [
       "                area  item_code                      item     element  year  \\\n",
       "3251     Afghanistan       1062  Hen eggs in shell, fresh  Production  1961   \n",
       "3313     Afghanistan       1062  Hen eggs in shell, fresh  Production  1961   \n",
       "3127     Afghanistan       1062  Hen eggs in shell, fresh       Yield  1961   \n",
       "3189     Afghanistan       1062  Hen eggs in shell, fresh       Yield  1961   \n",
       "3252     Afghanistan       1062  Hen eggs in shell, fresh  Production  1962   \n",
       "...              ...        ...                       ...         ...   ...   \n",
       "3086761     Zimbabwe       1062  Hen eggs in shell, fresh       Yield  2021   \n",
       "3086824     Zimbabwe       1062  Hen eggs in shell, fresh  Production  2022   \n",
       "3086886     Zimbabwe       1062  Hen eggs in shell, fresh  Production  2022   \n",
       "3086700     Zimbabwe       1062  Hen eggs in shell, fresh       Yield  2022   \n",
       "3086762     Zimbabwe       1062  Hen eggs in shell, fresh       Yield  2022   \n",
       "\n",
       "              unit      value  \n",
       "3251             t   10000.00  \n",
       "3313       1000 No  200000.00  \n",
       "3127     100 mg/An   25000.00  \n",
       "3189         No/An      50.00  \n",
       "3252             t   11000.00  \n",
       "...            ...        ...  \n",
       "3086761      No/An      93.00  \n",
       "3086824          t   22163.89  \n",
       "3086886    1000 No  461748.00  \n",
       "3086700  100 mg/An   49076.00  \n",
       "3086762      No/An     102.00  \n",
       "\n",
       "[67638 rows x 7 columns]"
      ]
     },
     "execution_count": 22,
     "metadata": {},
     "output_type": "execute_result"
    }
   ],
   "source": [
    "df_clean[df_clean.duplicated(subset=['area', 'year', 'item', 'element'], keep=False)].sort_values(['area', 'year', 'item', 'element'])"
   ]
  },
  {
   "cell_type": "code",
   "execution_count": 23,
   "metadata": {},
   "outputs": [
    {
     "data": {
      "text/html": [
       "<div>\n",
       "<style scoped>\n",
       "    .dataframe tbody tr th:only-of-type {\n",
       "        vertical-align: middle;\n",
       "    }\n",
       "\n",
       "    .dataframe tbody tr th {\n",
       "        vertical-align: top;\n",
       "    }\n",
       "\n",
       "    .dataframe thead th {\n",
       "        text-align: right;\n",
       "    }\n",
       "</style>\n",
       "<table border=\"1\" class=\"dataframe\">\n",
       "  <thead>\n",
       "    <tr style=\"text-align: right;\">\n",
       "      <th></th>\n",
       "      <th>area</th>\n",
       "      <th>item_code</th>\n",
       "      <th>item</th>\n",
       "      <th>element</th>\n",
       "      <th>year</th>\n",
       "      <th>unit</th>\n",
       "      <th>value</th>\n",
       "    </tr>\n",
       "  </thead>\n",
       "  <tbody>\n",
       "    <tr>\n",
       "      <th>0</th>\n",
       "      <td>Afghanistan</td>\n",
       "      <td>221</td>\n",
       "      <td>Almonds, in shell</td>\n",
       "      <td>Area harvested</td>\n",
       "      <td>1961</td>\n",
       "      <td>ha</td>\n",
       "      <td>0.0</td>\n",
       "    </tr>\n",
       "    <tr>\n",
       "      <th>1</th>\n",
       "      <td>Afghanistan</td>\n",
       "      <td>221</td>\n",
       "      <td>Almonds, in shell</td>\n",
       "      <td>Area harvested</td>\n",
       "      <td>1962</td>\n",
       "      <td>ha</td>\n",
       "      <td>0.0</td>\n",
       "    </tr>\n",
       "    <tr>\n",
       "      <th>2</th>\n",
       "      <td>Afghanistan</td>\n",
       "      <td>221</td>\n",
       "      <td>Almonds, in shell</td>\n",
       "      <td>Area harvested</td>\n",
       "      <td>1963</td>\n",
       "      <td>ha</td>\n",
       "      <td>0.0</td>\n",
       "    </tr>\n",
       "    <tr>\n",
       "      <th>3</th>\n",
       "      <td>Afghanistan</td>\n",
       "      <td>221</td>\n",
       "      <td>Almonds, in shell</td>\n",
       "      <td>Area harvested</td>\n",
       "      <td>1964</td>\n",
       "      <td>ha</td>\n",
       "      <td>0.0</td>\n",
       "    </tr>\n",
       "    <tr>\n",
       "      <th>4</th>\n",
       "      <td>Afghanistan</td>\n",
       "      <td>221</td>\n",
       "      <td>Almonds, in shell</td>\n",
       "      <td>Area harvested</td>\n",
       "      <td>1965</td>\n",
       "      <td>ha</td>\n",
       "      <td>0.0</td>\n",
       "    </tr>\n",
       "  </tbody>\n",
       "</table>\n",
       "</div>"
      ],
      "text/plain": [
       "          area  item_code               item         element  year unit  value\n",
       "0  Afghanistan        221  Almonds, in shell  Area harvested  1961   ha    0.0\n",
       "1  Afghanistan        221  Almonds, in shell  Area harvested  1962   ha    0.0\n",
       "2  Afghanistan        221  Almonds, in shell  Area harvested  1963   ha    0.0\n",
       "3  Afghanistan        221  Almonds, in shell  Area harvested  1964   ha    0.0\n",
       "4  Afghanistan        221  Almonds, in shell  Area harvested  1965   ha    0.0"
      ]
     },
     "execution_count": 23,
     "metadata": {},
     "output_type": "execute_result"
    }
   ],
   "source": [
    "df_clean.head()"
   ]
  },
  {
   "cell_type": "markdown",
   "metadata": {},
   "source": [
    "### verify, column 'Unit' has comparable units of measurement"
   ]
  },
  {
   "cell_type": "code",
   "execution_count": 24,
   "metadata": {},
   "outputs": [
    {
     "data": {
      "text/html": [
       "<div>\n",
       "<style scoped>\n",
       "    .dataframe tbody tr th:only-of-type {\n",
       "        vertical-align: middle;\n",
       "    }\n",
       "\n",
       "    .dataframe tbody tr th {\n",
       "        vertical-align: top;\n",
       "    }\n",
       "\n",
       "    .dataframe thead th {\n",
       "        text-align: right;\n",
       "    }\n",
       "</style>\n",
       "<table border=\"1\" class=\"dataframe\">\n",
       "  <thead>\n",
       "    <tr style=\"text-align: right;\">\n",
       "      <th></th>\n",
       "      <th>unit</th>\n",
       "    </tr>\n",
       "  </thead>\n",
       "  <tbody>\n",
       "    <tr>\n",
       "      <th>0</th>\n",
       "      <td>ha</td>\n",
       "    </tr>\n",
       "    <tr>\n",
       "      <th>62</th>\n",
       "      <td>100 g/ha</td>\n",
       "    </tr>\n",
       "    <tr>\n",
       "      <th>109</th>\n",
       "      <td>t</td>\n",
       "    </tr>\n",
       "    <tr>\n",
       "      <th>704</th>\n",
       "      <td>An</td>\n",
       "    </tr>\n",
       "    <tr>\n",
       "      <th>1642</th>\n",
       "      <td>1000 An</td>\n",
       "    </tr>\n",
       "    <tr>\n",
       "      <th>3127</th>\n",
       "      <td>100 mg/An</td>\n",
       "    </tr>\n",
       "    <tr>\n",
       "      <th>3189</th>\n",
       "      <td>No/An</td>\n",
       "    </tr>\n",
       "    <tr>\n",
       "      <th>3313</th>\n",
       "      <td>1000 No</td>\n",
       "    </tr>\n",
       "    <tr>\n",
       "      <th>3871</th>\n",
       "      <td>100 g/An</td>\n",
       "    </tr>\n",
       "    <tr>\n",
       "      <th>4243</th>\n",
       "      <td>0.1 g/An</td>\n",
       "    </tr>\n",
       "    <tr>\n",
       "      <th>15779</th>\n",
       "      <td>No</td>\n",
       "    </tr>\n",
       "    <tr>\n",
       "      <th>55247</th>\n",
       "      <td>100 g</td>\n",
       "    </tr>\n",
       "  </tbody>\n",
       "</table>\n",
       "</div>"
      ],
      "text/plain": [
       "            unit\n",
       "0             ha\n",
       "62      100 g/ha\n",
       "109            t\n",
       "704           An\n",
       "1642     1000 An\n",
       "3127   100 mg/An\n",
       "3189       No/An\n",
       "3313     1000 No\n",
       "3871    100 g/An\n",
       "4243    0.1 g/An\n",
       "15779         No\n",
       "55247      100 g"
      ]
     },
     "execution_count": 24,
     "metadata": {},
     "output_type": "execute_result"
    }
   ],
   "source": [
    "df_clean[['unit']].drop_duplicates()"
   ]
  },
  {
   "cell_type": "markdown",
   "metadata": {},
   "source": [
    ":FIXME: :TODO: comparison for the following needed: 'An' + '1000 An', '100mg/An' + '100g/An' + '0.1g/An', 'No' + '1000 No'"
   ]
  },
  {
   "cell_type": "markdown",
   "metadata": {},
   "source": [
    "# hmmmm"
   ]
  },
  {
   "cell_type": "markdown",
   "metadata": {},
   "source": [
    "Exploring the element column, we see that not all values are relevant for further analysis. According to element definitions, yield is the production per unit of harvested area "
   ]
  },
  {
   "cell_type": "code",
   "execution_count": 25,
   "metadata": {},
   "outputs": [
    {
     "data": {
      "text/plain": [
       "array([1961, 1962, 1963, 1964, 1965, 1966, 1967, 1968, 1969, 1970, 1971,\n",
       "       1972, 1973, 1974, 1975, 1976, 1977, 1978, 1979, 1980, 1981, 1982,\n",
       "       1983, 1984, 1985, 1986, 1987, 1988, 1989, 1990, 1991, 1992, 1993,\n",
       "       1994, 1995, 1996, 1997, 1998, 1999, 2000, 2001, 2002, 2003, 2004,\n",
       "       2005, 2006, 2007, 2008, 2009, 2010, 2011, 2012, 2013, 2014, 2015,\n",
       "       2016, 2017, 2018, 2019, 2020, 2021, 2022])"
      ]
     },
     "execution_count": 25,
     "metadata": {},
     "output_type": "execute_result"
    }
   ],
   "source": [
    "pd.Series(df_raw['year'].unique()).sort_values().to_numpy()"
   ]
  }
 ],
 "metadata": {
  "kernelspec": {
   "display_name": "capstone",
   "language": "python",
   "name": "python3"
  },
  "language_info": {
   "codemirror_mode": {
    "name": "ipython",
    "version": 3
   },
   "file_extension": ".py",
   "mimetype": "text/x-python",
   "name": "python",
   "nbconvert_exporter": "python",
   "pygments_lexer": "ipython3",
   "version": "3.9.18"
  }
 },
 "nbformat": 4,
 "nbformat_minor": 2
}
