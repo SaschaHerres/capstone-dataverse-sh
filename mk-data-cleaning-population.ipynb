{
 "cells": [
  {
   "cell_type": "markdown",
   "metadata": {},
   "source": [
    "### Creating an additional population table"
   ]
  },
  {
   "cell_type": "markdown",
   "metadata": {},
   "source": [
    "Extracting population data from the food balances table in case this data is required for the analysis. "
   ]
  },
  {
   "cell_type": "code",
   "execution_count": 52,
   "metadata": {},
   "outputs": [],
   "source": [
    "# Import packages\n",
    "import pandas as pd\n",
    "import numpy as np \n",
    "import requests \n",
    "import zipfile\n",
    "import psycopg2\n",
    "import sqlalchemy\n",
    "import _functions_sql as fs\n",
    "import _functions_data_files as fdf"
   ]
  },
  {
   "cell_type": "code",
   "execution_count": 53,
   "metadata": {},
   "outputs": [],
   "source": [
    "# Import CSV file\n",
    "source_dir = 'faostat_food'\n",
    "file_name = 'FoodBalanceSheets_E_All_Data_(Normalized).csv'\n",
    "# define converters for 'read_csv' & import file\n",
    "conv = {\n",
    "    'Note': str # handle DtypeWarning not using 'low_memory=False' (deprecated)\n",
    "                # so missing values are now read as empty string ('')\n",
    "}\n",
    "food_balances = pd.read_csv(\n",
    "      fdf.get_file_path(file_name, source_dir)\n",
    "    , encoding='latin-1'\n",
    "    , converters=conv\n",
    ")"
   ]
  },
  {
   "cell_type": "code",
   "execution_count": 54,
   "metadata": {},
   "outputs": [
    {
     "data": {
      "text/html": [
       "<div>\n",
       "<style scoped>\n",
       "    .dataframe tbody tr th:only-of-type {\n",
       "        vertical-align: middle;\n",
       "    }\n",
       "\n",
       "    .dataframe tbody tr th {\n",
       "        vertical-align: top;\n",
       "    }\n",
       "\n",
       "    .dataframe thead th {\n",
       "        text-align: right;\n",
       "    }\n",
       "</style>\n",
       "<table border=\"1\" class=\"dataframe\">\n",
       "  <thead>\n",
       "    <tr style=\"text-align: right;\">\n",
       "      <th></th>\n",
       "      <th>Area Code</th>\n",
       "      <th>Area Code (M49)</th>\n",
       "      <th>Area</th>\n",
       "      <th>Item Code</th>\n",
       "      <th>Item Code (FBS)</th>\n",
       "      <th>Item</th>\n",
       "      <th>Element Code</th>\n",
       "      <th>Element</th>\n",
       "      <th>Year Code</th>\n",
       "      <th>Year</th>\n",
       "      <th>Unit</th>\n",
       "      <th>Value</th>\n",
       "      <th>Flag</th>\n",
       "    </tr>\n",
       "  </thead>\n",
       "  <tbody>\n",
       "    <tr>\n",
       "      <th>0</th>\n",
       "      <td>2</td>\n",
       "      <td>'004</td>\n",
       "      <td>Afghanistan</td>\n",
       "      <td>2501</td>\n",
       "      <td>'S2501</td>\n",
       "      <td>Population</td>\n",
       "      <td>511</td>\n",
       "      <td>Total Population - Both sexes</td>\n",
       "      <td>2010</td>\n",
       "      <td>2010</td>\n",
       "      <td>1000 No</td>\n",
       "      <td>28189.67</td>\n",
       "      <td>X</td>\n",
       "    </tr>\n",
       "    <tr>\n",
       "      <th>1</th>\n",
       "      <td>2</td>\n",
       "      <td>'004</td>\n",
       "      <td>Afghanistan</td>\n",
       "      <td>2501</td>\n",
       "      <td>'S2501</td>\n",
       "      <td>Population</td>\n",
       "      <td>511</td>\n",
       "      <td>Total Population - Both sexes</td>\n",
       "      <td>2011</td>\n",
       "      <td>2011</td>\n",
       "      <td>1000 No</td>\n",
       "      <td>29249.16</td>\n",
       "      <td>X</td>\n",
       "    </tr>\n",
       "    <tr>\n",
       "      <th>2</th>\n",
       "      <td>3</td>\n",
       "      <td>'008</td>\n",
       "      <td>Albania</td>\n",
       "      <td>2501</td>\n",
       "      <td>'S2501</td>\n",
       "      <td>Population</td>\n",
       "      <td>511</td>\n",
       "      <td>Total Population - Both sexes</td>\n",
       "      <td>2010</td>\n",
       "      <td>2010</td>\n",
       "      <td>1000 No</td>\n",
       "      <td>2913.40</td>\n",
       "      <td>X</td>\n",
       "    </tr>\n",
       "    <tr>\n",
       "      <th>3</th>\n",
       "      <td>3</td>\n",
       "      <td>'008</td>\n",
       "      <td>Albania</td>\n",
       "      <td>2501</td>\n",
       "      <td>'S2501</td>\n",
       "      <td>Population</td>\n",
       "      <td>511</td>\n",
       "      <td>Total Population - Both sexes</td>\n",
       "      <td>2011</td>\n",
       "      <td>2011</td>\n",
       "      <td>1000 No</td>\n",
       "      <td>2900.65</td>\n",
       "      <td>X</td>\n",
       "    </tr>\n",
       "    <tr>\n",
       "      <th>4</th>\n",
       "      <td>2</td>\n",
       "      <td>'004</td>\n",
       "      <td>Afghanistan</td>\n",
       "      <td>2501</td>\n",
       "      <td>'S2501</td>\n",
       "      <td>Population</td>\n",
       "      <td>511</td>\n",
       "      <td>Total Population - Both sexes</td>\n",
       "      <td>2012</td>\n",
       "      <td>2012</td>\n",
       "      <td>1000 No</td>\n",
       "      <td>30466.48</td>\n",
       "      <td>X</td>\n",
       "    </tr>\n",
       "  </tbody>\n",
       "</table>\n",
       "</div>"
      ],
      "text/plain": [
       "   Area Code Area Code (M49)         Area  Item Code Item Code (FBS)  \\\n",
       "0          2            '004  Afghanistan       2501          'S2501   \n",
       "1          2            '004  Afghanistan       2501          'S2501   \n",
       "2          3            '008      Albania       2501          'S2501   \n",
       "3          3            '008      Albania       2501          'S2501   \n",
       "4          2            '004  Afghanistan       2501          'S2501   \n",
       "\n",
       "         Item  Element Code                        Element  Year Code  Year  \\\n",
       "0  Population           511  Total Population - Both sexes       2010  2010   \n",
       "1  Population           511  Total Population - Both sexes       2011  2011   \n",
       "2  Population           511  Total Population - Both sexes       2010  2010   \n",
       "3  Population           511  Total Population - Both sexes       2011  2011   \n",
       "4  Population           511  Total Population - Both sexes       2012  2012   \n",
       "\n",
       "      Unit     Value Flag  \n",
       "0  1000 No  28189.67    X  \n",
       "1  1000 No  29249.16    X  \n",
       "2  1000 No   2913.40    X  \n",
       "3  1000 No   2900.65    X  \n",
       "4  1000 No  30466.48    X  "
      ]
     },
     "execution_count": 54,
     "metadata": {},
     "output_type": "execute_result"
    }
   ],
   "source": [
    "food_balances.head()"
   ]
  },
  {
   "cell_type": "code",
   "execution_count": 55,
   "metadata": {},
   "outputs": [
    {
     "data": {
      "text/plain": [
       "Year\n",
       "2021    369154\n",
       "2020    368661\n",
       "2019    366960\n",
       "2017    359076\n",
       "2018    358735\n",
       "2016    357987\n",
       "2014    357970\n",
       "2015    357899\n",
       "2013    357396\n",
       "2012    357061\n",
       "2010    355189\n",
       "2011    354820\n",
       "Name: count, dtype: int64"
      ]
     },
     "execution_count": 55,
     "metadata": {},
     "output_type": "execute_result"
    }
   ],
   "source": [
    "# Check the date range of the table\n",
    "food_balances['Year'].value_counts()"
   ]
  },
  {
   "cell_type": "markdown",
   "metadata": {},
   "source": [
    "Since this data only covers the years between 2010-2021, we want to combine it with an additional dataset covering the years before. "
   ]
  },
  {
   "cell_type": "code",
   "execution_count": 56,
   "metadata": {},
   "outputs": [],
   "source": [
    "# Import CSV file\n",
    "source_dir = 'faostat_food'\n",
    "file_name = 'FoodBalanceSheetsHistoric_E_All_Data_(Normalized).csv'\n",
    "# define converters for 'read_csv' & import file\n",
    "conv = {\n",
    "    'Note': str # handle DtypeWarning not using 'low_memory=False' (deprecated)\n",
    "                # so missing values are now read as empty string ('')\n",
    "}\n",
    "food_balances_hist = pd.read_csv(\n",
    "      fdf.get_file_path(file_name, source_dir)\n",
    "    , encoding='latin-1'\n",
    "    , converters=conv\n",
    ")"
   ]
  },
  {
   "cell_type": "code",
   "execution_count": 57,
   "metadata": {},
   "outputs": [
    {
     "data": {
      "text/plain": [
       "Year\n",
       "2010    231150\n",
       "2009    231150\n",
       "2008    231150\n",
       "2007    231150\n",
       "2006    231150\n",
       "2011    230417\n",
       "2001    230296\n",
       "2002    230296\n",
       "2000    230296\n",
       "2005    230296\n",
       "2004    230296\n",
       "2003    230296\n",
       "2013    230201\n",
       "2012    230201\n",
       "1999    229323\n",
       "1998    229323\n",
       "1997    229323\n",
       "1996    229323\n",
       "1995    229323\n",
       "1994    229323\n",
       "1993    229323\n",
       "1992    227916\n",
       "1991    208024\n",
       "1990    208024\n",
       "1988    206977\n",
       "1989    206977\n",
       "1961    206977\n",
       "1962    206977\n",
       "1986    206977\n",
       "1963    206977\n",
       "1964    206977\n",
       "1965    206977\n",
       "1966    206977\n",
       "1967    206977\n",
       "1968    206977\n",
       "1969    206977\n",
       "1970    206977\n",
       "1971    206977\n",
       "1972    206977\n",
       "1973    206977\n",
       "1974    206977\n",
       "1975    206977\n",
       "1976    206977\n",
       "1977    206977\n",
       "1978    206977\n",
       "1979    206977\n",
       "1980    206977\n",
       "1981    206977\n",
       "1982    206977\n",
       "1983    206977\n",
       "1984    206977\n",
       "1985    206977\n",
       "1987    206977\n",
       "Name: count, dtype: int64"
      ]
     },
     "execution_count": 57,
     "metadata": {},
     "output_type": "execute_result"
    }
   ],
   "source": [
    "# Check the date range of the table\n",
    "food_balances_hist['Year'].value_counts()"
   ]
  },
  {
   "cell_type": "code",
   "execution_count": 58,
   "metadata": {},
   "outputs": [],
   "source": [
    "# Combining the tables\n",
    "food_balances_combined = pd.concat([food_balances,food_balances_hist], ignore_index=True)"
   ]
  },
  {
   "cell_type": "code",
   "execution_count": 59,
   "metadata": {},
   "outputs": [
    {
     "data": {
      "text/plain": [
       "False    15491348\n",
       "True       309463\n",
       "Name: count, dtype: int64"
      ]
     },
     "execution_count": 59,
     "metadata": {},
     "output_type": "execute_result"
    }
   ],
   "source": [
    "# Check for duplicates after combining the tables\n",
    "food_balances_combined.duplicated().value_counts()"
   ]
  },
  {
   "cell_type": "code",
   "execution_count": 60,
   "metadata": {},
   "outputs": [],
   "source": [
    "# Dropping duplicated rows\n",
    "food_balances_combined.drop_duplicates(inplace=True)"
   ]
  },
  {
   "cell_type": "markdown",
   "metadata": {},
   "source": [
    "Looking at the items contained in the dataset, we can see that area population is included along with the food types. We can separate this information into its own table."
   ]
  },
  {
   "cell_type": "code",
   "execution_count": 61,
   "metadata": {},
   "outputs": [
    {
     "data": {
      "text/plain": [
       "array(['Population', 'Grand Total', 'Vegetal Products', 'Animal Products',\n",
       "       'Cereals - Excluding Beer', 'Wheat and products', 'Animal fats',\n",
       "       'Fish, Body Oil', 'Fish, Liver Oil', 'Fish, Seafood',\n",
       "       'Freshwater Fish', 'Demersal Fish', 'Rice and products',\n",
       "       'Pelagic Fish', 'Marine Fish, Other', 'Crustaceans', 'Cephalopods',\n",
       "       'Barley and products', 'Molluscs, Other',\n",
       "       'Aquatic Animals, Others', 'Aquatic Products, Other',\n",
       "       'Aquatic Plants', 'Maize and products', 'Rye and products', 'Oats',\n",
       "       'Millet and products', 'Sorghum and products', 'Cereals, Other',\n",
       "       'Starchy Roots', 'Cassava and products', 'Potatoes and products',\n",
       "       'Sweet potatoes', 'Roots, Other', 'Sugar Crops', 'Sugar cane',\n",
       "       'Sugar & Sweeteners', 'Sugar (Raw Equivalent)', 'Yams',\n",
       "       'Sweeteners, Other', 'Honey', 'Pulses', 'Sugar beet', 'Beans',\n",
       "       'Peas', 'Pulses, Other and products', 'Treenuts',\n",
       "       'Nuts and products', 'Oilcrops', 'Soyabeans', 'Groundnuts',\n",
       "       'Sunflower seed', 'Rape and Mustardseed', 'Coconuts - Incl Copra',\n",
       "       'Sesame seed', 'Olives (including preserved)', 'Oilcrops, Other',\n",
       "       'Vegetable Oils', 'Soyabean Oil', 'Groundnut Oil',\n",
       "       'Rape and Mustard Oil', 'Palm Oil', 'Sunflowerseed Oil',\n",
       "       'Coconut Oil', 'Sesameseed Oil', 'Olive Oil',\n",
       "       'Oilcrops Oil, Other', 'Cottonseed', 'Vegetables',\n",
       "       'Tomatoes and products', 'Onions', 'Vegetables, other',\n",
       "       'Palm kernels', 'Fruits - Excluding Wine', 'Oranges, Mandarines',\n",
       "       'Lemons, Limes and products', 'Grapefruit and products',\n",
       "       'Citrus, Other', 'Bananas', 'Plantains', 'Apples and products',\n",
       "       'Pineapples and products', 'Cottonseed Oil', 'Dates',\n",
       "       'Grapes and products (excl wine)', 'Palmkernel Oil',\n",
       "       'Fruits, other', 'Stimulants', 'Coffee and products',\n",
       "       'Cocoa Beans and products', 'Maize Germ Oil',\n",
       "       'Tea (including mate)', 'Spices', 'Pepper', 'Pimento',\n",
       "       'Spices, Other', 'Alcoholic Beverages', 'Wine', 'Cloves', 'Beer',\n",
       "       'Beverages, Fermented', 'Beverages, Alcoholic',\n",
       "       'Alcohol, Non-Food', 'Meat', 'Bovine Meat', 'Mutton & Goat Meat',\n",
       "       'Pigmeat', 'Poultry Meat', 'Meat, Other', 'Offals',\n",
       "       'Offals, Edible', 'Butter, Ghee', 'Sugar non-centrifugal', 'Cream',\n",
       "       'Fats, Animals, Raw', 'Eggs', 'Milk - Excluding Butter',\n",
       "       'Miscellaneous', 'Infant food', 'Ricebran Oil',\n",
       "       'Meat, Aquatic Mammals', 'Rice (Milled Equivalent)',\n",
       "       'Groundnuts (Shelled Eq)'], dtype=object)"
      ]
     },
     "execution_count": 61,
     "metadata": {},
     "output_type": "execute_result"
    }
   ],
   "source": [
    "# Getting a list of unique values in the element column\n",
    "food_balances_combined['Item'].unique()"
   ]
  },
  {
   "cell_type": "code",
   "execution_count": 62,
   "metadata": {},
   "outputs": [],
   "source": [
    "# Create a population dataframe\n",
    "area_population = food_balances_combined[food_balances_combined['Item'] == 'Population']"
   ]
  },
  {
   "cell_type": "code",
   "execution_count": 63,
   "metadata": {},
   "outputs": [
    {
     "data": {
      "text/html": [
       "<div>\n",
       "<style scoped>\n",
       "    .dataframe tbody tr th:only-of-type {\n",
       "        vertical-align: middle;\n",
       "    }\n",
       "\n",
       "    .dataframe tbody tr th {\n",
       "        vertical-align: top;\n",
       "    }\n",
       "\n",
       "    .dataframe thead th {\n",
       "        text-align: right;\n",
       "    }\n",
       "</style>\n",
       "<table border=\"1\" class=\"dataframe\">\n",
       "  <thead>\n",
       "    <tr style=\"text-align: right;\">\n",
       "      <th></th>\n",
       "      <th>Area Code</th>\n",
       "      <th>Area Code (M49)</th>\n",
       "      <th>Area</th>\n",
       "      <th>Item Code</th>\n",
       "      <th>Item Code (FBS)</th>\n",
       "      <th>Item</th>\n",
       "      <th>Element Code</th>\n",
       "      <th>Element</th>\n",
       "      <th>Year Code</th>\n",
       "      <th>Year</th>\n",
       "      <th>Unit</th>\n",
       "      <th>Value</th>\n",
       "      <th>Flag</th>\n",
       "    </tr>\n",
       "  </thead>\n",
       "  <tbody>\n",
       "    <tr>\n",
       "      <th>0</th>\n",
       "      <td>2</td>\n",
       "      <td>'004</td>\n",
       "      <td>Afghanistan</td>\n",
       "      <td>2501</td>\n",
       "      <td>'S2501</td>\n",
       "      <td>Population</td>\n",
       "      <td>511</td>\n",
       "      <td>Total Population - Both sexes</td>\n",
       "      <td>2010</td>\n",
       "      <td>2010</td>\n",
       "      <td>1000 No</td>\n",
       "      <td>28189.67</td>\n",
       "      <td>X</td>\n",
       "    </tr>\n",
       "    <tr>\n",
       "      <th>1</th>\n",
       "      <td>2</td>\n",
       "      <td>'004</td>\n",
       "      <td>Afghanistan</td>\n",
       "      <td>2501</td>\n",
       "      <td>'S2501</td>\n",
       "      <td>Population</td>\n",
       "      <td>511</td>\n",
       "      <td>Total Population - Both sexes</td>\n",
       "      <td>2011</td>\n",
       "      <td>2011</td>\n",
       "      <td>1000 No</td>\n",
       "      <td>29249.16</td>\n",
       "      <td>X</td>\n",
       "    </tr>\n",
       "    <tr>\n",
       "      <th>2</th>\n",
       "      <td>3</td>\n",
       "      <td>'008</td>\n",
       "      <td>Albania</td>\n",
       "      <td>2501</td>\n",
       "      <td>'S2501</td>\n",
       "      <td>Population</td>\n",
       "      <td>511</td>\n",
       "      <td>Total Population - Both sexes</td>\n",
       "      <td>2010</td>\n",
       "      <td>2010</td>\n",
       "      <td>1000 No</td>\n",
       "      <td>2913.40</td>\n",
       "      <td>X</td>\n",
       "    </tr>\n",
       "    <tr>\n",
       "      <th>3</th>\n",
       "      <td>3</td>\n",
       "      <td>'008</td>\n",
       "      <td>Albania</td>\n",
       "      <td>2501</td>\n",
       "      <td>'S2501</td>\n",
       "      <td>Population</td>\n",
       "      <td>511</td>\n",
       "      <td>Total Population - Both sexes</td>\n",
       "      <td>2011</td>\n",
       "      <td>2011</td>\n",
       "      <td>1000 No</td>\n",
       "      <td>2900.65</td>\n",
       "      <td>X</td>\n",
       "    </tr>\n",
       "    <tr>\n",
       "      <th>4</th>\n",
       "      <td>2</td>\n",
       "      <td>'004</td>\n",
       "      <td>Afghanistan</td>\n",
       "      <td>2501</td>\n",
       "      <td>'S2501</td>\n",
       "      <td>Population</td>\n",
       "      <td>511</td>\n",
       "      <td>Total Population - Both sexes</td>\n",
       "      <td>2012</td>\n",
       "      <td>2012</td>\n",
       "      <td>1000 No</td>\n",
       "      <td>30466.48</td>\n",
       "      <td>X</td>\n",
       "    </tr>\n",
       "  </tbody>\n",
       "</table>\n",
       "</div>"
      ],
      "text/plain": [
       "   Area Code Area Code (M49)         Area  Item Code Item Code (FBS)  \\\n",
       "0          2            '004  Afghanistan       2501          'S2501   \n",
       "1          2            '004  Afghanistan       2501          'S2501   \n",
       "2          3            '008      Albania       2501          'S2501   \n",
       "3          3            '008      Albania       2501          'S2501   \n",
       "4          2            '004  Afghanistan       2501          'S2501   \n",
       "\n",
       "         Item  Element Code                        Element  Year Code  Year  \\\n",
       "0  Population           511  Total Population - Both sexes       2010  2010   \n",
       "1  Population           511  Total Population - Both sexes       2011  2011   \n",
       "2  Population           511  Total Population - Both sexes       2010  2010   \n",
       "3  Population           511  Total Population - Both sexes       2011  2011   \n",
       "4  Population           511  Total Population - Both sexes       2012  2012   \n",
       "\n",
       "      Unit     Value Flag  \n",
       "0  1000 No  28189.67    X  \n",
       "1  1000 No  29249.16    X  \n",
       "2  1000 No   2913.40    X  \n",
       "3  1000 No   2900.65    X  \n",
       "4  1000 No  30466.48    X  "
      ]
     },
     "execution_count": 63,
     "metadata": {},
     "output_type": "execute_result"
    }
   ],
   "source": [
    "area_population.head()"
   ]
  },
  {
   "cell_type": "code",
   "execution_count": 64,
   "metadata": {},
   "outputs": [
    {
     "name": "stderr",
     "output_type": "stream",
     "text": [
      "/var/folders/r1/n_vkkx7s0c56p3j6pvf4pxf40000gn/T/ipykernel_19636/736492247.py:2: SettingWithCopyWarning: \n",
      "A value is trying to be set on a copy of a slice from a DataFrame\n",
      "\n",
      "See the caveats in the documentation: https://pandas.pydata.org/pandas-docs/stable/user_guide/indexing.html#returning-a-view-versus-a-copy\n",
      "  area_population.drop(columns = ['Year Code', 'Area Code (M49)', 'Area Code', 'Item Code (FBS)', 'Item Code', 'Element Code', 'Element', 'Unit', 'Flag'], inplace=True)\n"
     ]
    }
   ],
   "source": [
    "# Drop unneeded columns\n",
    "area_population.drop(columns = ['Year Code', 'Area Code (M49)', 'Area Code', 'Item Code (FBS)', 'Item Code', 'Element Code', 'Element', 'Unit', 'Flag'], inplace=True)"
   ]
  },
  {
   "cell_type": "code",
   "execution_count": 65,
   "metadata": {},
   "outputs": [
    {
     "name": "stderr",
     "output_type": "stream",
     "text": [
      "/var/folders/r1/n_vkkx7s0c56p3j6pvf4pxf40000gn/T/ipykernel_19636/2965575083.py:2: SettingWithCopyWarning: \n",
      "A value is trying to be set on a copy of a slice from a DataFrame\n",
      "\n",
      "See the caveats in the documentation: https://pandas.pydata.org/pandas-docs/stable/user_guide/indexing.html#returning-a-view-versus-a-copy\n",
      "  area_population.rename(columns = {'Area':'area', 'Item':'item', 'Year':'year', 'Value':'total_population'}, inplace=True)\n"
     ]
    }
   ],
   "source": [
    "# Rename the remaining columns\n",
    "area_population.rename(columns = {'Area':'area', 'Item':'item', 'Year':'year', 'Value':'total_population'}, inplace=True)"
   ]
  },
  {
   "cell_type": "code",
   "execution_count": 66,
   "metadata": {},
   "outputs": [],
   "source": [
    "# Multiplying the total_population since the original values are in 1000s\n",
    "area_population.loc[:, 'total_population'] *= 1000"
   ]
  },
  {
   "cell_type": "code",
   "execution_count": 67,
   "metadata": {},
   "outputs": [
    {
     "name": "stdout",
     "output_type": "stream",
     "text": [
      "The fao_population table was imported successfully.\n"
     ]
    }
   ],
   "source": [
    "# Export the table\n",
    "engine = fs.get_engine()\n",
    "schema = 'capstone_envirolytics'\n",
    "table_name = 'fao_population'\n",
    "\n",
    "if engine!=None:\n",
    "    try:\n",
    "        area_population.to_sql(name=table_name, # Name of SQL table\n",
    "                        con=engine, # Engine or connection\n",
    "                        if_exists='replace', # Drop the table before inserting new values \n",
    "                        schema=schema, # Use schema that was defined earlier\n",
    "                        index=False, # Write DataFrame index as a column\n",
    "                        chunksize=5000, # Specify the number of rows in each batch to be written at a time\n",
    "                        method='multi') # Pass multiple values in a single INSERT clause\n",
    "        print(f\"The {table_name} table was imported successfully.\")\n",
    "    # Error handling\n",
    "    except (Exception, psycopg2.DatabaseError) as error:\n",
    "        print(error)\n",
    "        engine = None"
   ]
  }
 ],
 "metadata": {
  "kernelspec": {
   "display_name": "capstone",
   "language": "python",
   "name": "python3"
  },
  "language_info": {
   "codemirror_mode": {
    "name": "ipython",
    "version": 3
   },
   "file_extension": ".py",
   "mimetype": "text/x-python",
   "name": "python",
   "nbconvert_exporter": "python",
   "pygments_lexer": "ipython3",
   "version": "3.9.18"
  }
 },
 "nbformat": 4,
 "nbformat_minor": 2
}
