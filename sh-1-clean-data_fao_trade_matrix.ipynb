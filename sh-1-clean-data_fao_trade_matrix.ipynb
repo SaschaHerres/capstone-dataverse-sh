{
 "cells": [
  {
   "cell_type": "markdown",
   "metadata": {},
   "source": [
    "# [FAO] detailed trade matrix"
   ]
  },
  {
   "cell_type": "code",
   "execution_count": 1,
   "metadata": {},
   "outputs": [],
   "source": [
    "import pandas as pd\n",
    "import numpy as np\n",
    "import re as re\n",
    "\n",
    "import _functions_sql as fs\n",
    "import _functions_data_files as fdf\n",
    "\n",
    "source_dir = 'fao_trade_matrix'\n",
    "source_file = 'Trade_DetailedTradeMatrix_E_All_Data_(Normalized).csv'"
   ]
  },
  {
   "cell_type": "markdown",
   "metadata": {},
   "source": [
    "## import from CSV & show general information"
   ]
  },
  {
   "cell_type": "code",
   "execution_count": 2,
   "metadata": {},
   "outputs": [],
   "source": [
    "# import raw data into a pandas dataframe\n",
    "df_raw = pd.read_csv(\n",
    "      fdf.get_path(source_file, source_dir)\n",
    "    , encoding='latin-1'\n",
    "    , converters={'Note': str} # handle DtypeWarning without 'low_memory=False' \n",
    ")"
   ]
  },
  {
   "cell_type": "code",
   "execution_count": 3,
   "metadata": {},
   "outputs": [
    {
     "data": {
      "text/html": [
       "<div>\n",
       "<style scoped>\n",
       "    .dataframe tbody tr th:only-of-type {\n",
       "        vertical-align: middle;\n",
       "    }\n",
       "\n",
       "    .dataframe tbody tr th {\n",
       "        vertical-align: top;\n",
       "    }\n",
       "\n",
       "    .dataframe thead th {\n",
       "        text-align: right;\n",
       "    }\n",
       "</style>\n",
       "<table border=\"1\" class=\"dataframe\">\n",
       "  <thead>\n",
       "    <tr style=\"text-align: right;\">\n",
       "      <th></th>\n",
       "      <th>Reporter Country Code</th>\n",
       "      <th>Reporter Country Code (M49)</th>\n",
       "      <th>Reporter Countries</th>\n",
       "      <th>Partner Country Code</th>\n",
       "      <th>Partner Country Code (M49)</th>\n",
       "      <th>Partner Countries</th>\n",
       "      <th>Item Code</th>\n",
       "      <th>Item Code (CPC)</th>\n",
       "      <th>Item</th>\n",
       "      <th>Element Code</th>\n",
       "      <th>Element</th>\n",
       "      <th>Year Code</th>\n",
       "      <th>Year</th>\n",
       "      <th>Unit</th>\n",
       "      <th>Value</th>\n",
       "      <th>Flag</th>\n",
       "    </tr>\n",
       "  </thead>\n",
       "  <tbody>\n",
       "    <tr>\n",
       "      <th>0</th>\n",
       "      <td>2</td>\n",
       "      <td>'004</td>\n",
       "      <td>Afghanistan</td>\n",
       "      <td>4</td>\n",
       "      <td>'012</td>\n",
       "      <td>Algeria</td>\n",
       "      <td>230</td>\n",
       "      <td>'21424</td>\n",
       "      <td>Cashew nuts, shelled</td>\n",
       "      <td>5910</td>\n",
       "      <td>Export Quantity</td>\n",
       "      <td>2016</td>\n",
       "      <td>2016</td>\n",
       "      <td>t</td>\n",
       "      <td>3.0</td>\n",
       "      <td>X</td>\n",
       "    </tr>\n",
       "    <tr>\n",
       "      <th>1</th>\n",
       "      <td>2</td>\n",
       "      <td>'004</td>\n",
       "      <td>Afghanistan</td>\n",
       "      <td>4</td>\n",
       "      <td>'012</td>\n",
       "      <td>Algeria</td>\n",
       "      <td>230</td>\n",
       "      <td>'21424</td>\n",
       "      <td>Cashew nuts, shelled</td>\n",
       "      <td>5922</td>\n",
       "      <td>Export Value</td>\n",
       "      <td>2016</td>\n",
       "      <td>2016</td>\n",
       "      <td>1000 USD</td>\n",
       "      <td>23.0</td>\n",
       "      <td>X</td>\n",
       "    </tr>\n",
       "    <tr>\n",
       "      <th>2</th>\n",
       "      <td>3</td>\n",
       "      <td>'008</td>\n",
       "      <td>Albania</td>\n",
       "      <td>3</td>\n",
       "      <td>'008</td>\n",
       "      <td>Albania</td>\n",
       "      <td>828</td>\n",
       "      <td>'25020.01</td>\n",
       "      <td>Cigarettes</td>\n",
       "      <td>5610</td>\n",
       "      <td>Import Quantity</td>\n",
       "      <td>2004</td>\n",
       "      <td>2004</td>\n",
       "      <td>t</td>\n",
       "      <td>12.0</td>\n",
       "      <td>A</td>\n",
       "    </tr>\n",
       "    <tr>\n",
       "      <th>3</th>\n",
       "      <td>3</td>\n",
       "      <td>'008</td>\n",
       "      <td>Albania</td>\n",
       "      <td>3</td>\n",
       "      <td>'008</td>\n",
       "      <td>Albania</td>\n",
       "      <td>828</td>\n",
       "      <td>'25020.01</td>\n",
       "      <td>Cigarettes</td>\n",
       "      <td>5622</td>\n",
       "      <td>Import Value</td>\n",
       "      <td>2004</td>\n",
       "      <td>2004</td>\n",
       "      <td>1000 USD</td>\n",
       "      <td>104.0</td>\n",
       "      <td>A</td>\n",
       "    </tr>\n",
       "    <tr>\n",
       "      <th>4</th>\n",
       "      <td>4</td>\n",
       "      <td>'012</td>\n",
       "      <td>Algeria</td>\n",
       "      <td>2</td>\n",
       "      <td>'004</td>\n",
       "      <td>Afghanistan</td>\n",
       "      <td>231</td>\n",
       "      <td>'21422</td>\n",
       "      <td>Almonds, shelled</td>\n",
       "      <td>5610</td>\n",
       "      <td>Import Quantity</td>\n",
       "      <td>2005</td>\n",
       "      <td>2005</td>\n",
       "      <td>t</td>\n",
       "      <td>3.0</td>\n",
       "      <td>A</td>\n",
       "    </tr>\n",
       "  </tbody>\n",
       "</table>\n",
       "</div>"
      ],
      "text/plain": [
       "   Reporter Country Code Reporter Country Code (M49) Reporter Countries  \\\n",
       "0                      2                        '004        Afghanistan   \n",
       "1                      2                        '004        Afghanistan   \n",
       "2                      3                        '008            Albania   \n",
       "3                      3                        '008            Albania   \n",
       "4                      4                        '012            Algeria   \n",
       "\n",
       "   Partner Country Code Partner Country Code (M49) Partner Countries  \\\n",
       "0                     4                       '012           Algeria   \n",
       "1                     4                       '012           Algeria   \n",
       "2                     3                       '008           Albania   \n",
       "3                     3                       '008           Albania   \n",
       "4                     2                       '004       Afghanistan   \n",
       "\n",
       "   Item Code Item Code (CPC)                  Item  Element Code  \\\n",
       "0        230          '21424  Cashew nuts, shelled          5910   \n",
       "1        230          '21424  Cashew nuts, shelled          5922   \n",
       "2        828       '25020.01            Cigarettes          5610   \n",
       "3        828       '25020.01            Cigarettes          5622   \n",
       "4        231          '21422      Almonds, shelled          5610   \n",
       "\n",
       "           Element  Year Code  Year      Unit  Value Flag  \n",
       "0  Export Quantity       2016  2016         t    3.0    X  \n",
       "1     Export Value       2016  2016  1000 USD   23.0    X  \n",
       "2  Import Quantity       2004  2004         t   12.0    A  \n",
       "3     Import Value       2004  2004  1000 USD  104.0    A  \n",
       "4  Import Quantity       2005  2005         t    3.0    A  "
      ]
     },
     "execution_count": 3,
     "metadata": {},
     "output_type": "execute_result"
    }
   ],
   "source": [
    "# show first data rows\n",
    "df_raw.head()"
   ]
  },
  {
   "cell_type": "code",
   "execution_count": 4,
   "metadata": {},
   "outputs": [
    {
     "name": "stdout",
     "output_type": "stream",
     "text": [
      "<class 'pandas.core.frame.DataFrame'>\n",
      "RangeIndex: 49159659 entries, 0 to 49159658\n",
      "Data columns (total 16 columns):\n",
      " #   Column                       Dtype  \n",
      "---  ------                       -----  \n",
      " 0   Reporter Country Code        int64  \n",
      " 1   Reporter Country Code (M49)  object \n",
      " 2   Reporter Countries           object \n",
      " 3   Partner Country Code         int64  \n",
      " 4   Partner Country Code (M49)   object \n",
      " 5   Partner Countries            object \n",
      " 6   Item Code                    int64  \n",
      " 7   Item Code (CPC)              object \n",
      " 8   Item                         object \n",
      " 9   Element Code                 int64  \n",
      " 10  Element                      object \n",
      " 11  Year Code                    int64  \n",
      " 12  Year                         int64  \n",
      " 13  Unit                         object \n",
      " 14  Value                        float64\n",
      " 15  Flag                         object \n",
      "dtypes: float64(1), int64(6), object(9)\n",
      "memory usage: 5.9+ GB\n"
     ]
    }
   ],
   "source": [
    "# show table summary\n",
    "df_raw.info()"
   ]
  },
  {
   "cell_type": "code",
   "execution_count": 5,
   "metadata": {},
   "outputs": [
    {
     "data": {
      "text/plain": [
       "False    49159659\n",
       "Name: count, dtype: int64"
      ]
     },
     "execution_count": 5,
     "metadata": {},
     "output_type": "execute_result"
    }
   ],
   "source": [
    "# show full duplicates\n",
    "df_raw.duplicated().value_counts()"
   ]
  },
  {
   "cell_type": "code",
   "execution_count": 6,
   "metadata": {},
   "outputs": [
    {
     "data": {
      "text/plain": [
       "Reporter Country Code  Reporter Country Code (M49)  Reporter Countries  Partner Country Code  Partner Country Code (M49)  Partner Countries  Item Code  Item Code (CPC)  Item   Element Code  Element  Year Code  Year   Unit   Value  Flag \n",
       "False                  False                        False               False                 False                       False              False      False            False  False         False    False      False  False  False  False    49159659\n",
       "Name: count, dtype: int64"
      ]
     },
     "execution_count": 6,
     "metadata": {},
     "output_type": "execute_result"
    }
   ],
   "source": [
    "# show null values\n",
    "df_raw.isnull().value_counts()"
   ]
  },
  {
   "cell_type": "code",
   "execution_count": 11,
   "metadata": {},
   "outputs": [
    {
     "data": {
      "text/plain": [
       "[1986,\n",
       " 1987,\n",
       " 1988,\n",
       " 1989,\n",
       " 1990,\n",
       " 1991,\n",
       " 1992,\n",
       " 1993,\n",
       " 1994,\n",
       " 1995,\n",
       " 1996,\n",
       " 1997,\n",
       " 1998,\n",
       " 1999,\n",
       " 2000,\n",
       " 2001,\n",
       " 2002,\n",
       " 2003,\n",
       " 2004,\n",
       " 2005,\n",
       " 2006,\n",
       " 2007,\n",
       " 2008,\n",
       " 2009,\n",
       " 2010,\n",
       " 2011,\n",
       " 2012,\n",
       " 2013,\n",
       " 2014,\n",
       " 2015,\n",
       " 2016,\n",
       " 2017,\n",
       " 2018,\n",
       " 2019,\n",
       " 2020,\n",
       " 2021,\n",
       " 2022]"
      ]
     },
     "execution_count": 11,
     "metadata": {},
     "output_type": "execute_result"
    }
   ],
   "source": [
    "# show time span of rows\n",
    "sorted(df_raw['Year'].unique())"
   ]
  }
 ],
 "metadata": {
  "kernelspec": {
   "display_name": "nf_sql",
   "language": "python",
   "name": "python3"
  },
  "language_info": {
   "codemirror_mode": {
    "name": "ipython",
    "version": 3
   },
   "file_extension": ".py",
   "mimetype": "text/x-python",
   "name": "python",
   "nbconvert_exporter": "python",
   "pygments_lexer": "ipython3",
   "version": "3.9.18"
  }
 },
 "nbformat": 4,
 "nbformat_minor": 2
}
