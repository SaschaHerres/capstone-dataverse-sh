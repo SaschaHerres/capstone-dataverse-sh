{
 "cells": [
  {
   "cell_type": "code",
   "execution_count": 1,
   "metadata": {},
   "outputs": [],
   "source": [
    "import pandas as pd\n",
    "import matplotlib.pyplot as plt\n",
    "import _functions_sql as fs\n",
    "import numpy as np\n",
    "import seaborn as sns"
   ]
  },
  {
   "cell_type": "code",
   "execution_count": 2,
   "metadata": {},
   "outputs": [],
   "source": [
    "import matplotlib\n",
    "from matplotlib import font_manager\n",
    "font_dirs = [\"/Users/cornelialutz/Library/Fonts\"]  # The path to the custom font file.\n",
    "font_files = font_manager.findSystemFonts(fontpaths=font_dirs)\n",
    "\n",
    "for font_file in font_files:\n",
    "    font_manager.fontManager.addfont(font_file)"
   ]
  },
  {
   "cell_type": "code",
   "execution_count": 3,
   "metadata": {},
   "outputs": [],
   "source": [
    "# import from database\n",
    "df_prod_emis = fs.get_dataframe(\"SELECT * from production_and_emissions_new\")"
   ]
  },
  {
   "cell_type": "code",
   "execution_count": null,
   "metadata": {},
   "outputs": [],
   "source": [
    "df_prod_emis['prod_pop'] = df_prod_emis['production_in_t'] / df_prod_emis['population']\n",
    "df_prod_emis['emis_pop'] = df_prod_emis['emissions_co2eq_combined_in_kt'] / df_prod_emis['population']\n",
    "df_prod_emis = df_prod_emis[df_prod_emis['item_category'] != 'Live Animals']\n",
    "df_prod_emis = df_prod_emis[~df_prod_emis['country'].isin(['China, mainland', 'China, Hong Kong SAR', 'China, Macao SAR', 'China, Taiwan Province of'])]"
   ]
  },
  {
   "cell_type": "code",
   "execution_count": null,
   "metadata": {},
   "outputs": [],
   "source": [
    "df_prod_emis.info()"
   ]
  },
  {
   "cell_type": "markdown",
   "metadata": {},
   "source": [
    "## World food production"
   ]
  },
  {
   "cell_type": "code",
   "execution_count": null,
   "metadata": {},
   "outputs": [],
   "source": [
    "world_production = df_prod_emis[(df_prod_emis.country == 'World') & (df_prod_emis.year != 2021)]\n",
    "continent_production = df_prod_emis[(df_prod_emis.country != 'World') & (df_prod_emis.year != 2021)]"
   ]
  },
  {
   "cell_type": "code",
   "execution_count": null,
   "metadata": {},
   "outputs": [],
   "source": [
    "item_categories = world_production.item_category.unique().tolist()\n",
    "item_groups_crops_primary = world_production[(world_production.item_group != '-') & (world_production.item_category == 'Crops, primary')].item_group.unique().tolist()\n",
    "item_groups_livestock_primary = world_production[(world_production.item_group != '-') & (world_production.item_category == 'Livestock primary')].item_group.unique().tolist()\n",
    "item_groups_livestock_processed = world_production[(world_production.item_group != '-') & (world_production.item_category == 'Livestock processed')].item_group.unique().tolist()\n",
    "continents = continent_production.continent.unique().tolist()"
   ]
  },
  {
   "cell_type": "code",
   "execution_count": null,
   "metadata": {},
   "outputs": [],
   "source": [
    "world_production_grouped_0 = world_production[['year', 'population']].groupby(['year'], as_index=False).max()\n",
    "world_production_grouped_5 = continent_production[['year', 'country', 'continent', 'population']].groupby(['year', 'country', 'continent'], as_index=False).max()\n",
    "world_production_grouped_5 = world_production_grouped_5[['year', 'continent', 'population']].groupby(['year', 'continent'], as_index=False).sum()\n",
    "world_production_grouped_1 = world_production[['year', 'production_in_t']].groupby(['year'], as_index=False).sum()\n",
    "world_production_grouped_2 = world_production[['year', 'prod_pop']].groupby(['year'], as_index=False).sum()\n",
    "world_production_grouped_6 = world_production[['year', 'item_category', 'prod_pop']].groupby(['year', 'item_category'], as_index=False).sum()\n",
    "world_production_grouped_3 = world_production[['year', 'item_category', 'production_in_t']].groupby(['year', 'item_category'], as_index=False).sum()\n",
    "world_production_grouped_4 = world_production[['year', 'item_group', 'production_in_t']].groupby(['year', 'item_group'], as_index=False).sum()\n",
    "\n",
    "fig, axes = plt.subplots(3, 3, figsize=(22, 18))\n",
    "plt.rcParams['font.family'] = 'Cairo'\n",
    "\n",
    "world_production_grouped_0.plot(x='year', y='population', ax=axes[0][0])\n",
    "axes[0][0].legend()\n",
    "axes[0][0].set_ylabel('Population')\n",
    "axes[0][0].set_title('World population')\n",
    "\n",
    "for continent in continents:\n",
    "    world_production_grouped_5[world_production_grouped_5.continent == continent].plot(x='year', y='population', ax=axes[0][1], label=continent)\n",
    "    axes[0][1].legend()\n",
    "    axes[0][1].set_ylabel('Population')\n",
    "    axes[0][1].set_title('World population per continent')\n",
    "\n",
    "world_production_grouped_1.plot(x='year', y='production_in_t', ax=axes[0][2])\n",
    "axes[0][2].legend()\n",
    "axes[0][2].set_ylabel('Production in t')\n",
    "axes[0][2].set_title('Overall food production')\n",
    "\n",
    "world_production_grouped_2.plot(x='year', y='prod_pop', ax=axes[1][0])\n",
    "axes[1][0].legend()\n",
    "axes[1][0].set_ylabel('Production in t')\n",
    "axes[1][0].set_title('Overall food production per capita')\n",
    "\n",
    "# Iterate over item categories\n",
    "for item_category in item_categories:\n",
    "    world_production_grouped_3[world_production_grouped_3.item_category == item_category].plot(x='year', y='production_in_t', ax=axes[1][1], label=item_category)\n",
    "    axes[1][1].legend()\n",
    "    axes[1][1].set_ylabel('Production in t')\n",
    "    axes[1][1].set_title('Item categories')\n",
    "\n",
    "# Iterate over item categories\n",
    "for item_category in item_categories:\n",
    "    world_production_grouped_6[world_production_grouped_6.item_category == item_category].plot(x='year', y='prod_pop', ax=axes[1][2], label=item_category)\n",
    "    axes[1][2].legend()\n",
    "    axes[1][2].set_ylabel('Production in t')\n",
    "    axes[1][2].set_title('Item categories per capita')\n",
    "\n",
    "# Iterate over item groups for primary crops\n",
    "for item_group in item_groups_crops_primary:\n",
    "    world_production_grouped_4[world_production_grouped_4.item_group == item_group].plot(x='year', y='production_in_t', ax=axes[2][0], label=item_group)\n",
    "    axes[2][0].legend()\n",
    "    axes[2][0].set_ylabel('Production in t')\n",
    "    axes[2][0].set_title('Item groups, Primary Crops')\n",
    "\n",
    "# Iterate over item groups for primary livestock\n",
    "for item_group in item_groups_livestock_primary:\n",
    "    world_production_grouped_4[world_production_grouped_4.item_group == item_group].plot(x='year', y='production_in_t', ax=axes[2][1], label=item_group)\n",
    "    axes[2][1].legend()\n",
    "    axes[2][1].set_ylabel('Production in t')\n",
    "    axes[2][1].set_title('Item groups, Primary Livestock')\n",
    "\n",
    "# Iterate over item groups for processed livestock\n",
    "for item_group in item_groups_livestock_processed:\n",
    "    world_production_grouped_4[world_production_grouped_4.item_group == item_group].plot(x='year', y='production_in_t', ax=axes[2][2], label=item_group)\n",
    "    axes[2][2].legend()\n",
    "    axes[2][2].set_ylabel('Production in t')\n",
    "    axes[2][2].set_title('Item groups, Processed Livestock')"
   ]
  },
  {
   "cell_type": "code",
   "execution_count": null,
   "metadata": {},
   "outputs": [],
   "source": [
    "world_production_2020 = world_production[df_prod_emis.year == 2020]"
   ]
  },
  {
   "cell_type": "code",
   "execution_count": null,
   "metadata": {},
   "outputs": [],
   "source": [
    "world_production_2020_grouped_1 = world_production_2020[world_production_2020.item_category == 'Crops, primary']\n",
    "world_production_2020_grouped_1 = world_production_2020_grouped_1[['item', 'production_in_t']].groupby(['item'], as_index=False).agg('sum').sort_values(by='production_in_t', ascending=False)\n",
    "world_production_2020_grouped_2 = world_production_2020[world_production_2020.item_category == 'Livestock primary']\n",
    "world_production_2020_grouped_2 = world_production_2020_grouped_2[['item', 'production_in_t']].groupby(['item'], as_index=False).agg('sum').sort_values(by='production_in_t', ascending=False)\n",
    "\n",
    "# Plot the top-10 agricultural emissions producers\n",
    "fig, axes = plt.subplots(1, 2, figsize=(20, 8))\n",
    "\n",
    "world_production_2020_grouped_1.head(10).plot.bar(x='item', y='production_in_t', ax=axes[0])\n",
    "axes[0].set_title(' Top 10 Items in Primary Crops')\n",
    "axes[0].set_xlabel('')\n",
    "axes[0].legend('')\n",
    "axes[0].set_ylabel('Production in t')\n",
    "\n",
    "world_production_2020_grouped_2.head(10).plot.bar(x='item', y='production_in_t', ax=axes[1])\n",
    "axes[1].set_title('Top-10 Items in Primary Livestock')\n",
    "axes[1].set_xlabel('')\n",
    "axes[1].legend('')\n",
    "axes[1].set_ylabel('Production in t')"
   ]
  },
  {
   "cell_type": "markdown",
   "metadata": {},
   "source": [
    "## World emissions by food production"
   ]
  },
  {
   "cell_type": "code",
   "execution_count": null,
   "metadata": {},
   "outputs": [],
   "source": [
    "world_emissions = df_prod_emis[(df_prod_emis.country == 'World') & (df_prod_emis.year != 2021) & (df_prod_emis.emissions_co2eq_combined_in_kt.notnull())]"
   ]
  },
  {
   "cell_type": "markdown",
   "metadata": {},
   "source": [
    "### Total emissions in kt"
   ]
  },
  {
   "cell_type": "code",
   "execution_count": null,
   "metadata": {},
   "outputs": [],
   "source": [
    "item_categories = world_emissions.item_category.unique().tolist()\n",
    "item_groups = world_emissions.item_group.unique().tolist()\n",
    "items = world_emissions.item.unique().tolist()\n",
    "meat = list(filter(lambda x: 'Meat' in x, items))\n",
    "milk_eggs = list(filter(lambda x: 'Raw milk' in x or 'Hen eggs' in x, items))\n",
    "rice_wheat_maize = list(filter(lambda x: 'Rice' in x or 'Wheat' in x or 'Maize' in x, items))\n",
    "remaining = list(set(items) - set(meat + milk_eggs + rice_wheat_maize))"
   ]
  },
  {
   "cell_type": "code",
   "execution_count": null,
   "metadata": {},
   "outputs": [],
   "source": [
    "world_emissions_grouped_0 = world_emissions[['year', 'population']].groupby(['year'], as_index=False).max()\n",
    "world_emissions_grouped_5 = world_emissions[['year', 'emissions_co2eq_combined_in_kt']].groupby(['year'], as_index=False).sum()\n",
    "world_emissions_grouped_6 = world_emissions[['year', 'emis_pop']].groupby(['year'], as_index=False).sum()\n",
    "world_emissions_grouped_1 = world_emissions[['item_category', 'year', 'emissions_co2eq_combined_in_kt']].groupby(['item_category', 'year'], as_index=False).agg('mean')\n",
    "world_emissions_grouped_2 = world_emissions[['item_group', 'year', 'emissions_co2eq_combined_in_kt']].groupby(['item_group', 'year'], as_index=False).agg('mean')\n",
    "world_emissions_grouped_3 = world_emissions[['item', 'year', 'emissions_co2eq_combined_in_kt']].groupby(['item', 'year'], as_index=False).agg('mean')\n",
    "\n",
    "fig, axes = plt.subplots(3, 3, figsize=(22, 18))\n",
    "\n",
    "world_emissions_grouped_0.plot(x='year', y='population', ax=axes[0][0])\n",
    "axes[0][0].legend()\n",
    "axes[0][0].set_ylabel('Population')\n",
    "axes[0][0].set_title('World population')\n",
    "\n",
    "world_emissions_grouped_5.plot(x='year', y='emissions_co2eq_combined_in_kt', ax=axes[0][1])\n",
    "axes[0][1].legend()\n",
    "axes[0][1].set_ylabel('Emissions in kt (CO2 eq)')\n",
    "axes[0][1].set_title('Overall food emissions (CO2 eq)')\n",
    "\n",
    "world_emissions_grouped_6.plot(x='year', y='emis_pop', ax=axes[0][2])\n",
    "axes[0][2].legend()\n",
    "axes[0][2].set_ylabel('Emissions in kt (CO2 eq)')\n",
    "axes[0][2].set_title('Overall food emissions per capita (CO2 eq)')\n",
    "\n",
    "# Iterate over item categories\n",
    "for item_category in item_categories:\n",
    "    world_emissions_grouped_1[world_emissions_grouped_1.item_category == item_category].plot(x='year', y='emissions_co2eq_combined_in_kt', ax=axes[1][0], label=item_category)\n",
    "    axes[1][0].legend()\n",
    "    axes[1][0].set_ylabel('Emissions in kt (CO2 eq)')\n",
    "    axes[1][0].set_title('Item categories')\n",
    "\n",
    "# Iterate over item groups\n",
    "for item_group in item_groups:\n",
    "    world_emissions_grouped_2[world_emissions_grouped_2.item_group == item_group].plot(x='year', y='emissions_co2eq_combined_in_kt', ax=axes[1][1], label=item_group)\n",
    "    axes[1][1].legend()\n",
    "    axes[1][1].set_ylabel('Emissions in kt (CO2 eq)')\n",
    "    axes[1][1].set_title('Item groups')\n",
    "\n",
    "# Iterate over meat items\n",
    "for item in meat:\n",
    "    world_emissions_grouped_3[world_emissions_grouped_3.item == item].plot(x='year', y='emissions_co2eq_combined_in_kt', ax=axes[1][2], label=item)\n",
    "    axes[1][2].legend()\n",
    "    axes[1][2].set_ylabel('Emissions in kt (CO2 eq)')\n",
    "    axes[1][2].set_title('Meat')\n",
    "\n",
    "# Iterate over milk and eggs items\n",
    "for item in milk_eggs:\n",
    "    world_emissions_grouped_3[world_emissions_grouped_3.item == item].plot(x='year', y='emissions_co2eq_combined_in_kt', ax=axes[2][0], label=item)\n",
    "    axes[2][0].legend()\n",
    "    axes[2][0].set_ylabel('Emissions in kt (CO2 eq)')\n",
    "    axes[2][0].set_title('Milk and eggs')\n",
    "\n",
    "# Iterate over rice, wheat and maize items\n",
    "for item in rice_wheat_maize:\n",
    "    world_emissions_grouped_3[world_emissions_grouped_3.item == item].plot(x='year', y='emissions_co2eq_combined_in_kt', ax=axes[2][1], label=item)\n",
    "    axes[2][1].legend()\n",
    "    axes[2][1].set_ylabel('Emissions in kt (CO2 eq)')\n",
    "    axes[2][1].set_title('Rice, wheat and maize')\n",
    "\n",
    "    \n",
    "# Iterate over remaining items\n",
    "for item in remaining:\n",
    "    world_emissions_grouped_3[world_emissions_grouped_3.item == item].plot(x='year', y='emissions_co2eq_combined_in_kt', ax=axes[2][2], label=item)\n",
    "    axes[2][2].legend()\n",
    "    axes[2][2].set_ylabel('Emissions in kt (CO2 eq)')\n",
    "    axes[2][2].set_title('Other Crops')"
   ]
  },
  {
   "cell_type": "code",
   "execution_count": null,
   "metadata": {},
   "outputs": [],
   "source": [
    "world_emissions_grouped_4 = world_emissions[['item_category', 'year', 'production_in_t', 'emissions_co2eq_combined_in_kt']].groupby(['item_category', 'year'], as_index=False).agg('sum')\n",
    "\n",
    "x = world_emissions_grouped_4.groupby(['year']).max()\n",
    "x['year'] = x.index\n",
    "x = x.year\n",
    "\n",
    "y1 = world_emissions_grouped_4[world_emissions_grouped_4['item_category'] == 'Crops, primary'].production_in_t\n",
    "y2 = world_emissions_grouped_4[world_emissions_grouped_4['item_category'] == 'Livestock primary'].production_in_t\n",
    "\n",
    "z1 = world_emissions_grouped_4[world_emissions_grouped_4['item_category'] == 'Crops, primary'].emissions_co2eq_combined_in_kt\n",
    "z2 = world_emissions_grouped_4[world_emissions_grouped_4['item_category'] == 'Livestock primary'].emissions_co2eq_combined_in_kt\n",
    "\n",
    "fig, axes = plt.subplots(1, 2, figsize=(20, 7))\n",
    "\n",
    "axes[0].stackplot(x, y1, y2, labels=world_emissions_grouped_4.item_category.unique().tolist())\n",
    "axes[0].legend(loc='upper left')\n",
    "axes[0].set_ylabel('Production in t')\n",
    "axes[0].set_title('Production', fontsize=16)\n",
    "\n",
    "axes[1].stackplot(x, z1, z2, labels=world_emissions_grouped_4.item_category.unique().tolist())\n",
    "axes[1].legend(loc='upper left')\n",
    "axes[1].set_ylabel('Emissions in kt (CO2 eq)')\n",
    "axes[1].set_title('Emissions', fontsize=16)"
   ]
  },
  {
   "cell_type": "code",
   "execution_count": null,
   "metadata": {},
   "outputs": [],
   "source": [
    "def meat_type(food_item):\n",
    "    if food_item == 'Meat of cattle with the bone, fresh or chilled':\n",
    "        return 'cattle'\n",
    "    elif food_item == 'Meat of pig with the bone, fresh or chilled':\n",
    "        return 'pigs'\n",
    "    elif food_item == 'Meat of chickens, fresh or chilled':\n",
    "        return 'chickens'\n",
    "    elif food_item == 'Meat of buffalo, fresh or chilled':\n",
    "        return 'buffalo'\n",
    "    elif food_item == 'Meat of goat, fresh or chilled':\n",
    "        return 'goat'\n",
    "    elif food_item == 'Meat of sheep, fresh or chilled':\n",
    "        return 'sheep'\n",
    "    return 'meat of other animals'\n",
    "\n",
    "world_emissions_meat= world_emissions[world_emissions.item_group == 'Meat, Total']\n",
    "world_emissions_meat['meat_type'] = world_emissions_meat.item.apply(lambda x: meat_type(x))"
   ]
  },
  {
   "cell_type": "code",
   "execution_count": null,
   "metadata": {},
   "outputs": [],
   "source": [
    "meat_short = world_emissions_meat.meat_type.unique().tolist()\n",
    "meat_short"
   ]
  },
  {
   "cell_type": "code",
   "execution_count": null,
   "metadata": {},
   "outputs": [],
   "source": [
    "world_emissions_grouped_7 = world_emissions_meat[['meat_type', 'year', 'production_in_t', 'emissions_co2eq_combined_in_kt']].groupby(['meat_type', 'year'], as_index=False).agg('sum')\n",
    "\n",
    "world_emissions_grouped_7_2020 = world_emissions_grouped_7[(world_emissions_grouped_7.year == 2020)]\n",
    "\n",
    "fig, axes = plt.subplots(1, 1, figsize=(11.5, 9))\n",
    "\n",
    "for meat_type in meat_short:\n",
    "    world_emissions_grouped_7[world_emissions_grouped_7.meat_type == meat_type].plot(x='year', y='production_in_t', ax=axes, label=meat_type)\n",
    "    axes.legend(fontsize=12)\n",
    "    axes.set_ylabel('Production in 100 Mt', fontsize=12)\n",
    "    axes.set_xlabel('')\n",
    "    yticks = axes.get_yticks()\n",
    "    axes.set_yticklabels(yticks/100000000)\n",
    "    #axes.set_title('Development of Meat Production', fontsize=20)\n",
    "\n",
    "#world_emissions_grouped_9_2020[['meat_type', 'emissions_co2eq_combined_in_kt']].groupby('meat_type').agg('sum').plot.pie(y='emissions_co2eq_combined_in_kt', ax=axes[1], fontsize=13, autopct='%1.1f%%')\n",
    "#axes[1].set_ylabel('')\n",
    "#axes[1].legend('')\n",
    "#axes[1].set_title('Meat Emissions in 2020', fontsize=20)"
   ]
  },
  {
   "cell_type": "code",
   "execution_count": null,
   "metadata": {},
   "outputs": [],
   "source": [
    "def crop_type(food_item):\n",
    "    if food_item == 'Rice':\n",
    "        return 'rice'\n",
    "    elif food_item == 'Wheat':\n",
    "        return 'wheat'\n",
    "    elif food_item == 'Maize (corn)':\n",
    "        return 'maize'\n",
    "    elif food_item == 'Sugar cane':\n",
    "        return 'sugar cane'\n",
    "    return 'other crops'\n",
    "\n",
    "world_emissions_crops = world_emissions[world_emissions.item_category == 'Crops, primary']\n",
    "world_emissions_crops['crop_type'] = world_emissions_crops.item.apply(lambda x: crop_type(x))"
   ]
  },
  {
   "cell_type": "code",
   "execution_count": null,
   "metadata": {},
   "outputs": [],
   "source": [
    "crops = world_emissions_crops.crop_type.unique().tolist()\n",
    "crops"
   ]
  },
  {
   "cell_type": "code",
   "execution_count": null,
   "metadata": {},
   "outputs": [],
   "source": [
    "world_emissions_grouped_8 = world_emissions_crops\n",
    "world_emissions_grouped_8['production_new'] = world_emissions_grouped_8['production_in_t']/10\n",
    "world_emissions_grouped_8"
   ]
  },
  {
   "cell_type": "code",
   "execution_count": null,
   "metadata": {},
   "outputs": [],
   "source": [
    "world_emissions_grouped_8 = world_emissions_crops\n",
    "world_emissions_grouped_8['production_new'] = world_emissions_grouped_8['production_in_t']/10\n",
    "world_emissions_grouped_8 = world_emissions_grouped_8[['crop_type', 'year', 'production_new', 'emissions_co2eq_combined_in_kt']].groupby(['crop_type', 'year'], as_index=False).agg('sum')\n",
    "\n",
    "world_emissions_grouped_8_2020 = world_emissions_grouped_8[(world_emissions_grouped_8.year == 2020)]\n",
    "\n",
    "fig, axes = plt.subplots(1, 1, figsize=(11.5, 9))\n",
    "\n",
    "for crop_type in crops:\n",
    "    world_emissions_grouped_8[world_emissions_grouped_8.crop_type == crop_type].plot(x='year', y='production_new', ax=axes, label=crop_type)\n",
    "    axes.legend(fontsize=12)\n",
    "    axes.set_ylabel('Production in 100 Mt', fontsize=12)\n",
    "    axes.set_xlabel('')\n",
    "    axes.set_yscale\n",
    "    yticks = axes.get_yticks()\n",
    "    axes.set_yticklabels(yticks*10/100000000)\n",
    "    #axes.set_title('Development of Crops Production', fontsize=20)\n",
    "\n",
    "#world_emissions_grouped_8_2020[['crop_type', 'emissions_co2eq_combined_in_kt']].groupby('crop_type').agg('sum').plot.pie(y='emissions_co2eq_combined_in_kt', ax=axes[1], fontsize=13, autopct='%1.1f%%')\n",
    "#axes[1].set_ylabel('')\n",
    "#axes[1].legend('')\n",
    "#axes[1].set_title('Crops Emissions in 2020', fontsize=20)"
   ]
  },
  {
   "cell_type": "markdown",
   "metadata": {},
   "source": [
    "### Emission intensity"
   ]
  },
  {
   "cell_type": "code",
   "execution_count": null,
   "metadata": {},
   "outputs": [],
   "source": [
    "world_emissions_intensity_grouped_1 = world_emissions[['item_category', 'year', 'emissions_intensity_combined_in_kg_co2eq_per_kg']].groupby(['item_category', 'year'], as_index=False).agg('mean')\n",
    "world_emissions_intensity_grouped_2 = world_emissions[['item_group', 'year', 'emissions_intensity_combined_in_kg_co2eq_per_kg']].groupby(['item_group', 'year'], as_index=False).agg('mean')\n",
    "world_emissions_intensity_grouped_3 = world_emissions[['item', 'year', 'emissions_intensity_combined_in_kg_co2eq_per_kg']].groupby(['item', 'year'], as_index=False).agg('mean')\n",
    "\n",
    "fig, axes = plt.subplots(2, 3, figsize=(22, 12))\n",
    "\n",
    "# Iterate over item categories\n",
    "for item_category in item_categories:\n",
    "    world_emissions_intensity_grouped_1[world_emissions_intensity_grouped_1.item_category == item_category].plot(x='year', y='emissions_intensity_combined_in_kg_co2eq_per_kg', ax=axes[0][0], label=item_category)\n",
    "    axes[0][0].legend()\n",
    "    axes[0][0].set_ylabel('Emission Intensity, [kg CO2eq/kg product]')\n",
    "    axes[0][0].set_title('Item categories')\n",
    "\n",
    "# Iterate over item groups\n",
    "for item_group in item_groups:\n",
    "    world_emissions_intensity_grouped_2[world_emissions_intensity_grouped_2.item_group == item_group].plot(x='year', y='emissions_intensity_combined_in_kg_co2eq_per_kg', ax=axes[0][1], label=item_group)\n",
    "    axes[0][1].legend()\n",
    "    axes[0][1].set_ylabel('Emission Intensity, [kg CO2eq/kg product]')\n",
    "    axes[0][1].set_title('Item groups')\n",
    "\n",
    "# Iterate over meat items\n",
    "for item in meat:\n",
    "    world_emissions_intensity_grouped_3[world_emissions_intensity_grouped_3.item == item].plot(x='year', y='emissions_intensity_combined_in_kg_co2eq_per_kg', ax=axes[0][2], label=item)\n",
    "    axes[0][2].legend()\n",
    "    axes[0][2].set_ylabel('Emission Intensity, [kg CO2eq/kg product]')\n",
    "    axes[0][2].set_title('Meat')\n",
    "\n",
    "# Iterate over milk and egg items\n",
    "for item in milk_eggs:\n",
    "    world_emissions_intensity_grouped_3[world_emissions_intensity_grouped_3.item == item].plot(x='year', y='emissions_intensity_combined_in_kg_co2eq_per_kg', ax=axes[1][0], label=item)\n",
    "    axes[1][0].legend()\n",
    "    axes[1][0].set_ylabel('Emission Intensity, [kg CO2eq/kg product]')\n",
    "    axes[1][0].set_title('Milk')\n",
    "    axes[1][0].set_ylim([0,7])\n",
    "\n",
    "# Iterate over rice, wheat and maize items\n",
    "for item in rice_wheat_maize:\n",
    "    world_emissions_intensity_grouped_3[world_emissions_intensity_grouped_3.item == item].plot(x='year', y='emissions_intensity_combined_in_kg_co2eq_per_kg', ax=axes[1][1], label=item)\n",
    "    axes[1][1].legend()\n",
    "    axes[1][1].set_ylabel('Emission Intensity, [kg CO2eq/kg product]')\n",
    "    axes[1][1].set_title('Rice and eggs')\n",
    "    axes[1][1].set_ylim([0,7])\n",
    "    \n",
    "# Iterate over remaining items\n",
    "for item in remaining:\n",
    "    world_emissions_intensity_grouped_3[world_emissions_intensity_grouped_3.item == item].plot(x='year', y='emissions_intensity_combined_in_kg_co2eq_per_kg', ax=axes[1][2], label=item)\n",
    "    axes[1][2].legend()\n",
    "    axes[1][2].set_ylabel('Emission Intensity, [kg CO2eq/kg product]')\n",
    "    axes[1][2].set_title('Crops')"
   ]
  },
  {
   "cell_type": "markdown",
   "metadata": {},
   "source": [
    "## Analysis for 2020"
   ]
  },
  {
   "cell_type": "markdown",
   "metadata": {},
   "source": [
    "### Country comparison - production and emissions"
   ]
  },
  {
   "cell_type": "code",
   "execution_count": null,
   "metadata": {},
   "outputs": [],
   "source": [
    "prod_emis_countries = df_prod_emis[(df_prod_emis.year == 2020) & (df_prod_emis.emissions_co2eq_combined_in_kt.notnull()) & (df_prod_emis.country != 'World')]"
   ]
  },
  {
   "cell_type": "code",
   "execution_count": null,
   "metadata": {},
   "outputs": [],
   "source": [
    "prod_emis_countries_grouped_1 = prod_emis_countries[['country', 'production_in_t']].groupby(['country'], as_index=False).agg('sum').sort_values(by='production_in_t', ascending=False)\n",
    "prod_emis_countries_grouped_2 = prod_emis_countries[['country', 'prod_pop']].groupby(['country'], as_index=False).agg('sum').sort_values(by='prod_pop', ascending=False)\n",
    "prod_emis_countries_grouped_3 = prod_emis_countries[['country', 'emissions_co2eq_combined_in_kt']].groupby(['country'], as_index=False).agg('sum').sort_values(by='emissions_co2eq_combined_in_kt', ascending=False)\n",
    "prod_emis_countries_grouped_4 = prod_emis_countries[['country', 'emis_pop']].groupby(['country'], as_index=False).agg('sum').sort_values(by='emis_pop', ascending=False)\n",
    "\n",
    "fig, axes = plt.subplots(2, 2, figsize=(20, 20))\n",
    "\n",
    "prod_emis_countries_grouped_1.head(10).plot.bar(x='country', y='production_in_t', ax=axes[0][0])\n",
    "axes[0][0].set_title('Top-10 food producing countries')\n",
    "axes[0][0].set_xlabel('')\n",
    "axes[0][0].legend('')\n",
    "axes[0][0].set_ylabel('Porduction in t')\n",
    "\n",
    "prod_emis_countries_grouped_3.head(10).plot.bar(x='country', y='emissions_co2eq_combined_in_kt', ax=axes[0][1])\n",
    "axes[0][1].set_title('Top-10 food-related emission countries')\n",
    "axes[0][1].set_xlabel('')\n",
    "axes[0][1].legend('')\n",
    "axes[0][1].set_ylabel('Emissions in kt (co2eq)')\n",
    "\n",
    "prod_emis_countries_grouped_2.head(10).plot.bar(x='country', y='prod_pop', ax=axes[1][0])\n",
    "axes[1][0].set_title('Top-10 food producing countries per capita')\n",
    "axes[1][0].set_xlabel('')\n",
    "axes[1][0].legend('')\n",
    "axes[1][0].set_ylabel('Porduction in t')\n",
    "\n",
    "prod_emis_countries_grouped_4.head(10).plot.bar(x='country', y='emis_pop', ax=axes[1][1])\n",
    "axes[1][1].set_title('Top-10 food-related emission countries per capita')\n",
    "axes[1][1].set_xlabel('')\n",
    "axes[1][1].legend('')\n",
    "axes[1][1].set_ylabel('Emissions in kt (co2eq)')"
   ]
  },
  {
   "cell_type": "markdown",
   "metadata": {},
   "source": [
    "### Item comparison - production and emissions"
   ]
  },
  {
   "cell_type": "code",
   "execution_count": null,
   "metadata": {},
   "outputs": [],
   "source": [
    "prod_emis_items = df_prod_emis[(df_prod_emis.emissions_co2eq_combined_in_kt.notnull()) & (df_prod_emis.country == 'World')]"
   ]
  },
  {
   "cell_type": "code",
   "execution_count": null,
   "metadata": {},
   "outputs": [],
   "source": [
    "items = prod_emis_items.item.unique().tolist()\n",
    "meat = list(filter(lambda x: 'Meat' in x, items))\n",
    "milk_eggs= list(filter(lambda x: 'Raw milk' in x or 'Hen eggs' in x, items))\n",
    "rice = list(filter(lambda x: 'Rice' in x, items))\n",
    "crops = list(set(items) - set(meat + milk_eggs + rice))"
   ]
  },
  {
   "cell_type": "code",
   "execution_count": null,
   "metadata": {},
   "outputs": [],
   "source": [
    "def food_type(food_item):\n",
    "    if food_item in meat:\n",
    "        return 'meat'\n",
    "    elif food_item in milk_eggs:\n",
    "        return 'milk & eggs'\n",
    "    return 'crops'"
   ]
  },
  {
   "cell_type": "code",
   "execution_count": null,
   "metadata": {},
   "outputs": [],
   "source": [
    "prod_emis_items['food_type'] = prod_emis_items.item.apply(lambda x: food_type(x))"
   ]
  },
  {
   "cell_type": "code",
   "execution_count": null,
   "metadata": {},
   "outputs": [],
   "source": [
    "from mycolorpy import colorlist as mcp\n",
    "import numpy as np\n",
    "\n",
    "color1=mcp.gen_color(cmap=\"tab20c\",n=20)\n",
    "print(color1)"
   ]
  },
  {
   "cell_type": "code",
   "execution_count": null,
   "metadata": {},
   "outputs": [],
   "source": [
    "fig, axes = plt.subplots(1, 2, figsize=(16, 8))\n",
    "plt.rcParams['font.family'] = 'Cairo'\n",
    "\n",
    "prod_emis_items_1 = prod_emis_items[prod_emis_items.year == 2020]\n",
    "\n",
    "prod_emis_items_1[['food_type', 'production_in_t']].groupby('food_type').agg('sum').sort_values(by='production_in_t', ascending=True).plot.pie(y='production_in_t', ax=axes[0], fontsize=13, autopct='%1.1f%%', colors = ['#e6550d', '#fdae6b', 'green'])\n",
    "axes[0].set_ylabel('')\n",
    "axes[0].legend()\n",
    "axes[0].set_title('Food Production in 2020', fontsize=16)\n",
    "\n",
    "prod_emis_items_1[['food_type', 'emissions_co2eq_combined_in_kt']].groupby('food_type').agg('sum').plot.pie(y='emissions_co2eq_combined_in_kt', ax=axes[1], fontsize=13, autopct='%1.1f%%', colors = ['green', '#e6550d', '#fdae6b'], labels=['', '', ''])\n",
    "axes[1].set_ylabel('')\n",
    "axes[1].legend('')\n",
    "axes[1].set_title('Food Emissions in 2020', fontsize=16)"
   ]
  },
  {
   "cell_type": "code",
   "execution_count": null,
   "metadata": {},
   "outputs": [],
   "source": []
  },
  {
   "cell_type": "code",
   "execution_count": null,
   "metadata": {},
   "outputs": [],
   "source": [
    "fig, axes = plt.subplots(1, 2, figsize=(16, 8))\n",
    "\n",
    "prod_emis_items_1961 = prod_emis_items[(prod_emis_items.year == 1961)]\n",
    "prod_emis_items020 = prod_emis_items[(prod_emis_items.year == 2020)]\n",
    "\n",
    "prod_emis_items_1961[['food_type', 'production_in_t']].groupby('food_type').agg('sum').plot.pie(y='production_in_t', ax=axes[0], fontsize=13, autopct='%1.1f%%')\n",
    "axes[0].set_ylabel('')\n",
    "axes[0].legend('')\n",
    "axes[0].set_title('Production by item group in 1961', fontsize=16)\n",
    "\n",
    "prod_emis_items020[['food_type', 'production_in_t']].groupby('food_type').agg('sum').plot.pie(y='production_in_t', ax=axes[1], fontsize=13, autopct='%1.1f%%')\n",
    "axes[1].set_ylabel('')\n",
    "axes[1].legend('')\n",
    "axes[1].set_title('Production by item group in 2020', fontsize=16)"
   ]
  },
  {
   "cell_type": "markdown",
   "metadata": {},
   "source": [
    "### Item comparison - emission itensities"
   ]
  },
  {
   "cell_type": "code",
   "execution_count": null,
   "metadata": {},
   "outputs": [],
   "source": [
    "prod_emis_intensities = df_prod_emis[(df_prod_emis.year == 2020) & (df_prod_emis.emissions_co2eq_combined_in_kt.notnull())]"
   ]
  },
  {
   "cell_type": "code",
   "execution_count": null,
   "metadata": {},
   "outputs": [],
   "source": [
    "prod_emis_intensities_names = prod_emis_intensities\n",
    "prod_emis_intensities_names['item'] = prod_emis_intensities_names['item'].str.replace(', fresh or chilled', '')\n",
    "prod_emis_intensities_names['item'] = prod_emis_intensities_names['item'].str.replace(' with the bone', '')"
   ]
  },
  {
   "cell_type": "markdown",
   "metadata": {},
   "source": [
    "### Emission itensities overall"
   ]
  },
  {
   "cell_type": "code",
   "execution_count": null,
   "metadata": {},
   "outputs": [],
   "source": [
    "prod_emis_intensities_names_grouped_1 = prod_emis_intensities_names[(prod_emis_intensities_names['special_area'] == 'World') & (prod_emis_intensities['emissions_intensity_combined_in_kg_co2eq_per_kg'] != 0)]\n",
    "prod_emis_intensities_names_grouped_1 = prod_emis_intensities_names_grouped_1[['item', 'emissions_intensity_combined_in_kg_co2eq_per_kg']].groupby(['item'], as_index=False).agg('mean').sort_values(by='emissions_intensity_combined_in_kg_co2eq_per_kg', ascending=True)\n",
    "prod_emis_intensities_names_grouped_2 = prod_emis_intensities_names[prod_emis_intensities_names['country'] == 'Germany']\n",
    "prod_emis_intensities_names_grouped_2= prod_emis_intensities_names_grouped_2[['item', 'emissions_intensity_combined_in_kg_co2eq_per_kg']].groupby(['item'], as_index=False).agg('mean').sort_values(by='emissions_intensity_combined_in_kg_co2eq_per_kg', ascending=True)\n",
    "prod_emis_intensities_names_grouped_3 = prod_emis_intensities_names[prod_emis_intensities_names['special_area'] == 'European Union (27)']\n",
    "prod_emis_intensities_names_grouped_3= prod_emis_intensities_names_grouped_3[['item', 'emissions_intensity_combined_in_kg_co2eq_per_kg']].groupby(['item'], as_index=False).agg('mean').sort_values(by='emissions_intensity_combined_in_kg_co2eq_per_kg', ascending=True)\n",
    "\n",
    "fig, axes = plt.subplots(1, 1, figsize=(19, 10))\n",
    "\n",
    "colors = ['red', 'red', 'red', 'red', 'red', 'red', 'red', 'red', 'red', 'red', 'red', '#e6550d', '#fdae6b', '#fdae6b', '#fdae6b', 'green', '#e6550d', '#fdae6b', '#fdae6b', '#fdae6b', '#e6550d', '#e6550d', '#e6550d', '#e6550d']\n",
    "\n",
    "prod_emis_intensities_names_grouped_1.plot.barh(x='item', y='emissions_intensity_combined_in_kg_co2eq_per_kg', ax=axes, color=colors)\n",
    "#axes.set_title('World emissions intensity')\n",
    "axes.set_ylabel('')\n",
    "plt.yticks(fontsize = 13)\n",
    "plt.xticks(fontsize = 13)\n",
    "axes.legend('')\n",
    "axes.set_xlabel('Emission intensity in kg CO2eq / kg', fontsize = 15)"
   ]
  },
  {
   "cell_type": "code",
   "execution_count": null,
   "metadata": {},
   "outputs": [],
   "source": [
    "prod_emis_intensities_names_grouped_1 = prod_emis_intensities_names[(prod_emis_intensities_names.special_area == 'World') & (prod_emis_intensities_names.item_category == 'Crops, primary') & (prod_emis_intensities_names.item != 'Rice')]\n",
    "prod_emis_intensities_names_grouped_1 = prod_emis_intensities_names_grouped_1[['item', 'emissions_intensity_combined_in_kg_co2eq_per_kg']].groupby(['item'], as_index=False).agg('mean').sort_values(by='emissions_intensity_combined_in_kg_co2eq_per_kg', ascending=True)\n",
    "\n",
    "fig, axes = plt.subplots(1, 1, figsize=(10, 5))\n",
    "\n",
    "prod_emis_intensities_names_grouped_1.plot.barh(x='item', y='emissions_intensity_combined_in_kg_co2eq_per_kg', ax=axes, color = 'green')\n",
    "#axes.set_title('World emissions intensity')\n",
    "axes.set_ylabel('')\n",
    "plt.yticks(fontsize = 13)\n",
    "plt.xticks(fontsize = 13)\n",
    "axes.legend('')\n",
    "axes.set_xlabel('Emission intensity in kg CO2eq / kg', fontsize = 15)"
   ]
  },
  {
   "cell_type": "code",
   "execution_count": null,
   "metadata": {},
   "outputs": [],
   "source": [
    "prod_emis_intensities_names_grouped_4 = prod_emis_intensities_names[(prod_emis_intensities_names.country == 'Germany') & (prod_emis_intensities_names.item_category == 'Livestock primary')]\n",
    "prod_emis_intensities_names_grouped_4 = prod_emis_intensities_names_grouped_4[['item', 'emissions_intensity_combined_in_kg_co2eq_per_kg']].groupby(['item'], as_index=False).agg('mean').sort_values(by='item', ascending=False)\n",
    "\n",
    "prod_emis_intensities_names_grouped_5 = prod_emis_intensities_names[(prod_emis_intensities_names.special_area == 'European Union (27)') & (prod_emis_intensities_names.item_category == 'Livestock primary')]\n",
    "prod_emis_intensities_names_grouped_5 = prod_emis_intensities_names_grouped_5[['item', 'emissions_intensity_combined_in_kg_co2eq_per_kg']].groupby(['item'], as_index=False).agg('mean').sort_values(by='item', ascending=False)\n",
    "\n",
    "prod_emis_intensities_names_grouped_6 = prod_emis_intensities_names[(prod_emis_intensities_names.country == 'World') & (prod_emis_intensities_names.item_category == 'Livestock primary')]\n",
    "prod_emis_intensities_names_grouped_6 = prod_emis_intensities_names_grouped_6[['item', 'emissions_intensity_combined_in_kg_co2eq_per_kg']].groupby(['item'], as_index=False).agg('mean').sort_values(by='item', ascending=False)\n",
    "\n",
    "prod_emis_intensities_names_grouped_7 = prod_emis_intensities_names[(prod_emis_intensities_names.country == 'Germany') & (prod_emis_intensities_names.item_category == 'Crops, primary')]\n",
    "prod_emis_intensities_names_grouped_7 = prod_emis_intensities_names_grouped_7[['item', 'emissions_intensity_combined_in_kg_co2eq_per_kg']].groupby(['item'], as_index=False).agg('mean').sort_values(by='item', ascending=False)\n",
    "\n",
    "prod_emis_intensities_names_grouped_8 = prod_emis_intensities_names[(prod_emis_intensities_names.special_area == 'European Union (27)') & (prod_emis_intensities_names.item_category == 'Crops, primary')]\n",
    "prod_emis_intensities_names_grouped_8 = prod_emis_intensities_names_grouped_8[['item', 'emissions_intensity_combined_in_kg_co2eq_per_kg']].groupby(['item'], as_index=False).agg('mean').sort_values(by='item', ascending=False)\n",
    "\n",
    "prod_emis_intensities_names_grouped_9 = prod_emis_intensities_names[(prod_emis_intensities_names.country == 'World') & (prod_emis_intensities_names.item_category == 'Crops, primary')]\n",
    "prod_emis_intensities_names_grouped_9 = prod_emis_intensities_names_grouped_9[['item', 'emissions_intensity_combined_in_kg_co2eq_per_kg']].groupby(['item'], as_index=False).agg('mean').sort_values(by='item', ascending=False)\n",
    "\n",
    "\n",
    "\n",
    "items_livestock = prod_emis_intensities_names_grouped_4.item.unique().tolist()\n",
    "items_crops = prod_emis_intensities_names_grouped_7.item.unique().tolist()\n",
    "\n",
    "prod_emis_intensities_names_grouped_5 = prod_emis_intensities_names_grouped_5[prod_emis_intensities_names_grouped_5.item.isin(items_livestock)]\n",
    "prod_emis_intensities_names_grouped_6 = prod_emis_intensities_names_grouped_6[prod_emis_intensities_names_grouped_6.item.isin(items_livestock)]\n",
    "prod_emis_intensities_names_grouped_8 = prod_emis_intensities_names_grouped_8[prod_emis_intensities_names_grouped_8.item.isin(items_crops)]\n",
    "prod_emis_intensities_names_grouped_9 = prod_emis_intensities_names_grouped_9[prod_emis_intensities_names_grouped_9.item.isin(items_crops)]\n",
    "\n",
    "\n",
    "fig, ax = plt.subplots(1, 2, figsize=(20, 8))\n",
    "index_1 = np.arange(len(items_livestock))\n",
    "index_2 = np.arange(len(items_crops))\n",
    "bar_width = 0.25\n",
    "\n",
    "rects1 = ax[0].barh(index_1 + 2 * bar_width, prod_emis_intensities_names_grouped_4.emissions_intensity_combined_in_kg_co2eq_per_kg, bar_width,label='Germany')\n",
    "\n",
    "rects2 = ax[0].barh(index_1 + bar_width, prod_emis_intensities_names_grouped_5.emissions_intensity_combined_in_kg_co2eq_per_kg, bar_width,label='EU')\n",
    "\n",
    "rects3 = ax[0].barh(index_1, prod_emis_intensities_names_grouped_6.emissions_intensity_combined_in_kg_co2eq_per_kg, bar_width,label='World')\n",
    "\n",
    "#ax[0].set_ylabel('Food items')\n",
    "#ax[0].set_xlabel('Emission intensity')\n",
    "ax[0].set_title('Emission intensity for livestock items in 2020', fontsize=16)\n",
    "ax[0].set_yticks(index_1 + bar_width, items_livestock)\n",
    "ax[0].legend()\n",
    "\n",
    "rects1 = ax[1].barh(index_2 + 2 * bar_width, prod_emis_intensities_names_grouped_7.emissions_intensity_combined_in_kg_co2eq_per_kg, bar_width,label='Germany')\n",
    "\n",
    "rects2 = ax[1].barh(index_2 + bar_width, prod_emis_intensities_names_grouped_8.emissions_intensity_combined_in_kg_co2eq_per_kg, bar_width,label='EU')\n",
    "\n",
    "rects2 = ax[1].barh(index_2, prod_emis_intensities_names_grouped_9.emissions_intensity_combined_in_kg_co2eq_per_kg, bar_width,label='World')\n",
    "\n",
    "#ax[1].set_ylabel('Food items')\n",
    "#ax[1].set_xlabel('Emission intensity')\n",
    "ax[1].set_title('Emission intensity for crops items in 2020', fontsize=16)\n",
    "ax[1].set_yticks(index_2 + bar_width, items_crops)\n",
    "ax[1].legend()"
   ]
  },
  {
   "cell_type": "markdown",
   "metadata": {},
   "source": [
    "### Emission itensities by countries/continents"
   ]
  },
  {
   "cell_type": "code",
   "execution_count": null,
   "metadata": {},
   "outputs": [],
   "source": [
    "prod_emis_intensities = df_prod_emis[(df_prod_emis.year == 2020) & (df_prod_emis.emissions_co2eq_combined_in_kt.notnull())]"
   ]
  },
  {
   "cell_type": "code",
   "execution_count": null,
   "metadata": {},
   "outputs": [],
   "source": [
    "prod_emis_intensities_grouped_1 = prod_emis_intensities[prod_emis_intensities['item'] == 'Oats']\n",
    "prod_emis_intensities_grouped_1 = prod_emis_intensities_grouped_1[['continent', 'emissions_intensity_combined_in_kg_co2eq_per_kg']].groupby(['continent'], as_index=False).agg('mean').sort_values(by='emissions_intensity_combined_in_kg_co2eq_per_kg', ascending=False)\n",
    "\n",
    "prod_emis_intensities_grouped_2 = prod_emis_intensities[prod_emis_intensities['item'] == 'Meat of cattle with the bone, fresh or chilled']\n",
    "prod_emis_intensities_grouped_2 = prod_emis_intensities_grouped_2[['continent', 'emissions_intensity_combined_in_kg_co2eq_per_kg']].groupby(['continent'], as_index=False).agg('mean').sort_values(by='emissions_intensity_combined_in_kg_co2eq_per_kg', ascending=False)\n",
    "\n",
    "prod_emis_intensities_grouped_3 = prod_emis_intensities[prod_emis_intensities['item'] == 'Raw milk of cattle']\n",
    "prod_emis_intensities_grouped_3 = prod_emis_intensities_grouped_3[['continent', 'emissions_intensity_combined_in_kg_co2eq_per_kg']].groupby(['continent'], as_index=False).agg('mean').sort_values(by='emissions_intensity_combined_in_kg_co2eq_per_kg', ascending=False)\n",
    "\n",
    "prod_emis_intensities_grouped_4 = prod_emis_intensities[prod_emis_intensities['item'] == 'Rice']\n",
    "prod_emis_intensities_grouped_4 = prod_emis_intensities_grouped_4[['continent', 'emissions_intensity_combined_in_kg_co2eq_per_kg']].groupby(['continent'], as_index=False).agg('mean').sort_values(by='emissions_intensity_combined_in_kg_co2eq_per_kg', ascending=False)\n",
    "\n",
    "fig, axes = plt.subplots(1, 4, figsize=(28, 8))\n",
    "\n",
    "prod_emis_intensities_grouped_1.plot.bar(x='continent', y='emissions_intensity_combined_in_kg_co2eq_per_kg', ax=axes[0])\n",
    "axes[0].set_title('Oats')\n",
    "axes[0].set_xlabel('')\n",
    "axes[0].legend('')\n",
    "axes[0].set_ylabel('emission intensity')\n",
    "\n",
    "prod_emis_intensities_grouped_2.plot.bar(x='continent', y='emissions_intensity_combined_in_kg_co2eq_per_kg', ax=axes[1])\n",
    "axes[1].set_title('Meat of cattle')\n",
    "axes[1].set_xlabel('')\n",
    "axes[1].legend('')\n",
    "axes[1].set_ylabel('emission intensity')\n",
    "\n",
    "prod_emis_intensities_grouped_3.plot.bar(x='continent', y='emissions_intensity_combined_in_kg_co2eq_per_kg', ax=axes[2])\n",
    "axes[2].set_title('Milk of cattle')\n",
    "axes[2].set_xlabel('')\n",
    "axes[2].legend('')\n",
    "axes[2].set_ylabel('emission intensity')\n",
    "\n",
    "prod_emis_intensities_grouped_4.plot.bar(x='continent', y='emissions_intensity_combined_in_kg_co2eq_per_kg', ax=axes[3])\n",
    "axes[3].set_title('Rice')\n",
    "axes[3].set_xlabel('')\n",
    "axes[3].legend('')\n",
    "axes[3].set_ylabel('emission intensity')"
   ]
  },
  {
   "cell_type": "code",
   "execution_count": null,
   "metadata": {},
   "outputs": [],
   "source": [
    "prod_emis_intensities_grouped_1 = prod_emis_intensities[(prod_emis_intensities['item'] == 'Rice') & (prod_emis_intensities['emissions_intensity_combined_in_kg_co2eq_per_kg'].notnull()) & (prod_emis_intensities['emissions_intensity_combined_in_kg_co2eq_per_kg'] != 0)]\n",
    "prod_emis_intensities_grouped_1 = prod_emis_intensities_grouped_1[['country', 'emissions_intensity_combined_in_kg_co2eq_per_kg']].groupby(['country'], as_index=False).agg('mean').sort_values(by='emissions_intensity_combined_in_kg_co2eq_per_kg', ascending=False)\n",
    "\n",
    "prod_emis_intensities_grouped_2 = prod_emis_intensities[(prod_emis_intensities['item'] == 'Meat of cattle with the bone, fresh or chilled') & (prod_emis_intensities['emissions_intensity_combined_in_kg_co2eq_per_kg'].notnull()) & (prod_emis_intensities['emissions_intensity_combined_in_kg_co2eq_per_kg'] != 0)]\n",
    "prod_emis_intensities_grouped_2 = prod_emis_intensities_grouped_2[['country', 'emissions_intensity_combined_in_kg_co2eq_per_kg']].groupby(['country'], as_index=False).agg('mean').sort_values(by='emissions_intensity_combined_in_kg_co2eq_per_kg', ascending=False)\n",
    "\n",
    "prod_emis_intensities_grouped_3 = prod_emis_intensities[(prod_emis_intensities['item'] == 'Raw milk of cattle') & (prod_emis_intensities['emissions_intensity_combined_in_kg_co2eq_per_kg'].notnull()) & (prod_emis_intensities['emissions_intensity_combined_in_kg_co2eq_per_kg'] != 0)]\n",
    "prod_emis_intensities_grouped_3 = prod_emis_intensities_grouped_3[['country', 'emissions_intensity_combined_in_kg_co2eq_per_kg']].groupby(['country'], as_index=False).agg('mean').sort_values(by='emissions_intensity_combined_in_kg_co2eq_per_kg', ascending=False)\n",
    "\n",
    "fig, axes = plt.subplots(1, 3, figsize=(28, 8))\n",
    "\n",
    "axes[0].bar(prod_emis_intensities_grouped_1.head(3).country.tolist() + prod_emis_intensities_grouped_1.tail(3).country.tolist(), prod_emis_intensities_grouped_1.emissions_intensity_combined_in_kg_co2eq_per_kg.head(3).tolist() + prod_emis_intensities_grouped_1.emissions_intensity_combined_in_kg_co2eq_per_kg.tail(3).tolist())\n",
    "axes[0].set_title('Rice')\n",
    "\n",
    "axes[1].bar(prod_emis_intensities_grouped_2.head(3).country.tolist() + prod_emis_intensities_grouped_2.tail(3).country.tolist(), prod_emis_intensities_grouped_2.emissions_intensity_combined_in_kg_co2eq_per_kg.head(3).tolist() + prod_emis_intensities_grouped_2.emissions_intensity_combined_in_kg_co2eq_per_kg.tail(3).tolist())\n",
    "axes[1].set_title('Meat of cattle')\n",
    "\n",
    "axes[2].bar(prod_emis_intensities_grouped_3.head(3).country.tolist() + prod_emis_intensities_grouped_3.tail(3).country.tolist(), prod_emis_intensities_grouped_3.emissions_intensity_combined_in_kg_co2eq_per_kg.head(3).tolist() + prod_emis_intensities_grouped_3.emissions_intensity_combined_in_kg_co2eq_per_kg.tail(3).tolist())\n",
    "axes[2].set_title('Milk of cattle')"
   ]
  },
  {
   "cell_type": "code",
   "execution_count": null,
   "metadata": {},
   "outputs": [],
   "source": [
    "prod_emis_intensities_boxplot = prod_emis_intensities[(prod_emis_intensities['emissions_intensity_combined_in_kg_co2eq_per_kg'].notnull()) & (prod_emis_intensities['emissions_intensity_combined_in_kg_co2eq_per_kg'] != 0)]\n",
    "items = prod_emis_intensities_boxplot.item.unique().tolist()\n",
    "items"
   ]
  },
  {
   "cell_type": "code",
   "execution_count": null,
   "metadata": {},
   "outputs": [],
   "source": [
    "prod_emis_intensities_boxplot = prod_emis_intensities[(prod_emis_intensities['emissions_intensity_combined_in_kg_co2eq_per_kg'].notnull()) & (prod_emis_intensities['emissions_intensity_combined_in_kg_co2eq_per_kg'] != 0)]\n",
    "                                                           \n",
    "prod_emis_intensities_1 = prod_emis_intensities_boxplot[(prod_emis_intensities_boxplot.item.isin(['Meat of buffalo, fresh or chilled', 'Meat of cattle with the bone, fresh or chilled']))]\n",
    "prod_emis_intensities_2 = prod_emis_intensities_boxplot[(prod_emis_intensities_boxplot.item.isin(['Raw milk of cattle', 'Rice']))]\n",
    "prod_emis_intensities_3 = prod_emis_intensities_boxplot[(prod_emis_intensities_boxplot.item.isin(['Wheat', 'Maize (corn)']))]\n",
    "\n",
    "grouped_1 = prod_emis_intensities_1.groupby('item')['emissions_intensity_combined_in_kg_co2eq_per_kg']\n",
    "grouped_2 = prod_emis_intensities_2.groupby('item')['emissions_intensity_combined_in_kg_co2eq_per_kg']\n",
    "grouped_3 = prod_emis_intensities_3.groupby('item')['emissions_intensity_combined_in_kg_co2eq_per_kg']\n",
    "\n",
    "fig, ax = plt.subplots(1, 3, figsize=(14, 6))\n",
    "\n",
    "boxplot_1 = ax[0].boxplot(x=[group.values for name, group in grouped_1], labels=['Meat of buffalo', 'Meat of cattle'], widths=0.6, patch_artist=True,medianprops={'color': 'red'})\n",
    "boxplot_2 = ax[1].boxplot(x=[group.values for name, group in grouped_2], labels=grouped_2.groups.keys(), widths=0.6, patch_artist=True,medianprops={'color': 'red'})\n",
    "boxplot_3 = ax[2].boxplot(x=[group.values for name, group in grouped_3], labels=grouped_3.groups.keys(), widths=0.6, patch_artist=True,medianprops={'color': 'red'})\n",
    "\n",
    "colors_1 = ['tab:blue', 'tab:green']\n",
    "colors_2 = ['tab:orange', 'tab:purple']\n",
    "colors_3 = ['tab:brown', 'tab:olive']\n",
    "\n",
    "for box, color in zip(boxplot_1['boxes'], colors_1): box.set_facecolor(color)\n",
    "for box, color in zip(boxplot_2['boxes'], colors_2): box.set_facecolor(color)\n",
    "for box, color in zip(boxplot_3['boxes'], colors_3): box.set_facecolor(color)\n",
    "\n",
    "ax[0].set_ylim(0,200)\n",
    "ax[1].set_ylim(0,8)\n",
    "ax[2].set_ylim(0,0.25)\n",
    "\n",
    "ax[0].set_ylabel('Emission Intensity, kg CO2 eq / kg')\n",
    "\n",
    "plt.show()"
   ]
  }
 ],
 "metadata": {
  "kernelspec": {
   "display_name": "nf_sql",
   "language": "python",
   "name": "python3"
  },
  "language_info": {
   "codemirror_mode": {
    "name": "ipython",
    "version": 3
   },
   "file_extension": ".py",
   "mimetype": "text/x-python",
   "name": "python",
   "nbconvert_exporter": "python",
   "pygments_lexer": "ipython3",
   "version": "3.9.18"
  }
 },
 "nbformat": 4,
 "nbformat_minor": 2
}
