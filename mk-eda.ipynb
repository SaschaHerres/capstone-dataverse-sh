{
 "cells": [
  {
   "cell_type": "markdown",
   "metadata": {},
   "source": [
    "### Preparatory steps"
   ]
  },
  {
   "cell_type": "code",
   "execution_count": null,
   "metadata": {},
   "outputs": [],
   "source": [
    "import pandas as pd\n",
    "import matplotlib.pyplot as plt\n",
    "import _functions_sql as fs\n",
    "import seaborn as sns\n",
    "import numpy as np\n",
    "import circlify #needed for creating bubble diagrams"
   ]
  },
  {
   "cell_type": "code",
   "execution_count": null,
   "metadata": {},
   "outputs": [],
   "source": [
    "# Define lists for product categories\n",
    "\n",
    "items = df_trade_ger.item.unique().tolist()\n",
    "item_categories = world_emissions.item_category.unique().tolist()\n",
    "item_groups = world_emissions.item_group.unique().tolist()\n",
    "\n",
    "meat = list(filter(lambda x: 'Meat' in x, items))\n",
    "milk_eggs= list(filter(lambda x: 'Raw milk' in x or 'Hen eggs' in x, items))\n",
    "crops = list(set(items) - set(meat + milk_eggs))\n",
    "\n",
    "# Create a list of 21 selected items\n",
    "selected_items = ['Barley', 'Beans, dry', 'Hen eggs in shell, fresh', 'Maize (corn)', 'Meat of buffalo, fresh or chilled', 'Meat of cattle with the bone, fresh or chilled', 'Meat of chickens, fresh or chilled', 'Meat of goat, fresh or chilled', 'Meat of pig with the bone, fresh or chilled', 'Meat of sheep, fresh or chilled', 'Millet', 'Oats', 'Potatoes', 'Raw milk of cattle', 'Raw milk of sheep', 'Rice', 'Rye', 'Sorghum', 'Soya beans', 'Sugar cane', 'Wheat']\n",
    "\n",
    "selected_meat = list(filter(lambda x: 'Meat' in x, selected_items))\n",
    "selected_milk_eggs = list(filter(lambda x: 'Raw milk' in x or 'Hen eggs' in x, selected_items))\n",
    "selected_crops = list(set(selected_items) - set(selected_meat + selected_milk_eggs) - {'Rice'}) #removing rice from the crop list since it's an outlier"
   ]
  },
  {
   "cell_type": "code",
   "execution_count": null,
   "metadata": {},
   "outputs": [],
   "source": [
    "selected_milk_eggs"
   ]
  },
  {
   "cell_type": "code",
   "execution_count": null,
   "metadata": {},
   "outputs": [],
   "source": [
    "item_categories = world_emissions.item_category.unique().tolist()\n",
    "item_groups = world_emissions.item_group.unique().tolist()\n",
    "items = world_emissions.item.unique().tolist()\n",
    "meat = list(filter(lambda x: 'Meat' in x, items))\n",
    "milk_eggs = list(filter(lambda x: 'Raw milk' in x or 'Hen eggs' in x, items))\n",
    "rice_wheat_maize = list(filter(lambda x: 'Rice' in x or 'Wheat' in x or 'Maize' in x, items))\n",
    "remaining = list(set(items) - set(meat + milk_eggs + rice_wheat_maize))"
   ]
  },
  {
   "cell_type": "code",
   "execution_count": null,
   "metadata": {},
   "outputs": [],
   "source": [
    "# import production & emissions table from database\n",
    "df_prod_emis = fs.get_dataframe(\"SELECT * from production_and_emissions_new\")"
   ]
  },
  {
   "cell_type": "code",
   "execution_count": null,
   "metadata": {},
   "outputs": [],
   "source": [
    "df_prod_emis['prod_pop'] = df_prod_emis['production_in_t'] / df_prod_emis['population']\n",
    "df_prod_emis['emis_pop'] = df_prod_emis['emissions_co2eq_combined_in_kt'] / df_prod_emis['population']\n",
    "df_prod_emis = df_prod_emis[df_prod_emis['item_category'] != 'Live Animals']\n",
    "df_prod_emis = df_prod_emis[~df_prod_emis['country'].isin(['China', 'China, Hong Kong SAR'])]"
   ]
  },
  {
   "cell_type": "code",
   "execution_count": null,
   "metadata": {},
   "outputs": [],
   "source": [
    "# Create a world production table \n",
    "world_production = df_prod_emis[(df_prod_emis.country == 'World') & (df_prod_emis.year != 2021)]"
   ]
  },
  {
   "cell_type": "code",
   "execution_count": null,
   "metadata": {},
   "outputs": [],
   "source": [
    "# Create a world emissions table\n",
    "world_emissions = df_prod_emis[(df_prod_emis.country == 'World') & (df_prod_emis.year != 2021) & (df_prod_emis.emissions_co2eq_combined_in_kt.notnull())]"
   ]
  },
  {
   "cell_type": "markdown",
   "metadata": {},
   "source": [
    "## Germany: production vs import volumes "
   ]
  },
  {
   "cell_type": "markdown",
   "metadata": {},
   "source": [
    "### Create a trade & production table for Germany"
   ]
  },
  {
   "cell_type": "code",
   "execution_count": null,
   "metadata": {},
   "outputs": [],
   "source": [
    "df_trade_ger = fs.get_dataframe(\"SELECT * FROM fao_trade_matrix WHERE reporting_country = 'Germany'\")"
   ]
  },
  {
   "cell_type": "code",
   "execution_count": null,
   "metadata": {},
   "outputs": [],
   "source": [
    "df_trade_ger.head()"
   ]
  },
  {
   "cell_type": "code",
   "execution_count": null,
   "metadata": {},
   "outputs": [],
   "source": [
    "df_production_ger = fs.get_dataframe(\"SELECT * FROM production_and_emissions_new WHERE country = 'Germany'\")"
   ]
  },
  {
   "cell_type": "code",
   "execution_count": null,
   "metadata": {},
   "outputs": [],
   "source": [
    "df_production_ger.head()"
   ]
  },
  {
   "cell_type": "code",
   "execution_count": null,
   "metadata": {},
   "outputs": [],
   "source": [
    "df_trade_ger_grouped = df_trade_ger.groupby(['reporting_country', 'year', 'item']).sum().reset_index()"
   ]
  },
  {
   "cell_type": "code",
   "execution_count": null,
   "metadata": {},
   "outputs": [],
   "source": [
    "df_trade_ger_grouped.head()"
   ]
  },
  {
   "cell_type": "code",
   "execution_count": null,
   "metadata": {},
   "outputs": [],
   "source": [
    "df_trade_ger_grouped.drop(columns = ['reporting_country', 'partner_country', 'unit'], inplace = True)"
   ]
  },
  {
   "cell_type": "code",
   "execution_count": null,
   "metadata": {},
   "outputs": [],
   "source": [
    "df_production_ger_grouped = df_production_ger.groupby(['country', 'year','item']).sum().reset_index()"
   ]
  },
  {
   "cell_type": "code",
   "execution_count": null,
   "metadata": {},
   "outputs": [],
   "source": [
    "df_production_ger_grouped.head()"
   ]
  },
  {
   "cell_type": "code",
   "execution_count": null,
   "metadata": {},
   "outputs": [],
   "source": [
    "df_production_ger_grouped.drop(columns = ['country', 'continent', 'subcontinent', 'special_area', 'population',], inplace = True)"
   ]
  },
  {
   "cell_type": "code",
   "execution_count": null,
   "metadata": {},
   "outputs": [],
   "source": [
    "# df_trade_prod_ger_grouped.dropna(subset = ['import_quantity', 'production_in_t'], inplace=True)"
   ]
  },
  {
   "cell_type": "code",
   "execution_count": null,
   "metadata": {},
   "outputs": [],
   "source": [
    "df_trade_prod_ger  = pd.merge(df_trade_ger_grouped,df_production_ger_grouped[['item', 'year','production_in_t']], left_on = ['item', 'year'], right_on = ['item', 'year'], how = 'left')"
   ]
  },
  {
   "cell_type": "code",
   "execution_count": null,
   "metadata": {},
   "outputs": [],
   "source": [
    "df_trade_prod_ger.head()"
   ]
  },
  {
   "cell_type": "code",
   "execution_count": null,
   "metadata": {},
   "outputs": [],
   "source": [
    "# Filter for 2020\n",
    "df_trade_prod_ger_2020 = df_trade_prod_ger[df_trade_prod_ger['year'] == 2020]"
   ]
  },
  {
   "cell_type": "code",
   "execution_count": null,
   "metadata": {},
   "outputs": [],
   "source": [
    "# Filter for selected items\n",
    "df_trade_prod_ger_2020_specific = df_trade_prod_ger_2020[df_trade_prod_ger_2020['item'].isin(selected_items)]"
   ]
  },
  {
   "cell_type": "code",
   "execution_count": null,
   "metadata": {},
   "outputs": [],
   "source": [
    "df_trade_prod_ger_2020_specific"
   ]
  },
  {
   "cell_type": "code",
   "execution_count": null,
   "metadata": {},
   "outputs": [],
   "source": [
    "# Drop rows with NAs in the production column\n",
    "df_trade_prod_ger_2020_specific.dropna(subset = 'production_in_t', inplace = True)"
   ]
  },
  {
   "cell_type": "code",
   "execution_count": null,
   "metadata": {},
   "outputs": [],
   "source": [
    "# Filter for 2020\n",
    "df_trade_prod_ger_2020 = df_trade_prod_ger[df_trade_prod_ger['year'] == 2020]\n",
    "\n",
    "# Filter for specific items\n",
    "df_trade_prod_ger_2020_specific = df_trade_prod_ger_2020[df_trade_prod_ger_2020['item'].isin(selected_items)]\n",
    "\n",
    "# Calculate the share of production and import for each selected product in percentage\n",
    "df_trade_prod_ger_2020_specific['production_share'] = (df_trade_prod_ger_2020_specific['production_in_t'] / (\n",
    "        df_trade_prod_ger_2020_specific['production_in_t'] + df_trade_prod_ger_2020_specific['import_quantity'])) * 100\n",
    "df_trade_prod_ger_2020_specific['import_share'] = (df_trade_prod_ger_2020_specific['import_quantity'] / (\n",
    "        df_trade_prod_ger_2020_specific['production_in_t'] + df_trade_prod_ger_2020_specific['import_quantity'])) * 100\n",
    "\n",
    "# Group by product and sum the shares\n",
    "df_grouped = df_trade_prod_ger_2020_specific.groupby('item')[['production_share', 'import_share']].sum()\n",
    "df_grouped= df_grouped.sort_values(by='production_share', ascending=False)\n",
    "# Plotting\n",
    "ax = df_grouped.plot(kind='barh', stacked=True, figsize=(10, 6))\n",
    "plt.title('Share of Production vs Import, Germany, 2020 ')\n",
    "plt.xlabel('Share, %')\n",
    "plt.ylabel('Product')\n",
    "plt.legend()\n",
    "plt.show()"
   ]
  },
  {
   "cell_type": "markdown",
   "metadata": {},
   "source": [
    "### Emission intensity: production vs import"
   ]
  },
  {
   "cell_type": "code",
   "execution_count": null,
   "metadata": {},
   "outputs": [],
   "source": [
    "df_emissions_ger = fs.get_dataframe(\"SELECT * FROM mk_import_emissions\")"
   ]
  },
  {
   "cell_type": "code",
   "execution_count": null,
   "metadata": {},
   "outputs": [],
   "source": [
    "df_emissions_ger"
   ]
  },
  {
   "cell_type": "code",
   "execution_count": null,
   "metadata": {},
   "outputs": [],
   "source": [
    "df_emission_intensity_ger  = pd.merge(df_emissions_ger,df_production_ger_grouped[['item', 'year','emissions_co2eq_combined_in_kt', 'emissions_intensity_combined_in_kg_co2eq_per_kg']], left_on = ['item', 'import_year'], right_on = ['item', 'year'], how = 'left')"
   ]
  },
  {
   "cell_type": "code",
   "execution_count": null,
   "metadata": {},
   "outputs": [],
   "source": [
    "df_emission_intensity_ger.head()"
   ]
  },
  {
   "cell_type": "code",
   "execution_count": null,
   "metadata": {},
   "outputs": [],
   "source": [
    "df_emission_intensity_ger.drop(columns = ['total_import_share', 'year'], inplace = True)"
   ]
  },
  {
   "cell_type": "code",
   "execution_count": null,
   "metadata": {},
   "outputs": [],
   "source": [
    "df_emission_intensity_ger.rename(columns={'emissions_co2eq_combined_in_kt': 'total_production_emission_amount', 'emissions_intensity_combined_in_kg_co2eq_per_kg': 'total_production_emissions_intensity'}, inplace = True)"
   ]
  },
  {
   "cell_type": "code",
   "execution_count": null,
   "metadata": {},
   "outputs": [],
   "source": [
    "df_emission_intensity_ger_2020"
   ]
  },
  {
   "cell_type": "code",
   "execution_count": null,
   "metadata": {},
   "outputs": [],
   "source": [
    "\n",
    "# Function to create horizontal grouped bar chart\n",
    "def create_grouped_bar_chart(products, title):\n",
    "\n",
    "    # Filter dataframe based on selected products\n",
    "    df_selected = df_emission_intensity_ger_2020[df_emission_intensity_ger_2020['item'].isin(products)]\n",
    "\n",
    "    # Sort the DataFrame based on total_production_emission_amount\n",
    "    df_selected_sorted = df_selected.sort_values(by='total_import_emission_intensity', ascending=True)\n",
    "\n",
    "    # Calculate the size based on the number of bars and scale of values\n",
    "    num_bars = len(df_selected_sorted)\n",
    "    bar_height = min(0.35, 8 / num_bars)  # Adjust 6 based on your preference for the overall height\n",
    "\n",
    "    # Calculate the figure size based on the number of bars and scale of values\n",
    "    fig_size = (8, num_bars * 1)\n",
    "\n",
    "    plt.figure(figsize=fig_size)\n",
    "\n",
    "    # Define the index based on the length of the DataFrame\n",
    "    index = np.arange(len(df_selected_sorted))\n",
    "\n",
    "    # Plot production emissions\n",
    "    plt.barh(index, df_selected_sorted['total_production_emissions_intensity'], bar_height, color='blue', label='Production')\n",
    "\n",
    "    # Plot import emissions\n",
    "    plt.barh(index + bar_height, df_selected_sorted['total_import_emission_intensity'], bar_height, color='orange', label='Import')\n",
    "\n",
    "    # Customize the plot\n",
    "    plt.xlabel('Emission Intensity, kg CO2eq/kg')\n",
    "    plt.title(title)\n",
    "    plt.yticks(index + bar_height / 2, df_selected_sorted['item'])\n",
    "    plt.legend()\n",
    "\n",
    "    # Show the plot\n",
    "    plt.show()\n",
    "\n",
    "# Create separate plots for each product list\n",
    "create_grouped_bar_chart(selected_meat, 'Emission Intensity, Meat Products')\n",
    "create_grouped_bar_chart(selected_crops, 'Emission Intensity, Crops')\n",
    "create_grouped_bar_chart(selected_milk_eggs, 'Emission Intensity, Milk and Eggs')"
   ]
  },
  {
   "cell_type": "markdown",
   "metadata": {},
   "source": [
    "### Bubble charts"
   ]
  },
  {
   "cell_type": "markdown",
   "metadata": {},
   "source": [
    "#### Meat emissions"
   ]
  },
  {
   "cell_type": "markdown",
   "metadata": {},
   "source": [
    "Creating a bubble chart for worldwide meat emissions in 2020."
   ]
  },
  {
   "cell_type": "code",
   "execution_count": null,
   "metadata": {},
   "outputs": [],
   "source": [
    "# Defining new, shorter names for meat food items\n",
    "def meat_type(food_item):\n",
    "    if food_item == 'Meat of cattle with the bone, fresh or chilled':\n",
    "        return 'cattle'\n",
    "    elif food_item == 'Meat of pig with the bone, fresh or chilled':\n",
    "        return 'pigs'\n",
    "    elif food_item == 'Meat of chickens, fresh or chilled':\n",
    "        return 'chickens'\n",
    "    return 'other animals'\n",
    "\n",
    "world_emissions_meat = world_emissions[world_emissions.item_group == 'Meat, Total']\n",
    "world_emissions_meat['meat_type'] = world_emissions_meat.item.apply(lambda x: meat_type(x))"
   ]
  },
  {
   "cell_type": "code",
   "execution_count": null,
   "metadata": {},
   "outputs": [],
   "source": [
    "meat = world_emissions_meat.meat_type.unique().tolist()\n",
    "meat"
   ]
  },
  {
   "cell_type": "code",
   "execution_count": null,
   "metadata": {},
   "outputs": [],
   "source": [
    "world_emissions_grouped = world_emissions[['item', 'year', 'emissions_co2eq_combined_in_kt']].groupby(['item', 'year'], as_index=False).agg('mean')"
   ]
  },
  {
   "cell_type": "code",
   "execution_count": null,
   "metadata": {},
   "outputs": [],
   "source": [
    "world_emissions_grouped_meat = world_emissions_meat[['meat_type', 'year', 'production_in_t', 'emissions_co2eq_combined_in_kt']].groupby(['meat_type', 'year'], as_index=False).agg('sum')"
   ]
  },
  {
   "cell_type": "code",
   "execution_count": null,
   "metadata": {},
   "outputs": [],
   "source": [
    "world_emissions_grouped_2020 = world_emissions_grouped_meat[world_emissions_grouped_9['year']== 2020]"
   ]
  },
  {
   "cell_type": "code",
   "execution_count": null,
   "metadata": {},
   "outputs": [],
   "source": [
    "world_emissions_grouped_2020_sorted = world_emissions_grouped_2020.sort_values(by='emissions_co2eq_combined_in_kt', ascending=True)"
   ]
  },
  {
   "cell_type": "code",
   "execution_count": null,
   "metadata": {},
   "outputs": [],
   "source": [
    "world_emissions_grouped_2020_sorted['emissions_co2eq_combined_in_kt'] = \\\n",
    "    world_emissions_grouped_2020_sorted['emissions_co2eq_combined_in_kt'].round()"
   ]
  },
  {
   "cell_type": "code",
   "execution_count": null,
   "metadata": {},
   "outputs": [],
   "source": [
    "world_emissions_grouped_2020_sorted.head()"
   ]
  },
  {
   "cell_type": "code",
   "execution_count": null,
   "metadata": {},
   "outputs": [],
   "source": [
    "# compute circle positions:\n",
    "circles = circlify.circlify(\n",
    "    world_emissions_grouped_2020_sorted['emissions_co2eq_combined_in_kt'].tolist(),\n",
    "    show_enclosure=False, \n",
    "    target_enclosure=circlify.Circle(x=0, y=0, r=1)\n",
    ")"
   ]
  },
  {
   "cell_type": "code",
   "execution_count": null,
   "metadata": {},
   "outputs": [],
   "source": [
    "# Create just a figure and only one subplot\n",
    "fig, ax = plt.subplots(figsize=(8,8))\n",
    "\n",
    "# Create a list of colors for each label\n",
    "colors = ['#ff7f0e', '#d62728', '#2ca02c', '#1f77b4']\n",
    "\n",
    "# Create a dictionary of font sizes for each label \n",
    "font_sizes = {\n",
    "    'cattle': 12,\n",
    "    'other animals': 10,\n",
    "    'pigs': 10,\n",
    "    'chickens': 10\n",
    "}\n",
    "\n",
    "\n",
    "# Remove axes\n",
    "ax.axis('off')\n",
    "\n",
    "# Title\n",
    "ax.set_title('Meat emissions, 2020')\n",
    "\n",
    "# Find axis boundaries\n",
    "lim = max(\n",
    "    max(\n",
    "        abs(circle.x) + circle.r,\n",
    "        abs(circle.y) + circle.r,\n",
    "    )\n",
    "    for circle in circles\n",
    ")\n",
    "plt.xlim(-lim, lim)\n",
    "plt.ylim(-lim, lim)\n",
    "\n",
    "# list of labels\n",
    "labels = world_emissions_grouped_2020_sorted['meat_type']\n",
    "\n",
    "# Create a list of emission shares in % \n",
    "percentages = [2.1, 6.5, 23.5, 67.8]\n",
    "\n",
    "# print circles\n",
    "for circle, label, color, percentage in zip(circles, labels, colors, percentages):\n",
    "    x, y, r = circle\n",
    "    ax.add_patch(plt.Circle((x, y), r*0.95, alpha=1, linewidth=2, facecolor=color, edgecolor=\"white\"))\n",
    "\n",
    "    # Concatenate label with percentage\n",
    "    label_with_percentage = f\"{label}\\n{percentage:.1f}%\"\n",
    "\n",
    "    ax.annotate(label_with_percentage, (circle.x, circle.y), ha='center', va='center', fontsize=font_sizes.get(label, 10))"
   ]
  },
  {
   "cell_type": "code",
   "execution_count": null,
   "metadata": {},
   "outputs": [],
   "source": []
  },
  {
   "cell_type": "markdown",
   "metadata": {},
   "source": [
    "#### Crop emissions"
   ]
  },
  {
   "cell_type": "code",
   "execution_count": null,
   "metadata": {},
   "outputs": [],
   "source": [
    "def crop_type(food_item):\n",
    "    if food_item == 'Rice':\n",
    "        return 'rice'\n",
    "    elif food_item == 'Wheat':\n",
    "        return 'wheat'\n",
    "    elif food_item == 'Maize (corn)':\n",
    "        return 'maize'\n",
    "    elif food_item == 'Sugar cane':\n",
    "        return 'sugar cane'\n",
    "    return 'other crops'\n",
    "\n",
    "world_emissions_crops = world_emissions[world_emissions.item_category == 'Crops, primary']\n",
    "world_emissions_crops['crop_type'] = world_emissions_crops.item.apply(lambda x: crop_type(x))"
   ]
  },
  {
   "cell_type": "code",
   "execution_count": null,
   "metadata": {},
   "outputs": [],
   "source": [
    "crops = world_emissions_crops.crop_type.unique().tolist()\n",
    "crops"
   ]
  },
  {
   "cell_type": "code",
   "execution_count": null,
   "metadata": {},
   "outputs": [],
   "source": [
    "world_emissions_grouped_crops = world_emissions_crops[['crop_type', 'year', 'production_in_t', 'emissions_co2eq_combined_in_kt']].groupby(['crop_type', 'year'], as_index=False).agg('sum')"
   ]
  },
  {
   "cell_type": "code",
   "execution_count": null,
   "metadata": {},
   "outputs": [],
   "source": [
    "world_emissions_grouped_crops.head()"
   ]
  },
  {
   "cell_type": "code",
   "execution_count": null,
   "metadata": {},
   "outputs": [],
   "source": [
    "world_emissions_grouped_crops_2020 = world_emissions_grouped_crops[world_emissions_grouped_crops['year']== 2020]"
   ]
  },
  {
   "cell_type": "code",
   "execution_count": null,
   "metadata": {},
   "outputs": [],
   "source": [
    "world_emissions_grouped_crops_2020_sorted = world_emissions_grouped_crops_2020.sort_values(by='emissions_co2eq_combined_in_kt', ascending=True)"
   ]
  },
  {
   "cell_type": "code",
   "execution_count": null,
   "metadata": {},
   "outputs": [],
   "source": [
    "world_emissions_grouped_crops_2020_sorted.head()"
   ]
  },
  {
   "cell_type": "code",
   "execution_count": null,
   "metadata": {},
   "outputs": [],
   "source": [
    "# compute circle positions:\n",
    "circles = circlify.circlify(\n",
    "    world_emissions_grouped_crops_2020_sorted['emissions_co2eq_combined_in_kt'].tolist(),\n",
    "    show_enclosure=False, \n",
    "    target_enclosure=circlify.Circle(x=0, y=0, r=1)\n",
    ")\n",
    "\n",
    "# Sort circles by their x-coordinate to distribute them more equally\n",
    "#circles.sort(key=lambda circle: circle.x)"
   ]
  },
  {
   "cell_type": "code",
   "execution_count": null,
   "metadata": {},
   "outputs": [],
   "source": [
    "# Create just a figure and only one subplot\n",
    "fig, ax = plt.subplots(figsize=(8,8))\n",
    "\n",
    "# Create a list of colors for each label\n",
    "colors = ['#d62728', '#ff7f0e', '#9467bd', '#1f77b4','#2ca02c']\n",
    "\n",
    "\n",
    "# Create a dictionary of font sizes for each label \n",
    "font_sizes = {\n",
    "    'rice': 12,\n",
    "    'maize': 12,\n",
    "    'wheat': 12,\n",
    "    'other crops': 12, \n",
    "    'sugar cane': 12\n",
    "}\n",
    "\n",
    "# Remove axes\n",
    "ax.axis('off')\n",
    "\n",
    "# Title\n",
    "ax.set_title('Crops emissions, 2020')\n",
    "\n",
    "# Find axis boundaries\n",
    "lim = max(\n",
    "    max(\n",
    "        abs(circle.x) + circle.r,\n",
    "        abs(circle.y) + circle.r,\n",
    "    )\n",
    "    for circle in circles\n",
    ")\n",
    "plt.xlim(-lim, lim)\n",
    "plt.ylim(-lim, lim)\n",
    "\n",
    "# list of labels\n",
    "labels = world_emissions_grouped_crops_2020_sorted['crop_type']\n",
    "\n",
    "# Create a list of emission shares in % \n",
    "percentages = [0.2, 5.3, 6.4, 7.3, 80.9 ]\n",
    "\n",
    "# print circles\n",
    "for circle, label, color, percentage in zip(circles, labels, colors, percentages):\n",
    "    x, y, r = circle\n",
    "    ax.add_patch(plt.Circle((x, y), r*1, alpha=1, linewidth=2, facecolor=color, edgecolor=\"white\"))\n",
    "\n",
    "    # Concatenate label with percentage\n",
    "    label_with_percentage = f\"{label}\\n{percentage:.1f}%\"\n",
    "\n",
    "    #ax.annotate(label_with_percentage, (circle.x, circle.y), ha='center', va='center', fontsize=font_sizes.get(label, 10))\n",
    "    \n",
    "    # Use annotate with xytext to place the label on the right side of the bubble for \"sugar cane\" only\n",
    "    if label == 'sugar cane':\n",
    "        ax.annotate(label_with_percentage, (circle.x, circle.y), xytext=(circle.x + r*2.5, circle.y),\n",
    "                    ha='left', va='center', fontsize=font_sizes.get(label, 10), arrowprops=dict(facecolor='black', width=2, headwidth=3, headlength =1))\n",
    "    else:\n",
    "        ax.annotate(label_with_percentage, (circle.x, circle.y), ha='center', va='center', fontsize=font_sizes.get(label, 10))\n",
    "\n",
    "plt.show()\n",
    "\n"
   ]
  },
  {
   "cell_type": "markdown",
   "metadata": {},
   "source": [
    "### Scatterplot emission intensity & import amount"
   ]
  },
  {
   "cell_type": "code",
   "execution_count": null,
   "metadata": {},
   "outputs": [],
   "source": [
    "#Create a data frame\n",
    "df_import_amount_emissions_ger = pd.merge(df_trade_prod_ger[['item', 'year', 'import_quantity']], df_emissions_ger[['item', 'import_year','total_import_emission_intensity', 'total_import_emission_amount']], left_on = ['item', 'year'], right_on = ['item', 'import_year'], how = 'left')"
   ]
  },
  {
   "cell_type": "code",
   "execution_count": null,
   "metadata": {},
   "outputs": [],
   "source": [
    "# Filter for selected items\n",
    "df_import_amount_emissions_ger = df_import_amount_emissions_ger[df_import_amount_emissions_ger['item'].isin(selected_items)]"
   ]
  },
  {
   "cell_type": "code",
   "execution_count": null,
   "metadata": {},
   "outputs": [],
   "source": [
    "# Filter for 2020\n",
    "df_import_amount_emissions_ger = df_import_amount_emissions_ger[df_import_amount_emissions_ger['year']==2020]"
   ]
  },
  {
   "cell_type": "code",
   "execution_count": 693,
   "metadata": {},
   "outputs": [],
   "source": [
    "def create_grouped_scatterplot(products):\n",
    "    sns.set_style(\"darkgrid\")\n",
    "    plt.figure(figsize=(6, 6))\n",
    "\n",
    "    # Filter dataframe based on selected products\n",
    "    df_selected = df_import_amount_emissions_ger[df_import_amount_emissions_ger['item'].isin(products)]\n",
    "    df_selected.dropna(subset=['total_import_emission_amount'], inplace=True)\n",
    "    \n",
    "    # Create a color mapping for each unique product\n",
    "    unique_products = df_selected['item'].unique()\n",
    "    colors = sns.color_palette(\"husl\", n_colors=len(unique_products))\n",
    "    color_mapping = dict(zip(unique_products, colors))\n",
    "\n",
    "    # Use the color mapping for both scatterplot and legend\n",
    "    sns.scatterplot(data=df_selected, x=\"import_quantity\", y=\"total_import_emission_intensity\",\n",
    "                    size=\"total_import_emission_amount\", hue='item', sizes=(50, 1000),\n",
    "                    palette=color_mapping)\n",
    "    \n",
    "    plt.xlabel(\"Import, t\")\n",
    "    plt.ylabel(\"Emission Intensity, kg CO2 eq/kg\")\n",
    "\n",
    "    # Create custom legend using the color mapping\n",
    "    legend_handles = [plt.Line2D([0], [0], marker='o', color='w', markerfacecolor=color_mapping[item], markersize=8, label=item)\n",
    "                      for item in unique_products]\n",
    "\n",
    "    # Add a transparent background to the legend\n",
    "    legend = plt.legend(handles=legend_handles, bbox_to_anchor=(1.02, 1), loc='upper right', fontsize=10, scatterpoints=1)\n",
    "    legend.get_frame().set_alpha(0.5)  # Set legend background transparency\n",
    "\n",
    "    plt.show()\n"
   ]
  },
  {
   "cell_type": "code",
   "execution_count": 697,
   "metadata": {},
   "outputs": [],
   "source": [
    "def create_grouped_scatterplot(products, name_mapping=None):\n",
    "    sns.set_style(\"darkgrid\")\n",
    "    plt.figure(figsize=(6, 6))\n",
    "\n",
    "    # Create a copy of the DataFrame to avoid SettingWithCopyWarning\n",
    "    df_selected = df_import_amount_emissions_ger[df_import_amount_emissions_ger['item'].isin(products)].copy()\n",
    "    df_selected.dropna(subset=['total_import_emission_amount'], inplace=True)\n",
    "    \n",
    "    # Use the provided name_mapping or create a default mapping\n",
    "    if name_mapping is None:\n",
    "        name_mapping = {item: item for item in products}\n",
    "    \n",
    "    # Rename items in the DataFrame\n",
    "    df_selected['item'] = df_selected['item'].map(name_mapping)\n",
    "\n",
    "    # Create a color mapping for each unique product\n",
    "    unique_products = df_selected['item'].unique()\n",
    "    colors = sns.color_palette(\"husl\", n_colors=len(unique_products))\n",
    "    color_mapping = dict(zip(unique_products, colors))\n",
    "\n",
    "    # Use the color mapping for both scatterplot and legend\n",
    "    sns.scatterplot(data=df_selected, x=\"import_quantity\", y=\"total_import_emission_intensity\",\n",
    "                    size=\"total_import_emission_amount\", hue='item', sizes=(50, 1000),\n",
    "                    palette=color_mapping)\n",
    "    \n",
    "    plt.xlabel(\"Import, t\")\n",
    "    plt.ylabel(\"Emission Intensity, kg CO2 eq/kg\")\n",
    "\n",
    "    # Create custom legend using the color mapping\n",
    "    legend_handles = [plt.Line2D([0], [0], marker='o', color='w', markerfacecolor=color_mapping[item], markersize=8, label=item)\n",
    "                      for item in unique_products]\n",
    "\n",
    "    # Add a transparent background to the legend\n",
    "    legend = plt.legend(handles=legend_handles, bbox_to_anchor=(1, 1), loc='upper right', fontsize=10, scatterpoints=1)\n",
    "    legend.get_frame().set_alpha(0.5)  # Set legend background transparency\n",
    "\n",
    "    plt.show()"
   ]
  },
  {
   "cell_type": "code",
   "execution_count": 667,
   "metadata": {},
   "outputs": [],
   "source": [
    "meat_and_milk = ['Meat of buffalo, fresh or chilled',\n",
    " 'Meat of cattle with the bone, fresh or chilled',\n",
    " 'Meat of chickens, fresh or chilled',\n",
    " 'Meat of goat, fresh or chilled',\n",
    " 'Meat of pig with the bone, fresh or chilled',\n",
    " 'Meat of sheep, fresh or chilled',\n",
    " 'Hen eggs in shell, fresh', \n",
    " 'Raw milk of cattle', \n",
    " 'Raw milk of sheep']"
   ]
  },
  {
   "cell_type": "code",
   "execution_count": null,
   "metadata": {},
   "outputs": [],
   "source": [
    "crops_and_vegetables = ['Maize (corn)',\n",
    " 'Wheat',\n",
    " 'Sorghum',\n",
    " 'Potatoes',\n",
    " 'Rye',\n",
    " 'Millet',\n",
    " 'Soya beans',\n",
    " 'Barley',\n",
    " 'Oats',\n",
    " 'Sugar cane',\n",
    " 'Beans, dry', \n",
    " 'Rice']"
   ]
  },
  {
   "cell_type": "code",
   "execution_count": 683,
   "metadata": {},
   "outputs": [],
   "source": [
    "name_mapping_animal_products = {'Meat of buffalo, fresh or chilled':'Buffalo meat', 'Meat of cattle with the bone, fresh or chilled':'Cattle meat', 'Meat of chickens, fresh or chilled':'Chicken meat', 'Meat of goat, fresh or chilled':'Goat meat', 'Meat of pig with the bone, fresh or chilled':'Pig meat', 'Meat of sheep, fresh or chilled':'Sheep meat', 'Hen eggs in shell, fresh':'Chicken eggs', 'Raw milk of cattle':'Raw milk of cattle', 'Raw milk of sheep':'Raw milk of sheep'}"
   ]
  },
  {
   "cell_type": "code",
   "execution_count": 699,
   "metadata": {},
   "outputs": [
    {
     "data": {
      "image/png": "[encoded data removed]",
      "text/plain": [
       "<Figure size 600x600 with 1 Axes>"
      ]
     },
     "metadata": {},
     "output_type": "display_data"
    }
   ],
   "source": [
    "# Create a scatterplot for animal products\n",
    "name_mapping_animal_products = {'Meat of buffalo, fresh or chilled':'Buffalo meat',\n",
    "                                 'Meat of cattle with the bone, fresh or chilled':'Cattle meat',\n",
    "                                   'Meat of chickens, fresh or chilled':'Chicken meat',\n",
    "                                     'Meat of goat, fresh or chilled':'Goat meat',\n",
    "                                       'Meat of pig with the bone, fresh or chilled':'Pig meat',\n",
    "                                         'Meat of sheep, fresh or chilled':'Sheep meat',\n",
    "                                           'Hen eggs in shell, fresh':'Chicken eggs',\n",
    "                                             'Raw milk of cattle':'Raw milk of cattle',\n",
    "                                               'Raw milk of sheep':'Raw milk of sheep'}\n",
    "\n",
    "create_grouped_scatterplot(meat_and_milk, name_mapping_animal_products)"
   ]
  },
  {
   "cell_type": "code",
   "execution_count": 700,
   "metadata": {},
   "outputs": [
    {
     "data": {
      "image/png": "[encoded data removed]",
      "text/plain": [
       "<Figure size 600x600 with 1 Axes>"
      ]
     },
     "metadata": {},
     "output_type": "display_data"
    }
   ],
   "source": [
    "# Create a scatterplot for crops and vegetables\n",
    "create_grouped_scatterplot(crops_and_vegetables)"
   ]
  },
  {
   "cell_type": "markdown",
   "metadata": {},
   "source": [
    "### Rice & soya beans import "
   ]
  },
  {
   "cell_type": "code",
   "execution_count": 705,
   "metadata": {},
   "outputs": [],
   "source": [
    "df_trade_ger_grouped = df_trade_ger.groupby(['reporting_country', 'partner_country', 'year', 'item']).sum().reset_index()"
   ]
  },
  {
   "cell_type": "code",
   "execution_count": 713,
   "metadata": {},
   "outputs": [
    {
     "data": {
      "text/html": [
       "<div>\n",
       "<style scoped>\n",
       "    .dataframe tbody tr th:only-of-type {\n",
       "        vertical-align: middle;\n",
       "    }\n",
       "\n",
       "    .dataframe tbody tr th {\n",
       "        vertical-align: top;\n",
       "    }\n",
       "\n",
       "    .dataframe thead th {\n",
       "        text-align: right;\n",
       "    }\n",
       "</style>\n",
       "<table border=\"1\" class=\"dataframe\">\n",
       "  <thead>\n",
       "    <tr style=\"text-align: right;\">\n",
       "      <th></th>\n",
       "      <th>reporting_country</th>\n",
       "      <th>partner_country</th>\n",
       "      <th>year</th>\n",
       "      <th>item</th>\n",
       "      <th>item_code</th>\n",
       "      <th>unit</th>\n",
       "      <th>export_quantity</th>\n",
       "      <th>export_value</th>\n",
       "      <th>import_quantity</th>\n",
       "      <th>import_value</th>\n",
       "    </tr>\n",
       "  </thead>\n",
       "  <tbody>\n",
       "    <tr>\n",
       "      <th>0</th>\n",
       "      <td>Germany</td>\n",
       "      <td>Afghanistan</td>\n",
       "      <td>1991</td>\n",
       "      <td>Apples</td>\n",
       "      <td>1030</td>\n",
       "      <td>1000 USDt</td>\n",
       "      <td>3.0</td>\n",
       "      <td>4.0</td>\n",
       "      <td>0.0</td>\n",
       "      <td>0.0</td>\n",
       "    </tr>\n",
       "    <tr>\n",
       "      <th>1</th>\n",
       "      <td>Germany</td>\n",
       "      <td>Afghanistan</td>\n",
       "      <td>1991</td>\n",
       "      <td>Beer of barley, malted</td>\n",
       "      <td>102</td>\n",
       "      <td>1000 USDt</td>\n",
       "      <td>147.0</td>\n",
       "      <td>99.0</td>\n",
       "      <td>0.0</td>\n",
       "      <td>0.0</td>\n",
       "    </tr>\n",
       "    <tr>\n",
       "      <th>2</th>\n",
       "      <td>Germany</td>\n",
       "      <td>Afghanistan</td>\n",
       "      <td>1991</td>\n",
       "      <td>Beeswax</td>\n",
       "      <td>2366</td>\n",
       "      <td>1000 USDt</td>\n",
       "      <td>4.0</td>\n",
       "      <td>17.0</td>\n",
       "      <td>0.0</td>\n",
       "      <td>0.0</td>\n",
       "    </tr>\n",
       "    <tr>\n",
       "      <th>3</th>\n",
       "      <td>Germany</td>\n",
       "      <td>Afghanistan</td>\n",
       "      <td>1991</td>\n",
       "      <td>Chocolate products nes</td>\n",
       "      <td>1332</td>\n",
       "      <td>1000 USDt</td>\n",
       "      <td>1.0</td>\n",
       "      <td>1.0</td>\n",
       "      <td>0.0</td>\n",
       "      <td>0.0</td>\n",
       "    </tr>\n",
       "    <tr>\n",
       "      <th>4</th>\n",
       "      <td>Germany</td>\n",
       "      <td>Afghanistan</td>\n",
       "      <td>1991</td>\n",
       "      <td>Cigarettes</td>\n",
       "      <td>1656</td>\n",
       "      <td>1000 USDt</td>\n",
       "      <td>82.0</td>\n",
       "      <td>576.0</td>\n",
       "      <td>0.0</td>\n",
       "      <td>0.0</td>\n",
       "    </tr>\n",
       "  </tbody>\n",
       "</table>\n",
       "</div>"
      ],
      "text/plain": [
       "  reporting_country partner_country  year                    item  item_code  \\\n",
       "0           Germany     Afghanistan  1991                  Apples       1030   \n",
       "1           Germany     Afghanistan  1991  Beer of barley, malted        102   \n",
       "2           Germany     Afghanistan  1991                 Beeswax       2366   \n",
       "3           Germany     Afghanistan  1991  Chocolate products nes       1332   \n",
       "4           Germany     Afghanistan  1991              Cigarettes       1656   \n",
       "\n",
       "        unit  export_quantity  export_value  import_quantity  import_value  \n",
       "0  1000 USDt              3.0           4.0              0.0           0.0  \n",
       "1  1000 USDt            147.0          99.0              0.0           0.0  \n",
       "2  1000 USDt              4.0          17.0              0.0           0.0  \n",
       "3  1000 USDt              1.0           1.0              0.0           0.0  \n",
       "4  1000 USDt             82.0         576.0              0.0           0.0  "
      ]
     },
     "execution_count": 713,
     "metadata": {},
     "output_type": "execute_result"
    }
   ],
   "source": [
    "df_trade_ger_grouped.head()"
   ]
  },
  {
   "cell_type": "code",
   "execution_count": 707,
   "metadata": {},
   "outputs": [
    {
     "data": {
      "text/html": [
       "<div>\n",
       "<style scoped>\n",
       "    .dataframe tbody tr th:only-of-type {\n",
       "        vertical-align: middle;\n",
       "    }\n",
       "\n",
       "    .dataframe tbody tr th {\n",
       "        vertical-align: top;\n",
       "    }\n",
       "\n",
       "    .dataframe thead th {\n",
       "        text-align: right;\n",
       "    }\n",
       "</style>\n",
       "<table border=\"1\" class=\"dataframe\">\n",
       "  <thead>\n",
       "    <tr style=\"text-align: right;\">\n",
       "      <th></th>\n",
       "      <th>item</th>\n",
       "      <th>import_year</th>\n",
       "      <th>total_import_share</th>\n",
       "      <th>total_import_emission_intensity</th>\n",
       "      <th>total_import_emission_amount</th>\n",
       "    </tr>\n",
       "  </thead>\n",
       "  <tbody>\n",
       "    <tr>\n",
       "      <th>0</th>\n",
       "      <td>Barley</td>\n",
       "      <td>1991</td>\n",
       "      <td>1.0</td>\n",
       "      <td>0.055287</td>\n",
       "      <td>212.018670</td>\n",
       "    </tr>\n",
       "    <tr>\n",
       "      <th>1</th>\n",
       "      <td>Barley</td>\n",
       "      <td>1992</td>\n",
       "      <td>1.0</td>\n",
       "      <td>0.059286</td>\n",
       "      <td>256.927590</td>\n",
       "    </tr>\n",
       "    <tr>\n",
       "      <th>2</th>\n",
       "      <td>Barley</td>\n",
       "      <td>1993</td>\n",
       "      <td>1.0</td>\n",
       "      <td>0.058420</td>\n",
       "      <td>370.455123</td>\n",
       "    </tr>\n",
       "    <tr>\n",
       "      <th>3</th>\n",
       "      <td>Barley</td>\n",
       "      <td>1994</td>\n",
       "      <td>1.0</td>\n",
       "      <td>0.059512</td>\n",
       "      <td>302.021275</td>\n",
       "    </tr>\n",
       "    <tr>\n",
       "      <th>4</th>\n",
       "      <td>Barley</td>\n",
       "      <td>1995</td>\n",
       "      <td>1.0</td>\n",
       "      <td>0.060029</td>\n",
       "      <td>322.431067</td>\n",
       "    </tr>\n",
       "  </tbody>\n",
       "</table>\n",
       "</div>"
      ],
      "text/plain": [
       "     item  import_year  total_import_share  total_import_emission_intensity  \\\n",
       "0  Barley         1991                 1.0                         0.055287   \n",
       "1  Barley         1992                 1.0                         0.059286   \n",
       "2  Barley         1993                 1.0                         0.058420   \n",
       "3  Barley         1994                 1.0                         0.059512   \n",
       "4  Barley         1995                 1.0                         0.060029   \n",
       "\n",
       "   total_import_emission_amount  \n",
       "0                    212.018670  \n",
       "1                    256.927590  \n",
       "2                    370.455123  \n",
       "3                    302.021275  \n",
       "4                    322.431067  "
      ]
     },
     "execution_count": 707,
     "metadata": {},
     "output_type": "execute_result"
    }
   ],
   "source": [
    "df_emissions_ger.head()"
   ]
  },
  {
   "cell_type": "code",
   "execution_count": 711,
   "metadata": {},
   "outputs": [],
   "source": [
    "df_production_grouped = df_production.groupby(['country', 'year','item']).sum().reset_index()"
   ]
  },
  {
   "cell_type": "code",
   "execution_count": 712,
   "metadata": {},
   "outputs": [
    {
     "data": {
      "text/html": [
       "<div>\n",
       "<style scoped>\n",
       "    .dataframe tbody tr th:only-of-type {\n",
       "        vertical-align: middle;\n",
       "    }\n",
       "\n",
       "    .dataframe tbody tr th {\n",
       "        vertical-align: top;\n",
       "    }\n",
       "\n",
       "    .dataframe thead th {\n",
       "        text-align: right;\n",
       "    }\n",
       "</style>\n",
       "<table border=\"1\" class=\"dataframe\">\n",
       "  <thead>\n",
       "    <tr style=\"text-align: right;\">\n",
       "      <th></th>\n",
       "      <th>country</th>\n",
       "      <th>year</th>\n",
       "      <th>item</th>\n",
       "      <th>continent</th>\n",
       "      <th>subcontinent</th>\n",
       "      <th>special_area</th>\n",
       "      <th>population</th>\n",
       "      <th>item_code</th>\n",
       "      <th>item_group</th>\n",
       "      <th>item_category</th>\n",
       "      <th>...</th>\n",
       "      <th>emissions_ch4_in_kt</th>\n",
       "      <th>emissions_n2o_in_kt</th>\n",
       "      <th>emissions_co2eq_calc_in_kt</th>\n",
       "      <th>emissions_intensity_calc_in_kg_co2eq_per_kg</th>\n",
       "      <th>source_emissions</th>\n",
       "      <th>emissions_co2eq_in_kt</th>\n",
       "      <th>emissions_intensity_in_kg_co2eq_per_kg</th>\n",
       "      <th>production_emissions_in_t</th>\n",
       "      <th>emissions_co2eq_combined_in_kt</th>\n",
       "      <th>emissions_intensity_combined_in_kg_co2eq_per_kg</th>\n",
       "    </tr>\n",
       "  </thead>\n",
       "  <tbody>\n",
       "    <tr>\n",
       "      <th>0</th>\n",
       "      <td>Afghanistan</td>\n",
       "      <td>1961</td>\n",
       "      <td>Apples</td>\n",
       "      <td>Asia</td>\n",
       "      <td>Southern Asia</td>\n",
       "      <td>Land Locked Developing Countries</td>\n",
       "      <td>8790140</td>\n",
       "      <td>515</td>\n",
       "      <td>Fruit Primary</td>\n",
       "      <td>Crops, primary</td>\n",
       "      <td>...</td>\n",
       "      <td>0.00</td>\n",
       "      <td>0.0000</td>\n",
       "      <td>0.0000</td>\n",
       "      <td>0.00</td>\n",
       "      <td>0</td>\n",
       "      <td>0.0</td>\n",
       "      <td>0.0</td>\n",
       "      <td>0.0</td>\n",
       "      <td>0.0000</td>\n",
       "      <td>0.00</td>\n",
       "    </tr>\n",
       "    <tr>\n",
       "      <th>1</th>\n",
       "      <td>Afghanistan</td>\n",
       "      <td>1961</td>\n",
       "      <td>Apricots</td>\n",
       "      <td>Asia</td>\n",
       "      <td>Southern Asia</td>\n",
       "      <td>Land Locked Developing Countries</td>\n",
       "      <td>8790140</td>\n",
       "      <td>526</td>\n",
       "      <td>Fruit Primary</td>\n",
       "      <td>Crops, primary</td>\n",
       "      <td>...</td>\n",
       "      <td>0.00</td>\n",
       "      <td>0.0000</td>\n",
       "      <td>0.0000</td>\n",
       "      <td>0.00</td>\n",
       "      <td>0</td>\n",
       "      <td>0.0</td>\n",
       "      <td>0.0</td>\n",
       "      <td>0.0</td>\n",
       "      <td>0.0000</td>\n",
       "      <td>0.00</td>\n",
       "    </tr>\n",
       "    <tr>\n",
       "      <th>2</th>\n",
       "      <td>Afghanistan</td>\n",
       "      <td>1961</td>\n",
       "      <td>Asses</td>\n",
       "      <td>Asia</td>\n",
       "      <td>Southern Asia</td>\n",
       "      <td>Land Locked Developing Countries</td>\n",
       "      <td>8790140</td>\n",
       "      <td>1107</td>\n",
       "      <td>-</td>\n",
       "      <td>Live Animals</td>\n",
       "      <td>...</td>\n",
       "      <td>13.78</td>\n",
       "      <td>0.6465</td>\n",
       "      <td>578.4970</td>\n",
       "      <td>0.00</td>\n",
       "      <td>FAO TIER 1</td>\n",
       "      <td>0.0</td>\n",
       "      <td>0.0</td>\n",
       "      <td>0.0</td>\n",
       "      <td>578.4970</td>\n",
       "      <td>0.00</td>\n",
       "    </tr>\n",
       "    <tr>\n",
       "      <th>3</th>\n",
       "      <td>Afghanistan</td>\n",
       "      <td>1961</td>\n",
       "      <td>Barley</td>\n",
       "      <td>Asia</td>\n",
       "      <td>Southern Asia</td>\n",
       "      <td>Land Locked Developing Countries</td>\n",
       "      <td>8790140</td>\n",
       "      <td>44</td>\n",
       "      <td>Cereals, primary</td>\n",
       "      <td>Crops, primary</td>\n",
       "      <td>...</td>\n",
       "      <td>0.00</td>\n",
       "      <td>0.1141</td>\n",
       "      <td>34.0018</td>\n",
       "      <td>0.08</td>\n",
       "      <td>FAO TIER 1</td>\n",
       "      <td>0.0</td>\n",
       "      <td>0.0</td>\n",
       "      <td>0.0</td>\n",
       "      <td>34.0018</td>\n",
       "      <td>0.08</td>\n",
       "    </tr>\n",
       "    <tr>\n",
       "      <th>4</th>\n",
       "      <td>Afghanistan</td>\n",
       "      <td>1961</td>\n",
       "      <td>Butter and ghee of sheep milk</td>\n",
       "      <td>Asia</td>\n",
       "      <td>Southern Asia</td>\n",
       "      <td>Land Locked Developing Countries</td>\n",
       "      <td>8790140</td>\n",
       "      <td>983</td>\n",
       "      <td>Butter and Ghee</td>\n",
       "      <td>Livestock processed</td>\n",
       "      <td>...</td>\n",
       "      <td>0.00</td>\n",
       "      <td>0.0000</td>\n",
       "      <td>0.0000</td>\n",
       "      <td>0.00</td>\n",
       "      <td>0</td>\n",
       "      <td>0.0</td>\n",
       "      <td>0.0</td>\n",
       "      <td>0.0</td>\n",
       "      <td>0.0000</td>\n",
       "      <td>0.00</td>\n",
       "    </tr>\n",
       "  </tbody>\n",
       "</table>\n",
       "<p>5 rows × 27 columns</p>\n",
       "</div>"
      ],
      "text/plain": [
       "       country  year                           item continent   subcontinent  \\\n",
       "0  Afghanistan  1961                         Apples      Asia  Southern Asia   \n",
       "1  Afghanistan  1961                       Apricots      Asia  Southern Asia   \n",
       "2  Afghanistan  1961                          Asses      Asia  Southern Asia   \n",
       "3  Afghanistan  1961                         Barley      Asia  Southern Asia   \n",
       "4  Afghanistan  1961  Butter and ghee of sheep milk      Asia  Southern Asia   \n",
       "\n",
       "                       special_area  population  item_code        item_group  \\\n",
       "0  Land Locked Developing Countries     8790140        515     Fruit Primary   \n",
       "1  Land Locked Developing Countries     8790140        526     Fruit Primary   \n",
       "2  Land Locked Developing Countries     8790140       1107                 -   \n",
       "3  Land Locked Developing Countries     8790140         44  Cereals, primary   \n",
       "4  Land Locked Developing Countries     8790140        983   Butter and Ghee   \n",
       "\n",
       "         item_category  ...  emissions_ch4_in_kt  emissions_n2o_in_kt  \\\n",
       "0       Crops, primary  ...                 0.00               0.0000   \n",
       "1       Crops, primary  ...                 0.00               0.0000   \n",
       "2         Live Animals  ...                13.78               0.6465   \n",
       "3       Crops, primary  ...                 0.00               0.1141   \n",
       "4  Livestock processed  ...                 0.00               0.0000   \n",
       "\n",
       "   emissions_co2eq_calc_in_kt  emissions_intensity_calc_in_kg_co2eq_per_kg  \\\n",
       "0                      0.0000                                         0.00   \n",
       "1                      0.0000                                         0.00   \n",
       "2                    578.4970                                         0.00   \n",
       "3                     34.0018                                         0.08   \n",
       "4                      0.0000                                         0.00   \n",
       "\n",
       "   source_emissions  emissions_co2eq_in_kt  \\\n",
       "0                 0                    0.0   \n",
       "1                 0                    0.0   \n",
       "2        FAO TIER 1                    0.0   \n",
       "3        FAO TIER 1                    0.0   \n",
       "4                 0                    0.0   \n",
       "\n",
       "  emissions_intensity_in_kg_co2eq_per_kg  production_emissions_in_t  \\\n",
       "0                                    0.0                        0.0   \n",
       "1                                    0.0                        0.0   \n",
       "2                                    0.0                        0.0   \n",
       "3                                    0.0                        0.0   \n",
       "4                                    0.0                        0.0   \n",
       "\n",
       "   emissions_co2eq_combined_in_kt  \\\n",
       "0                          0.0000   \n",
       "1                          0.0000   \n",
       "2                        578.4970   \n",
       "3                         34.0018   \n",
       "4                          0.0000   \n",
       "\n",
       "   emissions_intensity_combined_in_kg_co2eq_per_kg  \n",
       "0                                             0.00  \n",
       "1                                             0.00  \n",
       "2                                             0.00  \n",
       "3                                             0.08  \n",
       "4                                             0.00  \n",
       "\n",
       "[5 rows x 27 columns]"
      ]
     },
     "execution_count": 712,
     "metadata": {},
     "output_type": "execute_result"
    }
   ],
   "source": [
    "df_production_grouped.head()"
   ]
  },
  {
   "cell_type": "code",
   "execution_count": 745,
   "metadata": {},
   "outputs": [],
   "source": [
    "test = pd.merge(df_trade_ger_grouped, df_production_grouped[['country', 'year', 'item','emissions_intensity_combined_in_kg_co2eq_per_kg']], left_on =['partner_country', 'year', 'item'], right_on = ['country', 'year', 'item'], how = 'left')"
   ]
  },
  {
   "cell_type": "code",
   "execution_count": 746,
   "metadata": {},
   "outputs": [],
   "source": [
    "selected_items = ['Rice']"
   ]
  },
  {
   "cell_type": "code",
   "execution_count": 747,
   "metadata": {},
   "outputs": [],
   "source": [
    "# Filter for selected items\n",
    "test = test[test['item'].isin(selected_items)]"
   ]
  },
  {
   "cell_type": "code",
   "execution_count": 748,
   "metadata": {},
   "outputs": [],
   "source": [
    "# Filter for 2020\n",
    "test = test[test['year']==2020]"
   ]
  },
  {
   "cell_type": "code",
   "execution_count": 749,
   "metadata": {},
   "outputs": [],
   "source": [
    "# Drop rows where emission intensity is NA\n",
    "test.dropna(subset=['emissions_intensity_combined_in_kg_co2eq_per_kg'], inplace= True)"
   ]
  },
  {
   "cell_type": "code",
   "execution_count": 800,
   "metadata": {},
   "outputs": [
    {
     "data": {
      "image/png": "[encoded data removed]",
      "text/plain": [
       "<Figure size 1000x700 with 1 Axes>"
      ]
     },
     "metadata": {},
     "output_type": "display_data"
    }
   ],
   "source": [
    "import matplotlib.pyplot as plt\n",
    "import seaborn as sns\n",
    "\n",
    "# Set the figure size\n",
    "plt.figure(figsize=(10, 7))\n",
    "\n",
    "# Filter the dataframe where import_quantity is greater than 30\n",
    "test_filtered = test[test['import_quantity'] > 30]\n",
    "\n",
    "# Sort the filtered dataframe by the import_quantity column in descending order\n",
    "test_sorted = test_filtered.sort_values(by='import_quantity', ascending=False)\n",
    "\n",
    "# Define emission intensity ranges and corresponding colors\n",
    "emission_intensity_ranges = [(0, 1), (1, 2), (2, 5), (5, float('inf'))]\n",
    "colors = ['green', 'yellow', 'orange', 'red']\n",
    "\n",
    "# Create a custom color mapping based on emission intensity ranges\n",
    "color_mapping = {val: color for val, color in zip(emission_intensity_ranges, colors)}\n",
    "\n",
    "# Map the emission intensity values to corresponding colors\n",
    "test_sorted['color'] = pd.cut(\n",
    "    test_sorted['emissions_intensity_combined_in_kg_co2eq_per_kg'],\n",
    "    bins=[range[0] for range in emission_intensity_ranges] + [float('inf')],\n",
    "    labels=colors,\n",
    "    right=False\n",
    ")\n",
    "\n",
    "# Plot the main bars using barplot with custom color mapping\n",
    "bars = sns.barplot(\n",
    "    x=\"import_quantity\",\n",
    "    y=\"partner_country\",\n",
    "    data=test_sorted,\n",
    "    estimator=sum,\n",
    "    errorbar=None,\n",
    "    palette=test_sorted['color'],  # Use the 'color' column as the palette\n",
    ")\n",
    "\n",
    "# Create custom legend\n",
    "legend_labels = [f'{range[0]}-{range[1]}' if range[1] != float('inf') else f'{range[0]}+' for range in emission_intensity_ranges]\n",
    "legend_handles = [plt.Line2D([0], [0], marker='o', color='w', markerfacecolor=color, markersize=10) for color in colors]\n",
    "plt.legend(legend_handles, legend_labels, bbox_to_anchor=(1, 0.8), title='Emission Intensity Ranges', loc='upper right')\n",
    "\n",
    "# Set labels and title\n",
    "plt.xlabel('Import Quantity')\n",
    "plt.ylabel('Partner Country')\n",
    "plt.title('Rice, Emissions per import country')\n",
    "\n",
    "# Display the plot\n",
    "plt.show()\n"
   ]
  },
  {
   "cell_type": "code",
   "execution_count": 788,
   "metadata": {},
   "outputs": [
    {
     "ename": "ValueError",
     "evalue": "All arrays must be of the same length",
     "output_type": "error",
     "traceback": [
      "\u001b[0;31m---------------------------------------------------------------------------\u001b[0m",
      "\u001b[0;31mValueError\u001b[0m                                Traceback (most recent call last)",
      "Cell \u001b[0;32mIn[788], line 12\u001b[0m\n\u001b[1;32m      3\u001b[0m \u001b[38;5;66;03m# Sample data\u001b[39;00m\n\u001b[1;32m      4\u001b[0m data \u001b[38;5;241m=\u001b[39m {\n\u001b[1;32m      5\u001b[0m     \u001b[38;5;124m'\u001b[39m\u001b[38;5;124mcountry\u001b[39m\u001b[38;5;124m'\u001b[39m: [\u001b[38;5;124m'\u001b[39m\u001b[38;5;124mGermany\u001b[39m\u001b[38;5;124m'\u001b[39m]\u001b[38;5;241m*\u001b[39m\u001b[38;5;241m28\u001b[39m,\n\u001b[1;32m      6\u001b[0m     \u001b[38;5;124m'\u001b[39m\u001b[38;5;124mpartner_country\u001b[39m\u001b[38;5;124m'\u001b[39m: [\u001b[38;5;124m'\u001b[39m\u001b[38;5;124mAzerbaijan\u001b[39m\u001b[38;5;124m'\u001b[39m, \u001b[38;5;124m'\u001b[39m\u001b[38;5;124mBelgium\u001b[39m\u001b[38;5;124m'\u001b[39m, \u001b[38;5;124m'\u001b[39m\u001b[38;5;124mBulgaria\u001b[39m\u001b[38;5;124m'\u001b[39m, \u001b[38;5;124m'\u001b[39m\u001b[38;5;124mCzechia\u001b[39m\u001b[38;5;124m'\u001b[39m, \u001b[38;5;124m'\u001b[39m\u001b[38;5;124mDenmark\u001b[39m\u001b[38;5;124m'\u001b[39m, \u001b[38;5;124m'\u001b[39m\u001b[38;5;124mFinland\u001b[39m\u001b[38;5;124m'\u001b[39m, \u001b[38;5;124m'\u001b[39m\u001b[38;5;124mFrance\u001b[39m\u001b[38;5;124m'\u001b[39m, \u001b[38;5;124m'\u001b[39m\u001b[38;5;124mGhana\u001b[39m\u001b[38;5;124m'\u001b[39m, \u001b[38;5;124m'\u001b[39m\u001b[38;5;124mGreece\u001b[39m\u001b[38;5;124m'\u001b[39m, \u001b[38;5;124m'\u001b[39m\u001b[38;5;124mHungary\u001b[39m\u001b[38;5;124m'\u001b[39m,\n\u001b[0;32m   (...)\u001b[0m\n\u001b[1;32m      9\u001b[0m     \u001b[38;5;124m'\u001b[39m\u001b[38;5;124memissions_intensity_combined_in_kg_co2eq_per_kg\u001b[39m\u001b[38;5;124m'\u001b[39m: [\u001b[38;5;241m2.5908\u001b[39m, \u001b[38;5;241m0.0\u001b[39m, \u001b[38;5;241m5.509\u001b[39m, \u001b[38;5;241m0.0\u001b[39m, \u001b[38;5;241m0.0\u001b[39m, \u001b[38;5;241m0.0\u001b[39m, \u001b[38;5;241m23.0435\u001b[39m, \u001b[38;5;241m0.8114\u001b[39m, \u001b[38;5;241m2.3367\u001b[39m, \u001b[38;5;241m29.2664\u001b[39m, \u001b[38;5;241m0.8303\u001b[39m, \u001b[38;5;241m0.0\u001b[39m, \u001b[38;5;241m2.4633\u001b[39m, \u001b[38;5;241m0.9286\u001b[39m, \u001b[38;5;241m0.0\u001b[39m, \u001b[38;5;241m0.0\u001b[39m, \u001b[38;5;241m0.0\u001b[39m, \u001b[38;5;241m0.0\u001b[39m, \u001b[38;5;241m1.7203\u001b[39m, \u001b[38;5;241m1.2072\u001b[39m, \u001b[38;5;241m0.0\u001b[39m, \u001b[38;5;241m3.3826\u001b[39m, \u001b[38;5;241m1.0778\u001b[39m, \u001b[38;5;241m15.6129\u001b[39m, \u001b[38;5;241m3.4606\u001b[39m, \u001b[38;5;241m0.0\u001b[39m, \u001b[38;5;241m2.9895\u001b[39m, \u001b[38;5;241m1.8064\u001b[39m, \u001b[38;5;241m4.3018\u001b[39m, \u001b[38;5;241m1.047\u001b[39m]\n\u001b[1;32m     10\u001b[0m }\n\u001b[0;32m---> 12\u001b[0m df \u001b[38;5;241m=\u001b[39m \u001b[43mpd\u001b[49m\u001b[38;5;241;43m.\u001b[39;49m\u001b[43mDataFrame\u001b[49m\u001b[43m(\u001b[49m\u001b[43mdata\u001b[49m\u001b[43m)\u001b[49m\n\u001b[1;32m     14\u001b[0m \u001b[38;5;66;03m# Determine meaningful bins\u001b[39;00m\n\u001b[1;32m     15\u001b[0m bins \u001b[38;5;241m=\u001b[39m np\u001b[38;5;241m.\u001b[39mhistogram_bin_edges(df[\u001b[38;5;124m'\u001b[39m\u001b[38;5;124memissions_intensity_combined_in_kg_co2eq_per_kg\u001b[39m\u001b[38;5;124m'\u001b[39m], bins\u001b[38;5;241m=\u001b[39m\u001b[38;5;124m'\u001b[39m\u001b[38;5;124mauto\u001b[39m\u001b[38;5;124m'\u001b[39m)\n",
      "File \u001b[0;32m/usr/local/Caskroom/miniconda/base/envs/capstone/lib/python3.9/site-packages/pandas/core/frame.py:733\u001b[0m, in \u001b[0;36mDataFrame.__init__\u001b[0;34m(self, data, index, columns, dtype, copy)\u001b[0m\n\u001b[1;32m    727\u001b[0m     mgr \u001b[38;5;241m=\u001b[39m \u001b[38;5;28mself\u001b[39m\u001b[38;5;241m.\u001b[39m_init_mgr(\n\u001b[1;32m    728\u001b[0m         data, axes\u001b[38;5;241m=\u001b[39m{\u001b[38;5;124m\"\u001b[39m\u001b[38;5;124mindex\u001b[39m\u001b[38;5;124m\"\u001b[39m: index, \u001b[38;5;124m\"\u001b[39m\u001b[38;5;124mcolumns\u001b[39m\u001b[38;5;124m\"\u001b[39m: columns}, dtype\u001b[38;5;241m=\u001b[39mdtype, copy\u001b[38;5;241m=\u001b[39mcopy\n\u001b[1;32m    729\u001b[0m     )\n\u001b[1;32m    731\u001b[0m \u001b[38;5;28;01melif\u001b[39;00m \u001b[38;5;28misinstance\u001b[39m(data, \u001b[38;5;28mdict\u001b[39m):\n\u001b[1;32m    732\u001b[0m     \u001b[38;5;66;03m# GH#38939 de facto copy defaults to False only in non-dict cases\u001b[39;00m\n\u001b[0;32m--> 733\u001b[0m     mgr \u001b[38;5;241m=\u001b[39m \u001b[43mdict_to_mgr\u001b[49m\u001b[43m(\u001b[49m\u001b[43mdata\u001b[49m\u001b[43m,\u001b[49m\u001b[43m \u001b[49m\u001b[43mindex\u001b[49m\u001b[43m,\u001b[49m\u001b[43m \u001b[49m\u001b[43mcolumns\u001b[49m\u001b[43m,\u001b[49m\u001b[43m \u001b[49m\u001b[43mdtype\u001b[49m\u001b[38;5;241;43m=\u001b[39;49m\u001b[43mdtype\u001b[49m\u001b[43m,\u001b[49m\u001b[43m \u001b[49m\u001b[43mcopy\u001b[49m\u001b[38;5;241;43m=\u001b[39;49m\u001b[43mcopy\u001b[49m\u001b[43m,\u001b[49m\u001b[43m \u001b[49m\u001b[43mtyp\u001b[49m\u001b[38;5;241;43m=\u001b[39;49m\u001b[43mmanager\u001b[49m\u001b[43m)\u001b[49m\n\u001b[1;32m    734\u001b[0m \u001b[38;5;28;01melif\u001b[39;00m \u001b[38;5;28misinstance\u001b[39m(data, ma\u001b[38;5;241m.\u001b[39mMaskedArray):\n\u001b[1;32m    735\u001b[0m     \u001b[38;5;28;01mfrom\u001b[39;00m \u001b[38;5;21;01mnumpy\u001b[39;00m\u001b[38;5;21;01m.\u001b[39;00m\u001b[38;5;21;01mma\u001b[39;00m \u001b[38;5;28;01mimport\u001b[39;00m mrecords\n",
      "File \u001b[0;32m/usr/local/Caskroom/miniconda/base/envs/capstone/lib/python3.9/site-packages/pandas/core/internals/construction.py:503\u001b[0m, in \u001b[0;36mdict_to_mgr\u001b[0;34m(data, index, columns, dtype, typ, copy)\u001b[0m\n\u001b[1;32m    499\u001b[0m     \u001b[38;5;28;01melse\u001b[39;00m:\n\u001b[1;32m    500\u001b[0m         \u001b[38;5;66;03m# dtype check to exclude e.g. range objects, scalars\u001b[39;00m\n\u001b[1;32m    501\u001b[0m         arrays \u001b[38;5;241m=\u001b[39m [x\u001b[38;5;241m.\u001b[39mcopy() \u001b[38;5;28;01mif\u001b[39;00m \u001b[38;5;28mhasattr\u001b[39m(x, \u001b[38;5;124m\"\u001b[39m\u001b[38;5;124mdtype\u001b[39m\u001b[38;5;124m\"\u001b[39m) \u001b[38;5;28;01melse\u001b[39;00m x \u001b[38;5;28;01mfor\u001b[39;00m x \u001b[38;5;129;01min\u001b[39;00m arrays]\n\u001b[0;32m--> 503\u001b[0m \u001b[38;5;28;01mreturn\u001b[39;00m \u001b[43marrays_to_mgr\u001b[49m\u001b[43m(\u001b[49m\u001b[43marrays\u001b[49m\u001b[43m,\u001b[49m\u001b[43m \u001b[49m\u001b[43mcolumns\u001b[49m\u001b[43m,\u001b[49m\u001b[43m \u001b[49m\u001b[43mindex\u001b[49m\u001b[43m,\u001b[49m\u001b[43m \u001b[49m\u001b[43mdtype\u001b[49m\u001b[38;5;241;43m=\u001b[39;49m\u001b[43mdtype\u001b[49m\u001b[43m,\u001b[49m\u001b[43m \u001b[49m\u001b[43mtyp\u001b[49m\u001b[38;5;241;43m=\u001b[39;49m\u001b[43mtyp\u001b[49m\u001b[43m,\u001b[49m\u001b[43m \u001b[49m\u001b[43mconsolidate\u001b[49m\u001b[38;5;241;43m=\u001b[39;49m\u001b[43mcopy\u001b[49m\u001b[43m)\u001b[49m\n",
      "File \u001b[0;32m/usr/local/Caskroom/miniconda/base/envs/capstone/lib/python3.9/site-packages/pandas/core/internals/construction.py:114\u001b[0m, in \u001b[0;36marrays_to_mgr\u001b[0;34m(arrays, columns, index, dtype, verify_integrity, typ, consolidate)\u001b[0m\n\u001b[1;32m    111\u001b[0m \u001b[38;5;28;01mif\u001b[39;00m verify_integrity:\n\u001b[1;32m    112\u001b[0m     \u001b[38;5;66;03m# figure out the index, if necessary\u001b[39;00m\n\u001b[1;32m    113\u001b[0m     \u001b[38;5;28;01mif\u001b[39;00m index \u001b[38;5;129;01mis\u001b[39;00m \u001b[38;5;28;01mNone\u001b[39;00m:\n\u001b[0;32m--> 114\u001b[0m         index \u001b[38;5;241m=\u001b[39m \u001b[43m_extract_index\u001b[49m\u001b[43m(\u001b[49m\u001b[43marrays\u001b[49m\u001b[43m)\u001b[49m\n\u001b[1;32m    115\u001b[0m     \u001b[38;5;28;01melse\u001b[39;00m:\n\u001b[1;32m    116\u001b[0m         index \u001b[38;5;241m=\u001b[39m ensure_index(index)\n",
      "File \u001b[0;32m/usr/local/Caskroom/miniconda/base/envs/capstone/lib/python3.9/site-packages/pandas/core/internals/construction.py:677\u001b[0m, in \u001b[0;36m_extract_index\u001b[0;34m(data)\u001b[0m\n\u001b[1;32m    675\u001b[0m lengths \u001b[38;5;241m=\u001b[39m \u001b[38;5;28mlist\u001b[39m(\u001b[38;5;28mset\u001b[39m(raw_lengths))\n\u001b[1;32m    676\u001b[0m \u001b[38;5;28;01mif\u001b[39;00m \u001b[38;5;28mlen\u001b[39m(lengths) \u001b[38;5;241m>\u001b[39m \u001b[38;5;241m1\u001b[39m:\n\u001b[0;32m--> 677\u001b[0m     \u001b[38;5;28;01mraise\u001b[39;00m \u001b[38;5;167;01mValueError\u001b[39;00m(\u001b[38;5;124m\"\u001b[39m\u001b[38;5;124mAll arrays must be of the same length\u001b[39m\u001b[38;5;124m\"\u001b[39m)\n\u001b[1;32m    679\u001b[0m \u001b[38;5;28;01mif\u001b[39;00m have_dicts:\n\u001b[1;32m    680\u001b[0m     \u001b[38;5;28;01mraise\u001b[39;00m \u001b[38;5;167;01mValueError\u001b[39;00m(\n\u001b[1;32m    681\u001b[0m         \u001b[38;5;124m\"\u001b[39m\u001b[38;5;124mMixing dicts with non-Series may lead to ambiguous ordering.\u001b[39m\u001b[38;5;124m\"\u001b[39m\n\u001b[1;32m    682\u001b[0m     )\n",
      "\u001b[0;31mValueError\u001b[0m: All arrays must be of the same length"
     ]
    }
   ],
   "source": [
    "import numpy as np\n",
    "\n",
    "# Sample data\n",
    "data = {\n",
    "    'country': ['Germany']*28,\n",
    "    'partner_country': ['Azerbaijan', 'Belgium', 'Bulgaria', 'Czechia', 'Denmark', 'Finland', 'France', 'Ghana', 'Greece', 'Hungary',\n",
    "                        'India', 'Ireland', 'Italy', 'Japan', 'Lithuania', 'Luxembourg', 'Netherlands (Kingdom of the)', 'Nigeria',\n",
    "                        'Pakistan', 'Poland', 'Portugal', 'Republic of Korea', 'Romania', 'Saudi Arabia', 'Slovenia', 'Spain', 'Thailand', 'Uzbekistan', 'Viet Nam'],\n",
    "    'emissions_intensity_combined_in_kg_co2eq_per_kg': [2.5908, 0.0, 5.509, 0.0, 0.0, 0.0, 23.0435, 0.8114, 2.3367, 29.2664, 0.8303, 0.0, 2.4633, 0.9286, 0.0, 0.0, 0.0, 0.0, 1.7203, 1.2072, 0.0, 3.3826, 1.0778, 15.6129, 3.4606, 0.0, 2.9895, 1.8064, 4.3018, 1.047]\n",
    "}\n",
    "\n",
    "df = pd.DataFrame(data)\n",
    "\n",
    "# Determine meaningful bins\n",
    "bins = np.histogram_bin_edges(df['emissions_intensity_combined_in_kg_co2eq_per_kg'], bins='auto')\n",
    "\n",
    "# Convert bins to a list\n",
    "bins_list = bins.tolist()\n",
    "\n",
    "# Print the list of bins\n",
    "print(bins_list)\n"
   ]
  },
  {
   "cell_type": "markdown",
   "metadata": {},
   "source": [
    "### Create a production table"
   ]
  },
  {
   "cell_type": "code",
   "execution_count": null,
   "metadata": {},
   "outputs": [],
   "source": [
    "# import production data from database\n",
    "df_production = fs.get_dataframe('SELECT * FROM production_and_emissions_new')"
   ]
  },
  {
   "cell_type": "code",
   "execution_count": null,
   "metadata": {},
   "outputs": [],
   "source": [
    "test= fs.get_dataframe(\"SELECT * FROM production_and_emissions_new WHERE item = 'Beans, dry' AND country= 'Germany'\")"
   ]
  },
  {
   "cell_type": "code",
   "execution_count": null,
   "metadata": {},
   "outputs": [],
   "source": [
    "test"
   ]
  },
  {
   "cell_type": "code",
   "execution_count": null,
   "metadata": {},
   "outputs": [],
   "source": [
    "df_production['item'].unique()"
   ]
  },
  {
   "cell_type": "code",
   "execution_count": null,
   "metadata": {},
   "outputs": [],
   "source": [
    "df_production.head()"
   ]
  },
  {
   "cell_type": "markdown",
   "metadata": {},
   "source": [
    "### Emissions and production development over time"
   ]
  },
  {
   "cell_type": "code",
   "execution_count": null,
   "metadata": {},
   "outputs": [],
   "source": [
    "# Create a list of items in the 'livestock_primary' category\n",
    "livestock_primary = list(set(df_production[(df_production['item_category'] == 'Livestock primary') & (df_production['emissions_intensity_combined_in_kg_co2eq_per_kg'].notna())]['item'].tolist()))"
   ]
  },
  {
   "cell_type": "code",
   "execution_count": null,
   "metadata": {},
   "outputs": [],
   "source": [
    "# Create two separate lists for milk and meat items\n",
    "livestock_meat = ['Meat of cattle with the bone, fresh or chilled',\n",
    " 'Meat of buffalo, fresh or chilled',\n",
    " 'Meat of pig with the bone, fresh or chilled',\n",
    " 'Meat of sheep, fresh or chilled',\n",
    " 'Meat of chickens, fresh or chilled',\n",
    " 'Meat of goat, fresh or chilled']\n",
    "\n",
    "livestock_milk = ['Raw milk of buffalo','Raw milk of goats','Raw milk of camel','Raw milk of sheep','Raw milk of cattle']"
   ]
  },
  {
   "cell_type": "code",
   "execution_count": null,
   "metadata": {},
   "outputs": [],
   "source": [
    "# Create a list of items in the 'crops_primary' category\n",
    "crops_primary = list(set(df_production[(df_production['item_category'] == 'Crops, primary') & (df_production['emissions_intensity_combined_in_kg_co2eq_per_kg'].notna())]['item'].tolist()))"
   ]
  },
  {
   "cell_type": "code",
   "execution_count": null,
   "metadata": {},
   "outputs": [],
   "source": [
    "# Remove rice from the list\n",
    "crops_primary_wo_rice = ['Maize (corn)','Sugar cane','Barley','Potatoes','Millet','Wheat','Soya beans','Rye','Oats','Sorghum','Beans, dry']"
   ]
  },
  {
   "cell_type": "code",
   "execution_count": null,
   "metadata": {},
   "outputs": [],
   "source": [
    "# Create a list for remaining items\n",
    "rice_and_eggs = ['Hen eggs in shell, fresh', 'Rice']"
   ]
  },
  {
   "cell_type": "code",
   "execution_count": null,
   "metadata": {},
   "outputs": [],
   "source": [
    "emissions_intensity = df_production[['item', 'year', 'emissions_intensity_combined_in_kg_co2eq_per_kg']].groupby(['item', 'year'], as_index=False).agg('median')"
   ]
  },
  {
   "cell_type": "code",
   "execution_count": null,
   "metadata": {},
   "outputs": [],
   "source": [
    "emissions_intensity = emissions_intensity.dropna(subset=['emissions_intensity_combined_in_kg_co2eq_per_kg'])"
   ]
  },
  {
   "cell_type": "code",
   "execution_count": null,
   "metadata": {},
   "outputs": [],
   "source": [
    "# Create subplots\n",
    "fig, axes = plt.subplots(nrows=2, ncols=2, figsize=(18, 18) )\n",
    "\n",
    "# Iterate over livestock_meat items\n",
    "for item in livestock_meat:\n",
    "    item_data = emissions_intensity[emissions_intensity['item'] == item]\n",
    "    item_data.plot(x='year', y='emissions_intensity_combined_in_kg_co2eq_per_kg', ax=axes[0,0], label=item)\n",
    "\n",
    "axes[0,0].legend()\n",
    "axes[0,0].set_ylabel('Emission Intensity, kg CO2eq/kg product')\n",
    "axes[0,0].set_title('Meat')\n",
    "\n",
    "# Iterate over livestock_meat items\n",
    "for item in livestock_milk:\n",
    "    item_data = emissions_intensity[emissions_intensity['item'] == item]\n",
    "    item_data.plot(x='year', y='emissions_intensity_combined_in_kg_co2eq_per_kg', ax=axes[0,1], label=item)\n",
    "\n",
    "axes[0,1].legend()\n",
    "axes[0,1].set_ylabel('Emission Intensity, kg CO2eq/kg product')\n",
    "axes[0,1].set_title('Dairy')\n",
    "\n",
    "# Iterate over crop items\n",
    "for item in crops_primary_wo_rice:\n",
    "    item_data = emissions_intensity[emissions_intensity['item'] == item]\n",
    "    item_data.plot(x='year', y='emissions_intensity_combined_in_kg_co2eq_per_kg', ax=axes[1,0], label=item)\n",
    "\n",
    "axes[1,0].legend()\n",
    "axes[1,0].set_ylabel('Emission Intensity, kg CO2eq/kg product')\n",
    "axes[1,0].set_title('Crops')\n",
    "\n",
    "# Iterate over other items\n",
    "for item in rice_and_eggs:\n",
    "    item_data = emissions_intensity[emissions_intensity['item'] == item]\n",
    "    item_data.plot(x='year', y='emissions_intensity_combined_in_kg_co2eq_per_kg', ax=axes[1,1], label=item)\n",
    "\n",
    "axes[1,1].legend()\n",
    "axes[1,1].set_ylabel('Emission Intensity, kg CO2eq/kg product')\n",
    "axes[1,1].set_title('Other')\n",
    "\n",
    "# Adjust layout to prevent overlap\n",
    "plt.tight_layout()\n",
    "\n",
    "# Display the plots\n",
    "plt.show()"
   ]
  },
  {
   "cell_type": "markdown",
   "metadata": {},
   "source": [
    "We see an overall decrease in emission intensity among different product groups. This trend is especially strong for rice, eggs and some of the meat products."
   ]
  },
  {
   "cell_type": "code",
   "execution_count": null,
   "metadata": {},
   "outputs": [],
   "source": [
    "# Calculate total production amount per item and year\n",
    "production_amount_item = df_production[['item', 'year', 'production_in_t']].groupby(['item', 'year'], as_index=False).agg('sum')"
   ]
  },
  {
   "cell_type": "code",
   "execution_count": null,
   "metadata": {},
   "outputs": [],
   "source": [
    "production_amount_item.head()"
   ]
  },
  {
   "cell_type": "markdown",
   "metadata": {},
   "source": [
    "At the same time, production of these items is growing rapidly, driven by the population growth. \n",
    "This is especially true for widely consumed items such as pork, beef and chicken meat, rice, sugar cane and cattle milk. "
   ]
  },
  {
   "cell_type": "code",
   "execution_count": null,
   "metadata": {},
   "outputs": [],
   "source": [
    "# Plot production development of meat and crop food items over time. \n",
    "# Create subplots\n",
    "fig, axes = plt.subplots(nrows=2, ncols=2, figsize=(18, 18) )\n",
    "\n",
    "# Iterate over livestock_meat items\n",
    "for item in livestock_meat:\n",
    "    item_data = production_amount_item[production_amount_item['item'] == item]\n",
    "    item_data.plot(x='year', y='production_in_t', ax=axes[0,0], label=item)\n",
    "\n",
    "axes[0,0].legend()\n",
    "axes[0,0].set_ylabel('Production, t')\n",
    "axes[0,0].set_title('Meat')\n",
    "\n",
    "# Iterate over livestock_meat items\n",
    "for item in livestock_milk:\n",
    "    item_data = production_amount_item[production_amount_item['item'] == item]\n",
    "    item_data.plot(x='year', y='production_in_t', ax=axes[0,1], label=item)\n",
    "\n",
    "axes[0,1].legend()\n",
    "axes[0,1].set_ylabel('Production, t')\n",
    "axes[0,1].set_title('Dairy')\n",
    "\n",
    "# Iterate over crop items\n",
    "for item in crops_primary_wo_rice:\n",
    "    item_data = production_amount_item[production_amount_item['item'] == item]\n",
    "    item_data.plot(x='year', y='production_in_t', ax=axes[1,0], label=item)\n",
    "\n",
    "axes[1,0].legend()\n",
    "axes[1,0].set_ylabel('Production, t')\n",
    "axes[1,0].set_title('Crops')\n",
    "\n",
    "# Iterate over other items\n",
    "for item in rice_and_eggs:\n",
    "    item_data = production_amount_item[production_amount_item['item'] == item]\n",
    "    item_data.plot(x='year', y='production_in_t', ax=axes[1,1], label=item)\n",
    "\n",
    "axes[1,1].legend()\n",
    "axes[1,1].set_ylabel('Production, t')\n",
    "axes[1,1].set_title('Other')\n",
    "\n",
    "# Adjust layout to prevent overlap\n",
    "plt.tight_layout()\n",
    "\n",
    "# Display the plots\n",
    "plt.show()"
   ]
  },
  {
   "cell_type": "markdown",
   "metadata": {},
   "source": [
    "### Production by country"
   ]
  },
  {
   "cell_type": "code",
   "execution_count": null,
   "metadata": {},
   "outputs": [],
   "source": [
    "production_amount_country = df_production[(df_production['area_group'] == 'no') & (df_production['area'] != 'China')]\\\n",
    "    [['area', 'population', 'production_in_t']]\\\n",
    "    .groupby(['area'], as_index=False)\\\n",
    "    .agg('sum')"
   ]
  },
  {
   "cell_type": "code",
   "execution_count": null,
   "metadata": {},
   "outputs": [],
   "source": [
    "# Calculating production per capita\n",
    "production_amount_country['production_per_capita'] = production_amount_country['production_in_t'] / production_amount_country['population']"
   ]
  },
  {
   "cell_type": "code",
   "execution_count": null,
   "metadata": {},
   "outputs": [],
   "source": [
    "production_amount_country.head()"
   ]
  },
  {
   "cell_type": "code",
   "execution_count": null,
   "metadata": {},
   "outputs": [],
   "source": [
    "fig, axes = plt.subplots(nrows=1, ncols=2, figsize=(18, 8))\n",
    "\n",
    "# Plot the top-10 agricultural producers by total production\n",
    "production_amount_country.sort_values(by='production_in_t', ascending=False)\\\n",
    "    .head(10).plot.bar(x='area', y='production_in_t', ax=axes[0], logy=False)\n",
    "axes[0].set_title('Top-10 food producers by total production')\n",
    "axes[0].get_legend().remove()\n",
    "axes[0].set_ylabel('t')\n",
    "\n",
    "# Plot the top-10 agricultural producers by production per capita\n",
    "production_amount_country.sort_values(by='production_per_capita', ascending=False)\\\n",
    "    .head(10).plot.bar(x='area', y='production_per_capita', ax=axes[1], logy=False)\n",
    "axes[1].set_title('Top-10 food producers by production per capita')\n",
    "axes[1].get_legend().remove()\n",
    "axes[1].set_ylabel('t / capita')\n",
    "\n",
    "# Adjust layout to prevent overlap\n",
    "plt.tight_layout()\n",
    "\n",
    "# Show the plots\n",
    "plt.show()\n"
   ]
  },
  {
   "cell_type": "markdown",
   "metadata": {},
   "source": [
    "### Emissions by country"
   ]
  },
  {
   "cell_type": "code",
   "execution_count": null,
   "metadata": {},
   "outputs": [],
   "source": [
    "production_amount_country = df_production[(df_production['area_group'] == 'no') & (df_production['area'] != 'China')]\\\n",
    "    [['area', 'population', 'emissions_co2eq_in_kt']]\\\n",
    "    .groupby(['area'], as_index=False)\\\n",
    "    .agg('sum')"
   ]
  },
  {
   "cell_type": "code",
   "execution_count": null,
   "metadata": {},
   "outputs": [],
   "source": [
    "# Calculating emissions per capita\n",
    "production_amount_country['emissions_per_capita'] = production_amount_country['emissions_co2eq_in_kt'] / production_amount_country['population']"
   ]
  },
  {
   "cell_type": "code",
   "execution_count": null,
   "metadata": {},
   "outputs": [],
   "source": [
    "# Plot the top-10 countries by emission amount\n",
    "fig, ax = plt.subplots(figsize=(3, 3))\n",
    "production_amount_country.sort_values(by='emissions_co2eq_in_kt', ascending=False)\\\n",
    "    .head(10).plot.bar(x='area', y='emissions_co2eq_in_kt', ax=ax, logy=True)\n",
    "ax.set_title('Top-10 countries by emission amount')\n",
    "ax.get_legend().remove()\n",
    "ax.set_ylabel('t')\n",
    "plt.show()"
   ]
  },
  {
   "cell_type": "code",
   "execution_count": null,
   "metadata": {},
   "outputs": [],
   "source": [
    "# Plot the top-10 countries by emission amount per capita\n",
    "fig, ax = plt.subplots(figsize=(3, 3))\n",
    "production_amount_country.sort_values(by='emissions_per_capita', ascending=False)\\\n",
    "    .head(10).plot.bar(x='area', y='emissions_per_capita', ax=ax, logy=True)\n",
    "ax.set_title('Top-10 countries by emission per capita amount')\n",
    "ax.get_legend().remove()\n",
    "ax.set_ylabel('t')\n",
    "plt.show()"
   ]
  }
 ],
 "metadata": {
  "kernelspec": {
   "display_name": "capstone",
   "language": "python",
   "name": "python3"
  },
  "language_info": {
   "codemirror_mode": {
    "name": "ipython",
    "version": 3
   },
   "file_extension": ".py",
   "mimetype": "text/x-python",
   "name": "python",
   "nbconvert_exporter": "python",
   "pygments_lexer": "ipython3",
   "version": "3.9.18"
  }
 },
 "nbformat": 4,
 "nbformat_minor": 2
}
