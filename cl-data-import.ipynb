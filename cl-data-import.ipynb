{
 "cells": [
  {
   "cell_type": "code",
   "execution_count": 1,
   "metadata": {},
   "outputs": [],
   "source": [
    "# Import packages\n",
    "import pandas as pd\n",
    "import numpy as np \n",
    "import requests \n",
    "import zipfile\n",
    "import psycopg2\n",
    "import sql_functions as sf"
   ]
  },
  {
   "cell_type": "code",
   "execution_count": 2,
   "metadata": {},
   "outputs": [],
   "source": [
    "engine = get_engine()"
   ]
  },
  {
   "cell_type": "markdown",
   "metadata": {},
   "source": [
    "### Import & examine crops & livestock production data"
   ]
  },
  {
   "cell_type": "code",
   "execution_count": 12,
   "metadata": {},
   "outputs": [],
   "source": [
    "url = f'https://fenixservices.fao.org/faostat/static/bulkdownloads/Production_Crops_Livestock_E_All_Data_(Normalized).zip'\n",
    "zip_file = 'Production_Crops_Livestock_E_All_Data_(Normalized).zip'\n",
    "path = '/Users/cornelialutz/neuefische/capstone-dataverse-sh/data/'\n",
    "csv_file = 'Production_Crops_Livestock_E_All_Data_(Normalized).csv'"
   ]
  },
  {
   "cell_type": "code",
   "execution_count": 22,
   "metadata": {},
   "outputs": [
    {
     "data": {
      "text/plain": [
       "'/Users/cornelialutz/neuefische/capstone-dataverse-sh/data/Production_Crops_Livestock_E_All_Data_(Normalized).csv'"
      ]
     },
     "execution_count": 22,
     "metadata": {},
     "output_type": "execute_result"
    }
   ],
   "source": [
    "r = requests.get(url)\n",
    "with open(path+zip_file, 'wb') as f:\n",
    "    f.write(r.content)\n",
    "\n",
    "data = zipfile.ZipFile(path+zip_file, 'r')\n",
    "data.extract(csv_file, path)"
   ]
  },
  {
   "cell_type": "code",
   "execution_count": 13,
   "metadata": {},
   "outputs": [],
   "source": [
    "# Import crops & livestock data for all countries\n",
    "production = pd.read_csv(path+csv_file, encoding='latin-1', low_memory=False)"
   ]
  },
  {
   "cell_type": "code",
   "execution_count": 24,
   "metadata": {},
   "outputs": [
    {
     "data": {
      "text/html": [
       "<div>\n",
       "<style scoped>\n",
       "    .dataframe tbody tr th:only-of-type {\n",
       "        vertical-align: middle;\n",
       "    }\n",
       "\n",
       "    .dataframe tbody tr th {\n",
       "        vertical-align: top;\n",
       "    }\n",
       "\n",
       "    .dataframe thead th {\n",
       "        text-align: right;\n",
       "    }\n",
       "</style>\n",
       "<table border=\"1\" class=\"dataframe\">\n",
       "  <thead>\n",
       "    <tr style=\"text-align: right;\">\n",
       "      <th></th>\n",
       "      <th>Area Code</th>\n",
       "      <th>Area Code (M49)</th>\n",
       "      <th>Area</th>\n",
       "      <th>Item Code</th>\n",
       "      <th>Item Code (CPC)</th>\n",
       "      <th>Item</th>\n",
       "      <th>Element Code</th>\n",
       "      <th>Element</th>\n",
       "      <th>Year Code</th>\n",
       "      <th>Year</th>\n",
       "      <th>Unit</th>\n",
       "      <th>Value</th>\n",
       "      <th>Flag</th>\n",
       "      <th>Note</th>\n",
       "    </tr>\n",
       "  </thead>\n",
       "  <tbody>\n",
       "    <tr>\n",
       "      <th>0</th>\n",
       "      <td>2</td>\n",
       "      <td>'004</td>\n",
       "      <td>Afghanistan</td>\n",
       "      <td>221</td>\n",
       "      <td>'01371</td>\n",
       "      <td>Almonds, in shell</td>\n",
       "      <td>5312</td>\n",
       "      <td>Area harvested</td>\n",
       "      <td>1975</td>\n",
       "      <td>1975</td>\n",
       "      <td>ha</td>\n",
       "      <td>0.0</td>\n",
       "      <td>E</td>\n",
       "      <td>NaN</td>\n",
       "    </tr>\n",
       "    <tr>\n",
       "      <th>1</th>\n",
       "      <td>2</td>\n",
       "      <td>'004</td>\n",
       "      <td>Afghanistan</td>\n",
       "      <td>221</td>\n",
       "      <td>'01371</td>\n",
       "      <td>Almonds, in shell</td>\n",
       "      <td>5312</td>\n",
       "      <td>Area harvested</td>\n",
       "      <td>1976</td>\n",
       "      <td>1976</td>\n",
       "      <td>ha</td>\n",
       "      <td>5900.0</td>\n",
       "      <td>E</td>\n",
       "      <td>NaN</td>\n",
       "    </tr>\n",
       "    <tr>\n",
       "      <th>2</th>\n",
       "      <td>2</td>\n",
       "      <td>'004</td>\n",
       "      <td>Afghanistan</td>\n",
       "      <td>221</td>\n",
       "      <td>'01371</td>\n",
       "      <td>Almonds, in shell</td>\n",
       "      <td>5312</td>\n",
       "      <td>Area harvested</td>\n",
       "      <td>1977</td>\n",
       "      <td>1977</td>\n",
       "      <td>ha</td>\n",
       "      <td>6000.0</td>\n",
       "      <td>E</td>\n",
       "      <td>NaN</td>\n",
       "    </tr>\n",
       "    <tr>\n",
       "      <th>3</th>\n",
       "      <td>2</td>\n",
       "      <td>'004</td>\n",
       "      <td>Afghanistan</td>\n",
       "      <td>221</td>\n",
       "      <td>'01371</td>\n",
       "      <td>Almonds, in shell</td>\n",
       "      <td>5312</td>\n",
       "      <td>Area harvested</td>\n",
       "      <td>1978</td>\n",
       "      <td>1978</td>\n",
       "      <td>ha</td>\n",
       "      <td>6000.0</td>\n",
       "      <td>E</td>\n",
       "      <td>NaN</td>\n",
       "    </tr>\n",
       "    <tr>\n",
       "      <th>4</th>\n",
       "      <td>2</td>\n",
       "      <td>'004</td>\n",
       "      <td>Afghanistan</td>\n",
       "      <td>221</td>\n",
       "      <td>'01371</td>\n",
       "      <td>Almonds, in shell</td>\n",
       "      <td>5312</td>\n",
       "      <td>Area harvested</td>\n",
       "      <td>1979</td>\n",
       "      <td>1979</td>\n",
       "      <td>ha</td>\n",
       "      <td>6000.0</td>\n",
       "      <td>E</td>\n",
       "      <td>NaN</td>\n",
       "    </tr>\n",
       "  </tbody>\n",
       "</table>\n",
       "</div>"
      ],
      "text/plain": [
       "   Area Code Area Code (M49)         Area  Item Code Item Code (CPC)  \\\n",
       "0          2            '004  Afghanistan        221          '01371   \n",
       "1          2            '004  Afghanistan        221          '01371   \n",
       "2          2            '004  Afghanistan        221          '01371   \n",
       "3          2            '004  Afghanistan        221          '01371   \n",
       "4          2            '004  Afghanistan        221          '01371   \n",
       "\n",
       "                Item  Element Code         Element  Year Code  Year Unit  \\\n",
       "0  Almonds, in shell          5312  Area harvested       1975  1975   ha   \n",
       "1  Almonds, in shell          5312  Area harvested       1976  1976   ha   \n",
       "2  Almonds, in shell          5312  Area harvested       1977  1977   ha   \n",
       "3  Almonds, in shell          5312  Area harvested       1978  1978   ha   \n",
       "4  Almonds, in shell          5312  Area harvested       1979  1979   ha   \n",
       "\n",
       "    Value Flag Note  \n",
       "0     0.0    E  NaN  \n",
       "1  5900.0    E  NaN  \n",
       "2  6000.0    E  NaN  \n",
       "3  6000.0    E  NaN  \n",
       "4  6000.0    E  NaN  "
      ]
     },
     "execution_count": 24,
     "metadata": {},
     "output_type": "execute_result"
    }
   ],
   "source": [
    "production.head()"
   ]
  },
  {
   "cell_type": "code",
   "execution_count": 25,
   "metadata": {},
   "outputs": [
    {
     "name": "stdout",
     "output_type": "stream",
     "text": [
      "<class 'pandas.core.frame.DataFrame'>\n",
      "RangeIndex: 3761168 entries, 0 to 3761167\n",
      "Data columns (total 14 columns):\n",
      " #   Column           Dtype  \n",
      "---  ------           -----  \n",
      " 0   Area Code        int64  \n",
      " 1   Area Code (M49)  object \n",
      " 2   Area             object \n",
      " 3   Item Code        int64  \n",
      " 4   Item Code (CPC)  object \n",
      " 5   Item             object \n",
      " 6   Element Code     int64  \n",
      " 7   Element          object \n",
      " 8   Year Code        int64  \n",
      " 9   Year             int64  \n",
      " 10  Unit             object \n",
      " 11  Value            float64\n",
      " 12  Flag             object \n",
      " 13  Note             object \n",
      "dtypes: float64(1), int64(5), object(8)\n",
      "memory usage: 401.7+ MB\n"
     ]
    }
   ],
   "source": [
    "production.info()"
   ]
  },
  {
   "cell_type": "code",
   "execution_count": 26,
   "metadata": {},
   "outputs": [
    {
     "data": {
      "text/plain": [
       "False    3761168\n",
       "Name: count, dtype: int64"
      ]
     },
     "execution_count": 26,
     "metadata": {},
     "output_type": "execute_result"
    }
   ],
   "source": [
    "# Check for full duplicates\n",
    "production.duplicated().value_counts()"
   ]
  },
  {
   "cell_type": "code",
   "execution_count": 27,
   "metadata": {},
   "outputs": [
    {
     "data": {
      "text/plain": [
       "Area Code  Area Code (M49)  Area   Item Code  Item Code (CPC)  Item   Element Code  Element  Year Code  Year   Unit   Value  Flag   Note \n",
       "False      False            False  False      False            False  False         False    False      False  False  False  False  True     3673453\n",
       "                                                                                                                                    False      87715\n",
       "Name: count, dtype: int64"
      ]
     },
     "execution_count": 27,
     "metadata": {},
     "output_type": "execute_result"
    }
   ],
   "source": [
    "# Check for NAs\n",
    "production.isnull().value_counts()"
   ]
  },
  {
   "cell_type": "code",
   "execution_count": 7,
   "metadata": {},
   "outputs": [
    {
     "name": "stdout",
     "output_type": "stream",
     "text": [
      "[nan 'Unofficial figure']\n"
     ]
    }
   ],
   "source": [
    "# List unique values in the Note column\n",
    "print(production[\"Note\"].unique())"
   ]
  },
  {
   "cell_type": "markdown",
   "metadata": {},
   "source": [
    "We can drop some columns we don't need"
   ]
  },
  {
   "cell_type": "code",
   "execution_count": 14,
   "metadata": {},
   "outputs": [],
   "source": [
    "production = production.drop(columns = 'Note')\n",
    "production = production.drop(columns = 'Year Code')\n",
    "production = production.drop(columns = 'Area Code (M49)')\n",
    "production = production.drop(columns = 'Item Code (CPC)')"
   ]
  },
  {
   "cell_type": "code",
   "execution_count": 15,
   "metadata": {},
   "outputs": [],
   "source": [
    "production = production.rename(columns={'Area Code' : 'area_code', 'Area' : 'area',\n",
    "                                                  'Item Code' : 'item_code', 'Item' : 'item',\n",
    "                                                  'Element Code' : 'element_code', 'Element' : 'element',\n",
    "                                                  'Year' : 'year', 'Unit' : 'unit', 'Value' : 'value',\n",
    "                                                  'Flag' : 'flag'})"
   ]
  },
  {
   "cell_type": "code",
   "execution_count": 16,
   "metadata": {},
   "outputs": [
    {
     "data": {
      "text/html": [
       "<div>\n",
       "<style scoped>\n",
       "    .dataframe tbody tr th:only-of-type {\n",
       "        vertical-align: middle;\n",
       "    }\n",
       "\n",
       "    .dataframe tbody tr th {\n",
       "        vertical-align: top;\n",
       "    }\n",
       "\n",
       "    .dataframe thead th {\n",
       "        text-align: right;\n",
       "    }\n",
       "</style>\n",
       "<table border=\"1\" class=\"dataframe\">\n",
       "  <thead>\n",
       "    <tr style=\"text-align: right;\">\n",
       "      <th></th>\n",
       "      <th>area_code</th>\n",
       "      <th>area</th>\n",
       "      <th>item_code</th>\n",
       "      <th>item</th>\n",
       "      <th>element_code</th>\n",
       "      <th>element</th>\n",
       "      <th>year</th>\n",
       "      <th>unit</th>\n",
       "      <th>value</th>\n",
       "      <th>flag</th>\n",
       "    </tr>\n",
       "  </thead>\n",
       "  <tbody>\n",
       "    <tr>\n",
       "      <th>0</th>\n",
       "      <td>2</td>\n",
       "      <td>Afghanistan</td>\n",
       "      <td>221</td>\n",
       "      <td>Almonds, in shell</td>\n",
       "      <td>5312</td>\n",
       "      <td>Area harvested</td>\n",
       "      <td>1975</td>\n",
       "      <td>ha</td>\n",
       "      <td>0.0</td>\n",
       "      <td>E</td>\n",
       "    </tr>\n",
       "    <tr>\n",
       "      <th>1</th>\n",
       "      <td>2</td>\n",
       "      <td>Afghanistan</td>\n",
       "      <td>221</td>\n",
       "      <td>Almonds, in shell</td>\n",
       "      <td>5312</td>\n",
       "      <td>Area harvested</td>\n",
       "      <td>1976</td>\n",
       "      <td>ha</td>\n",
       "      <td>5900.0</td>\n",
       "      <td>E</td>\n",
       "    </tr>\n",
       "    <tr>\n",
       "      <th>2</th>\n",
       "      <td>2</td>\n",
       "      <td>Afghanistan</td>\n",
       "      <td>221</td>\n",
       "      <td>Almonds, in shell</td>\n",
       "      <td>5312</td>\n",
       "      <td>Area harvested</td>\n",
       "      <td>1977</td>\n",
       "      <td>ha</td>\n",
       "      <td>6000.0</td>\n",
       "      <td>E</td>\n",
       "    </tr>\n",
       "    <tr>\n",
       "      <th>3</th>\n",
       "      <td>2</td>\n",
       "      <td>Afghanistan</td>\n",
       "      <td>221</td>\n",
       "      <td>Almonds, in shell</td>\n",
       "      <td>5312</td>\n",
       "      <td>Area harvested</td>\n",
       "      <td>1978</td>\n",
       "      <td>ha</td>\n",
       "      <td>6000.0</td>\n",
       "      <td>E</td>\n",
       "    </tr>\n",
       "    <tr>\n",
       "      <th>4</th>\n",
       "      <td>2</td>\n",
       "      <td>Afghanistan</td>\n",
       "      <td>221</td>\n",
       "      <td>Almonds, in shell</td>\n",
       "      <td>5312</td>\n",
       "      <td>Area harvested</td>\n",
       "      <td>1979</td>\n",
       "      <td>ha</td>\n",
       "      <td>6000.0</td>\n",
       "      <td>E</td>\n",
       "    </tr>\n",
       "  </tbody>\n",
       "</table>\n",
       "</div>"
      ],
      "text/plain": [
       "   area_code         area  item_code               item  element_code  \\\n",
       "0          2  Afghanistan        221  Almonds, in shell          5312   \n",
       "1          2  Afghanistan        221  Almonds, in shell          5312   \n",
       "2          2  Afghanistan        221  Almonds, in shell          5312   \n",
       "3          2  Afghanistan        221  Almonds, in shell          5312   \n",
       "4          2  Afghanistan        221  Almonds, in shell          5312   \n",
       "\n",
       "          element  year unit   value flag  \n",
       "0  Area harvested  1975   ha     0.0    E  \n",
       "1  Area harvested  1976   ha  5900.0    E  \n",
       "2  Area harvested  1977   ha  6000.0    E  \n",
       "3  Area harvested  1978   ha  6000.0    E  \n",
       "4  Area harvested  1979   ha  6000.0    E  "
      ]
     },
     "execution_count": 16,
     "metadata": {},
     "output_type": "execute_result"
    }
   ],
   "source": [
    "production.head()"
   ]
  },
  {
   "cell_type": "code",
   "execution_count": 17,
   "metadata": {},
   "outputs": [
    {
     "name": "stdout",
     "output_type": "stream",
     "text": [
      "The fao_production table was imported successfully.\n"
     ]
    }
   ],
   "source": [
    "schema = 'capstone_envirolytics'\n",
    "table_name = 'fao_production'\n",
    "\n",
    "if engine!=None:\n",
    "    try:\n",
    "        production.to_sql(name=table_name, # Name of SQL table\n",
    "                        con=engine, # Engine or connection\n",
    "                        if_exists='replace', # Drop the table before inserting new values \n",
    "                        schema=schema, # Use schmea that was defined earlier\n",
    "                        index=False, # Write DataFrame index as a column\n",
    "                        chunksize=5000, # Specify the number of rows in each batch to be written at a time\n",
    "                        method='multi') # Pass multiple values in a single INSERT clause\n",
    "        print(f\"The {table_name} table was imported successfully.\")\n",
    "    # Error handling\n",
    "    except (Exception, psycopg2.DatabaseError) as error:\n",
    "        print(error)\n",
    "        engine = None"
   ]
  },
  {
   "cell_type": "markdown",
   "metadata": {},
   "source": [
    "### Import emissions from crops data"
   ]
  },
  {
   "cell_type": "code",
   "execution_count": 4,
   "metadata": {},
   "outputs": [],
   "source": [
    "url = f'https://fenixservices.fao.org/faostat/static/bulkdownloads/Emissions_crops_E_All_Data_(Normalized).zip'\n",
    "path = '/Users/cornelialutz/neuefische/capstone-dataverse-sh/data/' #insert own path here\n",
    "zip_file = 'Emissions_crops_E_All_Data_(Normalized).zip'\n",
    "csv_file = 'Emissions_crops_E_All_Data_(Normalized).csv'"
   ]
  },
  {
   "cell_type": "code",
   "execution_count": 18,
   "metadata": {},
   "outputs": [
    {
     "data": {
      "text/plain": [
       "'/Users/cornelialutz/neuefische/capstone-dataverse-sh/data/Emissions_crops_E_All_Data_(Normalized).csv'"
      ]
     },
     "execution_count": 18,
     "metadata": {},
     "output_type": "execute_result"
    }
   ],
   "source": [
    "r = requests.get(url)\n",
    "with open(path+zip_file, 'wb') as f:\n",
    "    f.write(r.content)\n",
    "\n",
    "data = zipfile.ZipFile(path+zip_file, 'r')\n",
    "data.extract(csv_file, path)"
   ]
  },
  {
   "cell_type": "code",
   "execution_count": 5,
   "metadata": {},
   "outputs": [],
   "source": [
    "# Import crops emissions data for all countries\n",
    "emissions_crops = pd.read_csv(path+csv_file, encoding='latin-1', low_memory=False)"
   ]
  },
  {
   "cell_type": "code",
   "execution_count": 21,
   "metadata": {},
   "outputs": [
    {
     "data": {
      "text/html": [
       "<div>\n",
       "<style scoped>\n",
       "    .dataframe tbody tr th:only-of-type {\n",
       "        vertical-align: middle;\n",
       "    }\n",
       "\n",
       "    .dataframe tbody tr th {\n",
       "        vertical-align: top;\n",
       "    }\n",
       "\n",
       "    .dataframe thead th {\n",
       "        text-align: right;\n",
       "    }\n",
       "</style>\n",
       "<table border=\"1\" class=\"dataframe\">\n",
       "  <thead>\n",
       "    <tr style=\"text-align: right;\">\n",
       "      <th></th>\n",
       "      <th>Area Code</th>\n",
       "      <th>Area Code (M49)</th>\n",
       "      <th>Area</th>\n",
       "      <th>Item Code</th>\n",
       "      <th>Item Code (CPC)</th>\n",
       "      <th>Item</th>\n",
       "      <th>Element Code</th>\n",
       "      <th>Element</th>\n",
       "      <th>Year Code</th>\n",
       "      <th>Year</th>\n",
       "      <th>Source Code</th>\n",
       "      <th>Source</th>\n",
       "      <th>Unit</th>\n",
       "      <th>Value</th>\n",
       "      <th>Flag</th>\n",
       "      <th>Note</th>\n",
       "    </tr>\n",
       "  </thead>\n",
       "  <tbody>\n",
       "    <tr>\n",
       "      <th>0</th>\n",
       "      <td>2</td>\n",
       "      <td>'004</td>\n",
       "      <td>Afghanistan</td>\n",
       "      <td>44</td>\n",
       "      <td>'0115</td>\n",
       "      <td>Barley</td>\n",
       "      <td>72430</td>\n",
       "      <td>Crops total (Emissions N2O)</td>\n",
       "      <td>1961</td>\n",
       "      <td>1961</td>\n",
       "      <td>3050</td>\n",
       "      <td>FAO TIER 1</td>\n",
       "      <td>kt</td>\n",
       "      <td>0.1141</td>\n",
       "      <td>E</td>\n",
       "      <td>NaN</td>\n",
       "    </tr>\n",
       "    <tr>\n",
       "      <th>1</th>\n",
       "      <td>2</td>\n",
       "      <td>'004</td>\n",
       "      <td>Afghanistan</td>\n",
       "      <td>44</td>\n",
       "      <td>'0115</td>\n",
       "      <td>Barley</td>\n",
       "      <td>72430</td>\n",
       "      <td>Crops total (Emissions N2O)</td>\n",
       "      <td>1962</td>\n",
       "      <td>1962</td>\n",
       "      <td>3050</td>\n",
       "      <td>FAO TIER 1</td>\n",
       "      <td>kt</td>\n",
       "      <td>0.1141</td>\n",
       "      <td>E</td>\n",
       "      <td>NaN</td>\n",
       "    </tr>\n",
       "    <tr>\n",
       "      <th>2</th>\n",
       "      <td>2</td>\n",
       "      <td>'004</td>\n",
       "      <td>Afghanistan</td>\n",
       "      <td>44</td>\n",
       "      <td>'0115</td>\n",
       "      <td>Barley</td>\n",
       "      <td>72430</td>\n",
       "      <td>Crops total (Emissions N2O)</td>\n",
       "      <td>1963</td>\n",
       "      <td>1963</td>\n",
       "      <td>3050</td>\n",
       "      <td>FAO TIER 1</td>\n",
       "      <td>kt</td>\n",
       "      <td>0.1141</td>\n",
       "      <td>E</td>\n",
       "      <td>NaN</td>\n",
       "    </tr>\n",
       "    <tr>\n",
       "      <th>3</th>\n",
       "      <td>2</td>\n",
       "      <td>'004</td>\n",
       "      <td>Afghanistan</td>\n",
       "      <td>44</td>\n",
       "      <td>'0115</td>\n",
       "      <td>Barley</td>\n",
       "      <td>72430</td>\n",
       "      <td>Crops total (Emissions N2O)</td>\n",
       "      <td>1964</td>\n",
       "      <td>1964</td>\n",
       "      <td>3050</td>\n",
       "      <td>FAO TIER 1</td>\n",
       "      <td>kt</td>\n",
       "      <td>0.1145</td>\n",
       "      <td>E</td>\n",
       "      <td>NaN</td>\n",
       "    </tr>\n",
       "    <tr>\n",
       "      <th>4</th>\n",
       "      <td>2</td>\n",
       "      <td>'004</td>\n",
       "      <td>Afghanistan</td>\n",
       "      <td>44</td>\n",
       "      <td>'0115</td>\n",
       "      <td>Barley</td>\n",
       "      <td>72430</td>\n",
       "      <td>Crops total (Emissions N2O)</td>\n",
       "      <td>1965</td>\n",
       "      <td>1965</td>\n",
       "      <td>3050</td>\n",
       "      <td>FAO TIER 1</td>\n",
       "      <td>kt</td>\n",
       "      <td>0.1145</td>\n",
       "      <td>E</td>\n",
       "      <td>NaN</td>\n",
       "    </tr>\n",
       "  </tbody>\n",
       "</table>\n",
       "</div>"
      ],
      "text/plain": [
       "   Area Code Area Code (M49)         Area  Item Code Item Code (CPC)    Item  \\\n",
       "0          2            '004  Afghanistan         44           '0115  Barley   \n",
       "1          2            '004  Afghanistan         44           '0115  Barley   \n",
       "2          2            '004  Afghanistan         44           '0115  Barley   \n",
       "3          2            '004  Afghanistan         44           '0115  Barley   \n",
       "4          2            '004  Afghanistan         44           '0115  Barley   \n",
       "\n",
       "   Element Code                      Element  Year Code  Year  Source Code  \\\n",
       "0         72430  Crops total (Emissions N2O)       1961  1961         3050   \n",
       "1         72430  Crops total (Emissions N2O)       1962  1962         3050   \n",
       "2         72430  Crops total (Emissions N2O)       1963  1963         3050   \n",
       "3         72430  Crops total (Emissions N2O)       1964  1964         3050   \n",
       "4         72430  Crops total (Emissions N2O)       1965  1965         3050   \n",
       "\n",
       "       Source Unit   Value Flag Note  \n",
       "0  FAO TIER 1   kt  0.1141    E  NaN  \n",
       "1  FAO TIER 1   kt  0.1141    E  NaN  \n",
       "2  FAO TIER 1   kt  0.1141    E  NaN  \n",
       "3  FAO TIER 1   kt  0.1145    E  NaN  \n",
       "4  FAO TIER 1   kt  0.1145    E  NaN  "
      ]
     },
     "execution_count": 21,
     "metadata": {},
     "output_type": "execute_result"
    }
   ],
   "source": [
    "emissions_crops.head()"
   ]
  },
  {
   "cell_type": "code",
   "execution_count": 22,
   "metadata": {},
   "outputs": [
    {
     "name": "stdout",
     "output_type": "stream",
     "text": [
      "<class 'pandas.core.frame.DataFrame'>\n",
      "RangeIndex: 891492 entries, 0 to 891491\n",
      "Data columns (total 16 columns):\n",
      " #   Column           Non-Null Count   Dtype  \n",
      "---  ------           --------------   -----  \n",
      " 0   Area Code        891492 non-null  int64  \n",
      " 1   Area Code (M49)  891492 non-null  object \n",
      " 2   Area             891492 non-null  object \n",
      " 3   Item Code        891492 non-null  int64  \n",
      " 4   Item Code (CPC)  891492 non-null  object \n",
      " 5   Item             891492 non-null  object \n",
      " 6   Element Code     891492 non-null  int64  \n",
      " 7   Element          891492 non-null  object \n",
      " 8   Year Code        891492 non-null  int64  \n",
      " 9   Year             891492 non-null  int64  \n",
      " 10  Source Code      891492 non-null  int64  \n",
      " 11  Source           891492 non-null  object \n",
      " 12  Unit             891492 non-null  object \n",
      " 13  Value            891492 non-null  float64\n",
      " 14  Flag             891492 non-null  object \n",
      " 15  Note             12485 non-null   object \n",
      "dtypes: float64(1), int64(6), object(9)\n",
      "memory usage: 108.8+ MB\n"
     ]
    }
   ],
   "source": [
    "emissions_crops.info()"
   ]
  },
  {
   "cell_type": "code",
   "execution_count": 40,
   "metadata": {},
   "outputs": [
    {
     "data": {
      "text/plain": [
       "False    891492\n",
       "Name: count, dtype: int64"
      ]
     },
     "execution_count": 40,
     "metadata": {},
     "output_type": "execute_result"
    }
   ],
   "source": [
    "# Check for full duplicates\n",
    "emissions_crops.duplicated().value_counts()"
   ]
  },
  {
   "cell_type": "code",
   "execution_count": 41,
   "metadata": {},
   "outputs": [
    {
     "name": "stdout",
     "output_type": "stream",
     "text": [
      "[nan 'Unofficial figure' 'UNFCCC Repository' 'NC/CRF/BUR' 'NC/BUR/CRF']\n"
     ]
    }
   ],
   "source": [
    "# List unique values in the Note column\n",
    "print(emissions_crops[\"Note\"].unique())"
   ]
  },
  {
   "cell_type": "code",
   "execution_count": 6,
   "metadata": {},
   "outputs": [],
   "source": [
    "#Dropping columns we don't need:\n",
    "emissions_crops = emissions_crops.drop(columns = 'Area Code (M49)')\n",
    "emissions_crops = emissions_crops.drop(columns = 'Item Code (CPC)')\n",
    "emissions_crops = emissions_crops.drop(columns = 'Year Code')\n",
    "emissions_crops = emissions_crops.drop(columns = 'Source Code')\n",
    "emissions_crops = emissions_crops.drop(columns = 'Source')\n",
    "emissions_crops = emissions_crops.drop(columns = 'Note')"
   ]
  },
  {
   "cell_type": "code",
   "execution_count": 7,
   "metadata": {},
   "outputs": [],
   "source": [
    "emissions_crops = emissions_crops.rename(columns={'Area Code' : 'area_code', 'Area' : 'area',\n",
    "                                                  'Item Code' : 'item_code', 'Item' : 'item',\n",
    "                                                  'Element Code' : 'element_code', 'Element' : 'element',\n",
    "                                                  'Year' : 'year', 'Unit' : 'unit', 'Value' : 'value',\n",
    "                                                  'Flag' : 'flag'})"
   ]
  },
  {
   "cell_type": "code",
   "execution_count": 8,
   "metadata": {},
   "outputs": [
    {
     "data": {
      "text/html": [
       "<div>\n",
       "<style scoped>\n",
       "    .dataframe tbody tr th:only-of-type {\n",
       "        vertical-align: middle;\n",
       "    }\n",
       "\n",
       "    .dataframe tbody tr th {\n",
       "        vertical-align: top;\n",
       "    }\n",
       "\n",
       "    .dataframe thead th {\n",
       "        text-align: right;\n",
       "    }\n",
       "</style>\n",
       "<table border=\"1\" class=\"dataframe\">\n",
       "  <thead>\n",
       "    <tr style=\"text-align: right;\">\n",
       "      <th></th>\n",
       "      <th>area_code</th>\n",
       "      <th>area</th>\n",
       "      <th>item_code</th>\n",
       "      <th>item</th>\n",
       "      <th>element_code</th>\n",
       "      <th>element</th>\n",
       "      <th>year</th>\n",
       "      <th>unit</th>\n",
       "      <th>value</th>\n",
       "      <th>flag</th>\n",
       "    </tr>\n",
       "  </thead>\n",
       "  <tbody>\n",
       "    <tr>\n",
       "      <th>0</th>\n",
       "      <td>2</td>\n",
       "      <td>Afghanistan</td>\n",
       "      <td>44</td>\n",
       "      <td>Barley</td>\n",
       "      <td>72430</td>\n",
       "      <td>Crops total (Emissions N2O)</td>\n",
       "      <td>1961</td>\n",
       "      <td>kt</td>\n",
       "      <td>0.1141</td>\n",
       "      <td>E</td>\n",
       "    </tr>\n",
       "    <tr>\n",
       "      <th>1</th>\n",
       "      <td>2</td>\n",
       "      <td>Afghanistan</td>\n",
       "      <td>44</td>\n",
       "      <td>Barley</td>\n",
       "      <td>72430</td>\n",
       "      <td>Crops total (Emissions N2O)</td>\n",
       "      <td>1962</td>\n",
       "      <td>kt</td>\n",
       "      <td>0.1141</td>\n",
       "      <td>E</td>\n",
       "    </tr>\n",
       "    <tr>\n",
       "      <th>2</th>\n",
       "      <td>2</td>\n",
       "      <td>Afghanistan</td>\n",
       "      <td>44</td>\n",
       "      <td>Barley</td>\n",
       "      <td>72430</td>\n",
       "      <td>Crops total (Emissions N2O)</td>\n",
       "      <td>1963</td>\n",
       "      <td>kt</td>\n",
       "      <td>0.1141</td>\n",
       "      <td>E</td>\n",
       "    </tr>\n",
       "    <tr>\n",
       "      <th>3</th>\n",
       "      <td>2</td>\n",
       "      <td>Afghanistan</td>\n",
       "      <td>44</td>\n",
       "      <td>Barley</td>\n",
       "      <td>72430</td>\n",
       "      <td>Crops total (Emissions N2O)</td>\n",
       "      <td>1964</td>\n",
       "      <td>kt</td>\n",
       "      <td>0.1145</td>\n",
       "      <td>E</td>\n",
       "    </tr>\n",
       "    <tr>\n",
       "      <th>4</th>\n",
       "      <td>2</td>\n",
       "      <td>Afghanistan</td>\n",
       "      <td>44</td>\n",
       "      <td>Barley</td>\n",
       "      <td>72430</td>\n",
       "      <td>Crops total (Emissions N2O)</td>\n",
       "      <td>1965</td>\n",
       "      <td>kt</td>\n",
       "      <td>0.1145</td>\n",
       "      <td>E</td>\n",
       "    </tr>\n",
       "  </tbody>\n",
       "</table>\n",
       "</div>"
      ],
      "text/plain": [
       "   area_code         area  item_code    item  element_code  \\\n",
       "0          2  Afghanistan         44  Barley         72430   \n",
       "1          2  Afghanistan         44  Barley         72430   \n",
       "2          2  Afghanistan         44  Barley         72430   \n",
       "3          2  Afghanistan         44  Barley         72430   \n",
       "4          2  Afghanistan         44  Barley         72430   \n",
       "\n",
       "                       element  year unit   value flag  \n",
       "0  Crops total (Emissions N2O)  1961   kt  0.1141    E  \n",
       "1  Crops total (Emissions N2O)  1962   kt  0.1141    E  \n",
       "2  Crops total (Emissions N2O)  1963   kt  0.1141    E  \n",
       "3  Crops total (Emissions N2O)  1964   kt  0.1145    E  \n",
       "4  Crops total (Emissions N2O)  1965   kt  0.1145    E  "
      ]
     },
     "execution_count": 8,
     "metadata": {},
     "output_type": "execute_result"
    }
   ],
   "source": [
    "emissions_crops.head()"
   ]
  },
  {
   "cell_type": "code",
   "execution_count": 11,
   "metadata": {},
   "outputs": [
    {
     "name": "stdout",
     "output_type": "stream",
     "text": [
      "The fao_emissions_crops table was imported successfully.\n"
     ]
    }
   ],
   "source": [
    "schema = 'capstone_envirolytics'\n",
    "table_name = 'fao_emissions_crops'\n",
    "\n",
    "if engine!=None:\n",
    "    try:\n",
    "        emissions_crops.to_sql(name=table_name, # Name of SQL table\n",
    "                        con=engine, # Engine or connection\n",
    "                        if_exists='replace', # Drop the table before inserting new values \n",
    "                        schema=schema, # Use schmea that was defined earlier\n",
    "                        index=False, # Write DataFrame index as a column\n",
    "                        chunksize=5000, # Specify the number of rows in each batch to be written at a time\n",
    "                        method='multi') # Pass multiple values in a single INSERT clause\n",
    "        print(f\"The {table_name} table was imported successfully.\")\n",
    "    # Error handling\n",
    "    except (Exception, psycopg2.DatabaseError) as error:\n",
    "        print(error)\n",
    "        engine = None"
   ]
  },
  {
   "cell_type": "markdown",
   "metadata": {},
   "source": [
    "### Import emissions from livestock data"
   ]
  },
  {
   "cell_type": "code",
   "execution_count": 3,
   "metadata": {},
   "outputs": [],
   "source": [
    "url = f'https://fenixservices.fao.org/faostat/static/bulkdownloads/Emissions_livestock_E_All_Data_(Normalized).zip'\n",
    "path = '/Users/cornelialutz/neuefische/capstone-dataverse-sh/data/' #insert own path here\n",
    "zip_file = 'Emissions_livestock_E_All_Data_(Normalized).zip'\n",
    "csv_file = 'Emissions_livestock_E_All_Data_(Normalized).csv'"
   ]
  },
  {
   "cell_type": "code",
   "execution_count": 31,
   "metadata": {},
   "outputs": [
    {
     "data": {
      "text/plain": [
       "'/Users/cornelialutz/neuefische/capstone-dataverse-sh/data/Emissions_livestock_E_All_Data_(Normalized).csv'"
      ]
     },
     "execution_count": 31,
     "metadata": {},
     "output_type": "execute_result"
    }
   ],
   "source": [
    "r = requests.get(url)\n",
    "with open(path+zip_file, 'wb') as f:\n",
    "    f.write(r.content)\n",
    "\n",
    "data = zipfile.ZipFile(path+zip_file, 'r')\n",
    "data.extract(csv_file, path)"
   ]
  },
  {
   "cell_type": "code",
   "execution_count": 4,
   "metadata": {},
   "outputs": [],
   "source": [
    "# Import crops emissions data for all countries\n",
    "emissions_livestock = pd.read_csv(path+csv_file, encoding='latin-1', low_memory=False)"
   ]
  },
  {
   "cell_type": "code",
   "execution_count": 47,
   "metadata": {},
   "outputs": [
    {
     "data": {
      "text/html": [
       "<div>\n",
       "<style scoped>\n",
       "    .dataframe tbody tr th:only-of-type {\n",
       "        vertical-align: middle;\n",
       "    }\n",
       "\n",
       "    .dataframe tbody tr th {\n",
       "        vertical-align: top;\n",
       "    }\n",
       "\n",
       "    .dataframe thead th {\n",
       "        text-align: right;\n",
       "    }\n",
       "</style>\n",
       "<table border=\"1\" class=\"dataframe\">\n",
       "  <thead>\n",
       "    <tr style=\"text-align: right;\">\n",
       "      <th></th>\n",
       "      <th>Area Code</th>\n",
       "      <th>Area Code (M49)</th>\n",
       "      <th>Area</th>\n",
       "      <th>Item Code</th>\n",
       "      <th>Item Code (CPC)</th>\n",
       "      <th>Item</th>\n",
       "      <th>Element Code</th>\n",
       "      <th>Element</th>\n",
       "      <th>Year Code</th>\n",
       "      <th>Year</th>\n",
       "      <th>Source Code</th>\n",
       "      <th>Source</th>\n",
       "      <th>Unit</th>\n",
       "      <th>Value</th>\n",
       "      <th>Flag</th>\n",
       "      <th>Note</th>\n",
       "    </tr>\n",
       "  </thead>\n",
       "  <tbody>\n",
       "    <tr>\n",
       "      <th>0</th>\n",
       "      <td>2</td>\n",
       "      <td>'004</td>\n",
       "      <td>Afghanistan</td>\n",
       "      <td>1107</td>\n",
       "      <td>'02132</td>\n",
       "      <td>Asses</td>\n",
       "      <td>5111</td>\n",
       "      <td>Stocks</td>\n",
       "      <td>1961</td>\n",
       "      <td>1961</td>\n",
       "      <td>3050</td>\n",
       "      <td>FAO TIER 1</td>\n",
       "      <td>An</td>\n",
       "      <td>1300000.0</td>\n",
       "      <td>A</td>\n",
       "      <td>NaN</td>\n",
       "    </tr>\n",
       "    <tr>\n",
       "      <th>1</th>\n",
       "      <td>2</td>\n",
       "      <td>'004</td>\n",
       "      <td>Afghanistan</td>\n",
       "      <td>1107</td>\n",
       "      <td>'02132</td>\n",
       "      <td>Asses</td>\n",
       "      <td>5111</td>\n",
       "      <td>Stocks</td>\n",
       "      <td>1962</td>\n",
       "      <td>1962</td>\n",
       "      <td>3050</td>\n",
       "      <td>FAO TIER 1</td>\n",
       "      <td>An</td>\n",
       "      <td>851850.0</td>\n",
       "      <td>A</td>\n",
       "      <td>NaN</td>\n",
       "    </tr>\n",
       "    <tr>\n",
       "      <th>2</th>\n",
       "      <td>2</td>\n",
       "      <td>'004</td>\n",
       "      <td>Afghanistan</td>\n",
       "      <td>1107</td>\n",
       "      <td>'02132</td>\n",
       "      <td>Asses</td>\n",
       "      <td>5111</td>\n",
       "      <td>Stocks</td>\n",
       "      <td>1963</td>\n",
       "      <td>1963</td>\n",
       "      <td>3050</td>\n",
       "      <td>FAO TIER 1</td>\n",
       "      <td>An</td>\n",
       "      <td>1001112.0</td>\n",
       "      <td>A</td>\n",
       "      <td>NaN</td>\n",
       "    </tr>\n",
       "    <tr>\n",
       "      <th>3</th>\n",
       "      <td>2</td>\n",
       "      <td>'004</td>\n",
       "      <td>Afghanistan</td>\n",
       "      <td>1107</td>\n",
       "      <td>'02132</td>\n",
       "      <td>Asses</td>\n",
       "      <td>5111</td>\n",
       "      <td>Stocks</td>\n",
       "      <td>1964</td>\n",
       "      <td>1964</td>\n",
       "      <td>3050</td>\n",
       "      <td>FAO TIER 1</td>\n",
       "      <td>An</td>\n",
       "      <td>1150000.0</td>\n",
       "      <td>E</td>\n",
       "      <td>NaN</td>\n",
       "    </tr>\n",
       "    <tr>\n",
       "      <th>4</th>\n",
       "      <td>2</td>\n",
       "      <td>'004</td>\n",
       "      <td>Afghanistan</td>\n",
       "      <td>1107</td>\n",
       "      <td>'02132</td>\n",
       "      <td>Asses</td>\n",
       "      <td>5111</td>\n",
       "      <td>Stocks</td>\n",
       "      <td>1965</td>\n",
       "      <td>1965</td>\n",
       "      <td>3050</td>\n",
       "      <td>FAO TIER 1</td>\n",
       "      <td>An</td>\n",
       "      <td>1300000.0</td>\n",
       "      <td>A</td>\n",
       "      <td>NaN</td>\n",
       "    </tr>\n",
       "  </tbody>\n",
       "</table>\n",
       "</div>"
      ],
      "text/plain": [
       "   Area Code Area Code (M49)         Area  Item Code Item Code (CPC)   Item  \\\n",
       "0          2            '004  Afghanistan       1107          '02132  Asses   \n",
       "1          2            '004  Afghanistan       1107          '02132  Asses   \n",
       "2          2            '004  Afghanistan       1107          '02132  Asses   \n",
       "3          2            '004  Afghanistan       1107          '02132  Asses   \n",
       "4          2            '004  Afghanistan       1107          '02132  Asses   \n",
       "\n",
       "   Element Code Element  Year Code  Year  Source Code      Source Unit  \\\n",
       "0          5111  Stocks       1961  1961         3050  FAO TIER 1   An   \n",
       "1          5111  Stocks       1962  1962         3050  FAO TIER 1   An   \n",
       "2          5111  Stocks       1963  1963         3050  FAO TIER 1   An   \n",
       "3          5111  Stocks       1964  1964         3050  FAO TIER 1   An   \n",
       "4          5111  Stocks       1965  1965         3050  FAO TIER 1   An   \n",
       "\n",
       "       Value Flag Note  \n",
       "0  1300000.0    A  NaN  \n",
       "1   851850.0    A  NaN  \n",
       "2  1001112.0    A  NaN  \n",
       "3  1150000.0    E  NaN  \n",
       "4  1300000.0    A  NaN  "
      ]
     },
     "execution_count": 47,
     "metadata": {},
     "output_type": "execute_result"
    }
   ],
   "source": [
    "emissions_livestock.head()"
   ]
  },
  {
   "cell_type": "code",
   "execution_count": 48,
   "metadata": {},
   "outputs": [
    {
     "name": "stdout",
     "output_type": "stream",
     "text": [
      "<class 'pandas.core.frame.DataFrame'>\n",
      "RangeIndex: 6285217 entries, 0 to 6285216\n",
      "Data columns (total 16 columns):\n",
      " #   Column           Dtype  \n",
      "---  ------           -----  \n",
      " 0   Area Code        int64  \n",
      " 1   Area Code (M49)  object \n",
      " 2   Area             object \n",
      " 3   Item Code        int64  \n",
      " 4   Item Code (CPC)  object \n",
      " 5   Item             object \n",
      " 6   Element Code     int64  \n",
      " 7   Element          object \n",
      " 8   Year Code        int64  \n",
      " 9   Year             int64  \n",
      " 10  Source Code      int64  \n",
      " 11  Source           object \n",
      " 12  Unit             object \n",
      " 13  Value            float64\n",
      " 14  Flag             object \n",
      " 15  Note             object \n",
      "dtypes: float64(1), int64(6), object(9)\n",
      "memory usage: 767.2+ MB\n"
     ]
    }
   ],
   "source": [
    "emissions_livestock.info()"
   ]
  },
  {
   "cell_type": "code",
   "execution_count": 49,
   "metadata": {},
   "outputs": [
    {
     "data": {
      "text/plain": [
       "False    6285217\n",
       "Name: count, dtype: int64"
      ]
     },
     "execution_count": 49,
     "metadata": {},
     "output_type": "execute_result"
    }
   ],
   "source": [
    "# Check for full duplicates\n",
    "emissions_livestock.duplicated().value_counts()"
   ]
  },
  {
   "cell_type": "code",
   "execution_count": 50,
   "metadata": {},
   "outputs": [
    {
     "name": "stdout",
     "output_type": "stream",
     "text": [
      "[nan 'Unofficial figure' 'UNFCCC Repository' 'NC/CRF/BUR'\n",
      " 'NC/CRF/BUR Unofficial figure']\n"
     ]
    }
   ],
   "source": [
    "# List unique values in the Note column\n",
    "print(emissions_livestock[\"Note\"].unique())"
   ]
  },
  {
   "cell_type": "code",
   "execution_count": 5,
   "metadata": {},
   "outputs": [],
   "source": [
    "#Dropping columns we don't need:\n",
    "emissions_livestock = emissions_livestock.drop(columns = 'Area Code (M49)')\n",
    "emissions_livestock = emissions_livestock.drop(columns = 'Item Code (CPC)')\n",
    "emissions_livestock = emissions_livestock.drop(columns = 'Year Code')\n",
    "emissions_livestock = emissions_livestock.drop(columns = 'Source Code')\n",
    "emissions_livestock = emissions_livestock.drop(columns = 'Source')\n",
    "emissions_livestock = emissions_livestock.drop(columns = 'Note')"
   ]
  },
  {
   "cell_type": "code",
   "execution_count": 6,
   "metadata": {},
   "outputs": [],
   "source": [
    "emissions_livestock = emissions_livestock.rename(columns={'Area Code' : 'area_code', 'Area' : 'area',\n",
    "                                                  'Item Code' : 'item_code', 'Item' : 'item',\n",
    "                                                  'Element Code' : 'element_code', 'Element' : 'element',\n",
    "                                                  'Year' : 'year', 'Unit' : 'unit', 'Value' : 'value',\n",
    "                                                  'Flag' : 'flag'})"
   ]
  },
  {
   "cell_type": "code",
   "execution_count": 22,
   "metadata": {},
   "outputs": [
    {
     "data": {
      "text/html": [
       "<div>\n",
       "<style scoped>\n",
       "    .dataframe tbody tr th:only-of-type {\n",
       "        vertical-align: middle;\n",
       "    }\n",
       "\n",
       "    .dataframe tbody tr th {\n",
       "        vertical-align: top;\n",
       "    }\n",
       "\n",
       "    .dataframe thead th {\n",
       "        text-align: right;\n",
       "    }\n",
       "</style>\n",
       "<table border=\"1\" class=\"dataframe\">\n",
       "  <thead>\n",
       "    <tr style=\"text-align: right;\">\n",
       "      <th></th>\n",
       "      <th>area_code</th>\n",
       "      <th>area</th>\n",
       "      <th>item_code</th>\n",
       "      <th>item</th>\n",
       "      <th>element_code</th>\n",
       "      <th>element</th>\n",
       "      <th>year</th>\n",
       "      <th>unit</th>\n",
       "      <th>value</th>\n",
       "      <th>flag</th>\n",
       "    </tr>\n",
       "  </thead>\n",
       "  <tbody>\n",
       "    <tr>\n",
       "      <th>0</th>\n",
       "      <td>2</td>\n",
       "      <td>Afghanistan</td>\n",
       "      <td>1107</td>\n",
       "      <td>Asses</td>\n",
       "      <td>5111</td>\n",
       "      <td>Stocks</td>\n",
       "      <td>1961</td>\n",
       "      <td>An</td>\n",
       "      <td>1300000.0</td>\n",
       "      <td>A</td>\n",
       "    </tr>\n",
       "    <tr>\n",
       "      <th>1</th>\n",
       "      <td>2</td>\n",
       "      <td>Afghanistan</td>\n",
       "      <td>1107</td>\n",
       "      <td>Asses</td>\n",
       "      <td>5111</td>\n",
       "      <td>Stocks</td>\n",
       "      <td>1962</td>\n",
       "      <td>An</td>\n",
       "      <td>851850.0</td>\n",
       "      <td>A</td>\n",
       "    </tr>\n",
       "    <tr>\n",
       "      <th>2</th>\n",
       "      <td>2</td>\n",
       "      <td>Afghanistan</td>\n",
       "      <td>1107</td>\n",
       "      <td>Asses</td>\n",
       "      <td>5111</td>\n",
       "      <td>Stocks</td>\n",
       "      <td>1963</td>\n",
       "      <td>An</td>\n",
       "      <td>1001112.0</td>\n",
       "      <td>A</td>\n",
       "    </tr>\n",
       "    <tr>\n",
       "      <th>3</th>\n",
       "      <td>2</td>\n",
       "      <td>Afghanistan</td>\n",
       "      <td>1107</td>\n",
       "      <td>Asses</td>\n",
       "      <td>5111</td>\n",
       "      <td>Stocks</td>\n",
       "      <td>1964</td>\n",
       "      <td>An</td>\n",
       "      <td>1150000.0</td>\n",
       "      <td>E</td>\n",
       "    </tr>\n",
       "    <tr>\n",
       "      <th>4</th>\n",
       "      <td>2</td>\n",
       "      <td>Afghanistan</td>\n",
       "      <td>1107</td>\n",
       "      <td>Asses</td>\n",
       "      <td>5111</td>\n",
       "      <td>Stocks</td>\n",
       "      <td>1965</td>\n",
       "      <td>An</td>\n",
       "      <td>1300000.0</td>\n",
       "      <td>A</td>\n",
       "    </tr>\n",
       "  </tbody>\n",
       "</table>\n",
       "</div>"
      ],
      "text/plain": [
       "   area_code         area  item_code   item  element_code element  year unit  \\\n",
       "0          2  Afghanistan       1107  Asses          5111  Stocks  1961   An   \n",
       "1          2  Afghanistan       1107  Asses          5111  Stocks  1962   An   \n",
       "2          2  Afghanistan       1107  Asses          5111  Stocks  1963   An   \n",
       "3          2  Afghanistan       1107  Asses          5111  Stocks  1964   An   \n",
       "4          2  Afghanistan       1107  Asses          5111  Stocks  1965   An   \n",
       "\n",
       "       value flag  \n",
       "0  1300000.0    A  \n",
       "1   851850.0    A  \n",
       "2  1001112.0    A  \n",
       "3  1150000.0    E  \n",
       "4  1300000.0    A  "
      ]
     },
     "execution_count": 22,
     "metadata": {},
     "output_type": "execute_result"
    }
   ],
   "source": [
    "emissions_livestock.head()"
   ]
  },
  {
   "cell_type": "code",
   "execution_count": 7,
   "metadata": {},
   "outputs": [
    {
     "name": "stdout",
     "output_type": "stream",
     "text": [
      "The fao_emissions_livestock table was imported successfully.\n"
     ]
    }
   ],
   "source": [
    "schema = 'capstone_envirolytics'\n",
    "table_name = 'fao_emissions_livestock'\n",
    "\n",
    "if engine!=None:\n",
    "    try:\n",
    "        emissions_livestock.to_sql(name=table_name, # Name of SQL table\n",
    "                        con=engine, # Engine or connection\n",
    "                        if_exists='replace', # Drop the table before inserting new values \n",
    "                        schema=schema, # Use schmea that was defined earlier\n",
    "                        index=False, # Write DataFrame index as a column\n",
    "                        chunksize=5000, # Specify the number of rows in each batch to be written at a time\n",
    "                        method='multi') # Pass multiple values in a single INSERT clause\n",
    "        print(f\"The {table_name} table was imported successfully.\")\n",
    "    # Error handling\n",
    "    except (Exception, psycopg2.DatabaseError) as error:\n",
    "        print(error)\n",
    "        engine = None"
   ]
  }
 ],
 "metadata": {
  "kernelspec": {
   "display_name": "capstone",
   "language": "python",
   "name": "python3"
  },
  "language_info": {
   "codemirror_mode": {
    "name": "ipython",
    "version": 3
   },
   "file_extension": ".py",
   "mimetype": "text/x-python",
   "name": "python",
   "nbconvert_exporter": "python",
   "pygments_lexer": "ipython3",
   "version": "3.9.18"
  }
 },
 "nbformat": 4,
 "nbformat_minor": 2
}
