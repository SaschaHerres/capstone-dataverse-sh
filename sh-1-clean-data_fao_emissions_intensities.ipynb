{
 "cells": [
  {
   "cell_type": "markdown",
   "metadata": {},
   "source": [
    "# [FAO] emissions intensities"
   ]
  },
  {
   "cell_type": "code",
   "execution_count": 1,
   "metadata": {},
   "outputs": [],
   "source": [
    "import pandas as pd\n",
    "import numpy as np\n",
    "import re as re\n",
    "\n",
    "import _functions_sql as fs\n",
    "import _functions_data_files as fdf\n",
    "\n",
    "source_dir = 'fao_emissions_intensities'\n",
    "source_file = 'Environment_Emissions_intensities_E_All_Data_(Normalized).csv'"
   ]
  },
  {
   "cell_type": "markdown",
   "metadata": {},
   "source": [
    "## import from CSV & show general information"
   ]
  },
  {
   "cell_type": "code",
   "execution_count": 2,
   "metadata": {},
   "outputs": [],
   "source": [
    "# import raw data into a pandas dataframe\n",
    "df_raw = pd.read_csv(\n",
    "      fdf.get_path(source_file, source_dir)\n",
    "    , encoding='latin-1'\n",
    "    , converters={}\n",
    ")"
   ]
  },
  {
   "cell_type": "code",
   "execution_count": 3,
   "metadata": {},
   "outputs": [
    {
     "data": {
      "text/html": [
       "<div>\n",
       "<style scoped>\n",
       "    .dataframe tbody tr th:only-of-type {\n",
       "        vertical-align: middle;\n",
       "    }\n",
       "\n",
       "    .dataframe tbody tr th {\n",
       "        vertical-align: top;\n",
       "    }\n",
       "\n",
       "    .dataframe thead th {\n",
       "        text-align: right;\n",
       "    }\n",
       "</style>\n",
       "<table border=\"1\" class=\"dataframe\">\n",
       "  <thead>\n",
       "    <tr style=\"text-align: right;\">\n",
       "      <th></th>\n",
       "      <th>Area Code</th>\n",
       "      <th>Area Code (M49)</th>\n",
       "      <th>Area</th>\n",
       "      <th>Item Code</th>\n",
       "      <th>Item Code (CPC)</th>\n",
       "      <th>Item</th>\n",
       "      <th>Element Code</th>\n",
       "      <th>Element</th>\n",
       "      <th>Year Code</th>\n",
       "      <th>Year</th>\n",
       "      <th>Unit</th>\n",
       "      <th>Value</th>\n",
       "      <th>Flag</th>\n",
       "    </tr>\n",
       "  </thead>\n",
       "  <tbody>\n",
       "    <tr>\n",
       "      <th>0</th>\n",
       "      <td>2</td>\n",
       "      <td>'004</td>\n",
       "      <td>Afghanistan</td>\n",
       "      <td>1718</td>\n",
       "      <td>'F1718</td>\n",
       "      <td>Cereals excluding rice</td>\n",
       "      <td>71761</td>\n",
       "      <td>Emissions intensity</td>\n",
       "      <td>1961</td>\n",
       "      <td>1961</td>\n",
       "      <td>kg CO2eq/kg</td>\n",
       "      <td>0.1130</td>\n",
       "      <td>E</td>\n",
       "    </tr>\n",
       "    <tr>\n",
       "      <th>1</th>\n",
       "      <td>2</td>\n",
       "      <td>'004</td>\n",
       "      <td>Afghanistan</td>\n",
       "      <td>1718</td>\n",
       "      <td>'F1718</td>\n",
       "      <td>Cereals excluding rice</td>\n",
       "      <td>71761</td>\n",
       "      <td>Emissions intensity</td>\n",
       "      <td>1962</td>\n",
       "      <td>1962</td>\n",
       "      <td>kg CO2eq/kg</td>\n",
       "      <td>0.1149</td>\n",
       "      <td>E</td>\n",
       "    </tr>\n",
       "    <tr>\n",
       "      <th>2</th>\n",
       "      <td>2</td>\n",
       "      <td>'004</td>\n",
       "      <td>Afghanistan</td>\n",
       "      <td>1718</td>\n",
       "      <td>'F1718</td>\n",
       "      <td>Cereals excluding rice</td>\n",
       "      <td>71761</td>\n",
       "      <td>Emissions intensity</td>\n",
       "      <td>1963</td>\n",
       "      <td>1963</td>\n",
       "      <td>kg CO2eq/kg</td>\n",
       "      <td>0.1205</td>\n",
       "      <td>E</td>\n",
       "    </tr>\n",
       "    <tr>\n",
       "      <th>3</th>\n",
       "      <td>2</td>\n",
       "      <td>'004</td>\n",
       "      <td>Afghanistan</td>\n",
       "      <td>1718</td>\n",
       "      <td>'F1718</td>\n",
       "      <td>Cereals excluding rice</td>\n",
       "      <td>71761</td>\n",
       "      <td>Emissions intensity</td>\n",
       "      <td>1964</td>\n",
       "      <td>1964</td>\n",
       "      <td>kg CO2eq/kg</td>\n",
       "      <td>0.1154</td>\n",
       "      <td>E</td>\n",
       "    </tr>\n",
       "    <tr>\n",
       "      <th>4</th>\n",
       "      <td>2</td>\n",
       "      <td>'004</td>\n",
       "      <td>Afghanistan</td>\n",
       "      <td>1718</td>\n",
       "      <td>'F1718</td>\n",
       "      <td>Cereals excluding rice</td>\n",
       "      <td>71761</td>\n",
       "      <td>Emissions intensity</td>\n",
       "      <td>1965</td>\n",
       "      <td>1965</td>\n",
       "      <td>kg CO2eq/kg</td>\n",
       "      <td>0.1144</td>\n",
       "      <td>E</td>\n",
       "    </tr>\n",
       "  </tbody>\n",
       "</table>\n",
       "</div>"
      ],
      "text/plain": [
       "   Area Code Area Code (M49)         Area  Item Code Item Code (CPC)  \\\n",
       "0          2            '004  Afghanistan       1718          'F1718   \n",
       "1          2            '004  Afghanistan       1718          'F1718   \n",
       "2          2            '004  Afghanistan       1718          'F1718   \n",
       "3          2            '004  Afghanistan       1718          'F1718   \n",
       "4          2            '004  Afghanistan       1718          'F1718   \n",
       "\n",
       "                     Item  Element Code              Element  Year Code  Year  \\\n",
       "0  Cereals excluding rice         71761  Emissions intensity       1961  1961   \n",
       "1  Cereals excluding rice         71761  Emissions intensity       1962  1962   \n",
       "2  Cereals excluding rice         71761  Emissions intensity       1963  1963   \n",
       "3  Cereals excluding rice         71761  Emissions intensity       1964  1964   \n",
       "4  Cereals excluding rice         71761  Emissions intensity       1965  1965   \n",
       "\n",
       "          Unit   Value Flag  \n",
       "0  kg CO2eq/kg  0.1130    E  \n",
       "1  kg CO2eq/kg  0.1149    E  \n",
       "2  kg CO2eq/kg  0.1205    E  \n",
       "3  kg CO2eq/kg  0.1154    E  \n",
       "4  kg CO2eq/kg  0.1144    E  "
      ]
     },
     "execution_count": 3,
     "metadata": {},
     "output_type": "execute_result"
    }
   ],
   "source": [
    "# show first data rows\n",
    "df_raw.head()"
   ]
  },
  {
   "cell_type": "code",
   "execution_count": 4,
   "metadata": {},
   "outputs": [
    {
     "name": "stdout",
     "output_type": "stream",
     "text": [
      "<class 'pandas.core.frame.DataFrame'>\n",
      "RangeIndex: 399410 entries, 0 to 399409\n",
      "Data columns (total 13 columns):\n",
      " #   Column           Non-Null Count   Dtype  \n",
      "---  ------           --------------   -----  \n",
      " 0   Area Code        399410 non-null  int64  \n",
      " 1   Area Code (M49)  399410 non-null  object \n",
      " 2   Area             399410 non-null  object \n",
      " 3   Item Code        399410 non-null  int64  \n",
      " 4   Item Code (CPC)  399410 non-null  object \n",
      " 5   Item             399410 non-null  object \n",
      " 6   Element Code     399410 non-null  int64  \n",
      " 7   Element          399410 non-null  object \n",
      " 8   Year Code        399410 non-null  int64  \n",
      " 9   Year             399410 non-null  int64  \n",
      " 10  Unit             399410 non-null  object \n",
      " 11  Value            399410 non-null  float64\n",
      " 12  Flag             399410 non-null  object \n",
      "dtypes: float64(1), int64(5), object(7)\n",
      "memory usage: 39.6+ MB\n"
     ]
    }
   ],
   "source": [
    "# show table summary\n",
    "df_raw.info()"
   ]
  },
  {
   "cell_type": "code",
   "execution_count": 5,
   "metadata": {},
   "outputs": [
    {
     "data": {
      "text/plain": [
       "False    399410\n",
       "Name: count, dtype: int64"
      ]
     },
     "execution_count": 5,
     "metadata": {},
     "output_type": "execute_result"
    }
   ],
   "source": [
    "# show full duplicates\n",
    "df_raw.duplicated().value_counts()"
   ]
  },
  {
   "cell_type": "code",
   "execution_count": 6,
   "metadata": {},
   "outputs": [
    {
     "data": {
      "text/plain": [
       "Area Code  Area Code (M49)  Area   Item Code  Item Code (CPC)  Item   Element Code  Element  Year Code  Year   Unit   Value  Flag \n",
       "False      False            False  False      False            False  False         False    False      False  False  False  False    399410\n",
       "Name: count, dtype: int64"
      ]
     },
     "execution_count": 6,
     "metadata": {},
     "output_type": "execute_result"
    }
   ],
   "source": [
    "# show null values\n",
    "df_raw.isnull().value_counts()"
   ]
  },
  {
   "cell_type": "markdown",
   "metadata": {},
   "source": [
    "## data cleaning"
   ]
  },
  {
   "cell_type": "code",
   "execution_count": 7,
   "metadata": {},
   "outputs": [],
   "source": [
    "# unify column names:\n",
    "# - remove leading/trailing spaces\n",
    "# - convert to lower case\n",
    "# - replace all non-alphanumerical characters with '_'\n",
    "df_raw.columns = [\n",
    "    re.sub('[^a-zA-Z0-9]', '_', col) for col in \\\n",
    "        df_raw.columns.str.strip().str.lower()\n",
    "]"
   ]
  },
  {
   "cell_type": "code",
   "execution_count": 8,
   "metadata": {},
   "outputs": [],
   "source": [
    "# retain original raw data for later\n",
    "df_clean = df_raw.copy()"
   ]
  },
  {
   "cell_type": "markdown",
   "metadata": {},
   "source": [
    "### drop 'area_code' & 'area_code_m49_' (redundant to 'Area')"
   ]
  },
  {
   "cell_type": "markdown",
   "metadata": {},
   "source": [
    ":FIXME: :TODO: has yet to be proven!!!"
   ]
  },
  {
   "cell_type": "code",
   "execution_count": 9,
   "metadata": {},
   "outputs": [],
   "source": [
    "# drop column\n",
    "df_clean.drop(columns = ['area_code', 'area_code__m49_'], inplace=True)"
   ]
  },
  {
   "cell_type": "markdown",
   "metadata": {},
   "source": [
    "### drop 'item_code_cpc_' (redundant to 'item_code')"
   ]
  },
  {
   "cell_type": "markdown",
   "metadata": {},
   "source": [
    ":FIXME: :TODO: has yet to be proven!!!"
   ]
  },
  {
   "cell_type": "code",
   "execution_count": 10,
   "metadata": {},
   "outputs": [],
   "source": [
    "# drop column\n",
    "df_clean.drop(columns = ['item_code__cpc_'], inplace=True)"
   ]
  },
  {
   "cell_type": "markdown",
   "metadata": {},
   "source": [
    "### drop 'element_code' (redundant to 'element')"
   ]
  },
  {
   "cell_type": "markdown",
   "metadata": {},
   "source": [
    ":FIXME: :TODO: has yet to be proven!!!"
   ]
  },
  {
   "cell_type": "markdown",
   "metadata": {},
   "source": [
    "'element_code' stands for a unique combination of element and unit, it can be dropped"
   ]
  },
  {
   "cell_type": "code",
   "execution_count": 11,
   "metadata": {},
   "outputs": [],
   "source": [
    "# drop column\n",
    "df_clean.drop(columns = ['element_code'], inplace=True)"
   ]
  },
  {
   "cell_type": "markdown",
   "metadata": {},
   "source": [
    "### drop 'year_code' (redundant to 'year')"
   ]
  },
  {
   "cell_type": "markdown",
   "metadata": {},
   "source": [
    ":FIXME: :TODO: has yet to be proven!!!"
   ]
  },
  {
   "cell_type": "code",
   "execution_count": 12,
   "metadata": {},
   "outputs": [],
   "source": [
    "# drop column\n",
    "df_clean.drop(columns = ['year_code'], inplace=True)"
   ]
  },
  {
   "cell_type": "markdown",
   "metadata": {},
   "source": [
    "### drop 'flag' (no added value)"
   ]
  },
  {
   "cell_type": "markdown",
   "metadata": {},
   "source": [
    ":FIXME: :TODO: has yet to be proven!!!"
   ]
  },
  {
   "cell_type": "code",
   "execution_count": 13,
   "metadata": {},
   "outputs": [],
   "source": [
    "# drop column\n",
    "df_clean.drop(columns = ['flag'], inplace=True)"
   ]
  },
  {
   "cell_type": "markdown",
   "metadata": {},
   "source": [
    "## data wrangling"
   ]
  },
  {
   "cell_type": "code",
   "execution_count": 14,
   "metadata": {},
   "outputs": [],
   "source": [
    "# retain original cleaned data for later\n",
    "df_wrangled = df_clean.copy()"
   ]
  },
  {
   "cell_type": "markdown",
   "metadata": {},
   "source": [
    "### split 'element' column into separate columns using 'value' and 'unit'"
   ]
  },
  {
   "cell_type": "code",
   "execution_count": 15,
   "metadata": {},
   "outputs": [
    {
     "data": {
      "text/plain": [
       "False    399410\n",
       "Name: count, dtype: int64"
      ]
     },
     "execution_count": 15,
     "metadata": {},
     "output_type": "execute_result"
    }
   ],
   "source": [
    "# check for duplicates regarding composite key with 'element'\n",
    "df_wrangled[['area', 'year', 'item', 'element']].duplicated().value_counts()"
   ]
  },
  {
   "cell_type": "code",
   "execution_count": 16,
   "metadata": {},
   "outputs": [
    {
     "data": {
      "text/plain": [
       "True"
      ]
     },
     "execution_count": 16,
     "metadata": {},
     "output_type": "execute_result"
    }
   ],
   "source": [
    "# verify all values are positive, otherwise aggregation via 'max' will not work\n",
    "(df_wrangled['value'] >= 0).all()"
   ]
  },
  {
   "cell_type": "code",
   "execution_count": 17,
   "metadata": {},
   "outputs": [
    {
     "data": {
      "text/plain": [
       "unit\n",
       "kt             133607\n",
       "t              133607\n",
       "kg CO2eq/kg    132196\n",
       "Name: count, dtype: int64"
      ]
     },
     "execution_count": 17,
     "metadata": {},
     "output_type": "execute_result"
    }
   ],
   "source": [
    "# important: values have divergent units, so this has to be handled\n",
    "# appropriately further on\n",
    "df_wrangled['unit'].value_counts(dropna=False)"
   ]
  },
  {
   "cell_type": "code",
   "execution_count": 18,
   "metadata": {},
   "outputs": [],
   "source": [
    "# split 'element' column (by the 3 expected values) into seperate columns, that\n",
    "# contain 0/1 depending on the actual value of 'element'\n",
    "df_dummies = pd.get_dummies(df_wrangled['element'])\n",
    "# rename columns\n",
    "df_dummies.rename(\n",
    "        columns={\n",
    "              'Emissions (CO2eq) (AR5)': 'emissions_co2eq'\n",
    "            , 'Emissions intensity': 'emissions_intensity'\n",
    "            , 'Production': 'production'\n",
    "        }\n",
    "        , inplace=True)\n",
    "\n",
    "# add dummies after replacing '1' with actual value from 'value'\n",
    "df_new_cols = df_dummies.mul(df_wrangled['value'], axis=0)\n",
    "df_wrangled = pd.concat([df_wrangled, df_new_cols], axis=1)\n",
    "\n",
    "# add dummies with suffix appended to column name and after replacing '1'\n",
    "# with actual value from 'unit'\n",
    "df_new_cols = df_dummies.add_suffix('_unit').mul(df_wrangled['unit'], axis=0)\n",
    "df_wrangled = pd.concat([df_wrangled, df_new_cols], axis=1)"
   ]
  },
  {
   "cell_type": "code",
   "execution_count": 19,
   "metadata": {},
   "outputs": [
    {
     "name": "stdout",
     "output_type": "stream",
     "text": [
      "precision loss for emissions_co2eq: 0.0\n",
      "precision loss for emissions_intensity: 0.0\n",
      "precision loss for production: 0.0001220703125\n"
     ]
    }
   ],
   "source": [
    "# calculate the precision loss\n",
    "print(\n",
    "      'precision loss for emissions_co2eq:'\n",
    "    , df_wrangled[df_wrangled['element'] == 'Emissions (CO2eq) (AR5)'] \\\n",
    "        ['value'].sum()\n",
    "      - df_wrangled['emissions_co2eq'].sum()\n",
    ")\n",
    "print(\n",
    "      'precision loss for emissions_intensity:'\n",
    "    , df_wrangled[df_wrangled['element'] == 'Emissions intensity'] \\\n",
    "        ['value'].sum()\n",
    "      - df_wrangled['emissions_intensity'].sum()\n",
    ")\n",
    "print(\n",
    "      'precision loss for production:'\n",
    "    , df_wrangled[df_wrangled['element'] == 'Production'] \\\n",
    "        ['value'].sum()\n",
    "      - df_wrangled['production'].sum()\n",
    ")"
   ]
  },
  {
   "cell_type": "code",
   "execution_count": 20,
   "metadata": {},
   "outputs": [],
   "source": [
    "# drop now redundant columns\n",
    "df_wrangled.drop(columns = ['element', 'unit', 'value'], inplace=True)\n",
    "# group all duplicate columns keeping the actual values for each row\n",
    "df_wrangled = df_wrangled.groupby([\n",
    "      'area'\n",
    "    , 'item_code'\n",
    "    , 'item'\n",
    "    , 'year'\n",
    "]).agg({\n",
    "      'emissions_co2eq': 'max'\n",
    "    , 'emissions_intensity': 'max'\n",
    "    , 'production': 'max'\n",
    "    , 'emissions_co2eq_unit': 'max'\n",
    "    , 'emissions_intensity_unit': 'max'\n",
    "    , 'production_unit': 'max'\n",
    "    }).reset_index()"
   ]
  },
  {
   "cell_type": "markdown",
   "metadata": {},
   "source": [
    "### verify 'year' values"
   ]
  },
  {
   "cell_type": "code",
   "execution_count": 21,
   "metadata": {},
   "outputs": [
    {
     "data": {
      "text/plain": [
       "array([1961, 1962, 1963, 1964, 1965, 1966, 1967, 1968, 1969, 1970, 1971,\n",
       "       1972, 1973, 1974, 1975, 1976, 1977, 1978, 1979, 1980, 1981, 1982,\n",
       "       1983, 1984, 1985, 1986, 1987, 1988, 1989, 1990, 1991, 1992, 1993,\n",
       "       1994, 1995, 1996, 1997, 1998, 1999, 2000, 2001, 2002, 2003, 2004,\n",
       "       2005, 2006, 2007, 2008, 2009, 2010, 2011, 2012, 2013, 2014, 2015,\n",
       "       2016, 2017, 2018, 2019, 2020, 2021])"
      ]
     },
     "execution_count": 21,
     "metadata": {},
     "output_type": "execute_result"
    }
   ],
   "source": [
    "# show time span of rows\n",
    "pd.Series(df_raw['year'].unique()).sort_values().to_numpy()"
   ]
  },
  {
   "cell_type": "markdown",
   "metadata": {},
   "source": [
    "### reorder columns"
   ]
  },
  {
   "cell_type": "code",
   "execution_count": 23,
   "metadata": {},
   "outputs": [],
   "source": [
    "column_order = [\n",
    "      'area', 'year', 'item', 'item_code'\n",
    "    , 'emissions_co2eq', 'emissions_co2eq_unit'\n",
    "    , 'emissions_intensity', 'emissions_intensity_unit'\n",
    "    , 'production', 'production_unit'\n",
    "]\n",
    "if len(column_order) != df_wrangled.shape[1]:\n",
    "    print('warning: dropping columns')\n",
    "df_wrangled = df_wrangled[column_order]"
   ]
  },
  {
   "cell_type": "markdown",
   "metadata": {},
   "source": [
    "## final checks & upload to database server"
   ]
  },
  {
   "cell_type": "code",
   "execution_count": 23,
   "metadata": {},
   "outputs": [
    {
     "data": {
      "text/html": [
       "<div>\n",
       "<style scoped>\n",
       "    .dataframe tbody tr th:only-of-type {\n",
       "        vertical-align: middle;\n",
       "    }\n",
       "\n",
       "    .dataframe tbody tr th {\n",
       "        vertical-align: top;\n",
       "    }\n",
       "\n",
       "    .dataframe thead th {\n",
       "        text-align: right;\n",
       "    }\n",
       "</style>\n",
       "<table border=\"1\" class=\"dataframe\">\n",
       "  <thead>\n",
       "    <tr style=\"text-align: right;\">\n",
       "      <th></th>\n",
       "      <th>area</th>\n",
       "      <th>year</th>\n",
       "      <th>item</th>\n",
       "      <th>item_code</th>\n",
       "      <th>emissions_co2eq</th>\n",
       "      <th>emissions_co2eq_unit</th>\n",
       "      <th>emissions_intensity</th>\n",
       "      <th>emissions_intensity_unit</th>\n",
       "      <th>production</th>\n",
       "      <th>production_unit</th>\n",
       "    </tr>\n",
       "  </thead>\n",
       "  <tbody>\n",
       "    <tr>\n",
       "      <th>0</th>\n",
       "      <td>Afghanistan</td>\n",
       "      <td>1961</td>\n",
       "      <td>Rice</td>\n",
       "      <td>27</td>\n",
       "      <td>867.5087</td>\n",
       "      <td>kt</td>\n",
       "      <td>2.7195</td>\n",
       "      <td>kg CO2eq/kg</td>\n",
       "      <td>319000.0</td>\n",
       "      <td>t</td>\n",
       "    </tr>\n",
       "    <tr>\n",
       "      <th>1</th>\n",
       "      <td>Afghanistan</td>\n",
       "      <td>1962</td>\n",
       "      <td>Rice</td>\n",
       "      <td>27</td>\n",
       "      <td>867.5087</td>\n",
       "      <td>kt</td>\n",
       "      <td>2.7195</td>\n",
       "      <td>kg CO2eq/kg</td>\n",
       "      <td>319000.0</td>\n",
       "      <td>t</td>\n",
       "    </tr>\n",
       "    <tr>\n",
       "      <th>2</th>\n",
       "      <td>Afghanistan</td>\n",
       "      <td>1963</td>\n",
       "      <td>Rice</td>\n",
       "      <td>27</td>\n",
       "      <td>867.5087</td>\n",
       "      <td>kt</td>\n",
       "      <td>2.7195</td>\n",
       "      <td>kg CO2eq/kg</td>\n",
       "      <td>319000.0</td>\n",
       "      <td>t</td>\n",
       "    </tr>\n",
       "    <tr>\n",
       "      <th>3</th>\n",
       "      <td>Afghanistan</td>\n",
       "      <td>1964</td>\n",
       "      <td>Rice</td>\n",
       "      <td>27</td>\n",
       "      <td>910.6113</td>\n",
       "      <td>kt</td>\n",
       "      <td>2.3963</td>\n",
       "      <td>kg CO2eq/kg</td>\n",
       "      <td>380000.0</td>\n",
       "      <td>t</td>\n",
       "    </tr>\n",
       "    <tr>\n",
       "      <th>4</th>\n",
       "      <td>Afghanistan</td>\n",
       "      <td>1965</td>\n",
       "      <td>Rice</td>\n",
       "      <td>27</td>\n",
       "      <td>910.6113</td>\n",
       "      <td>kt</td>\n",
       "      <td>2.3963</td>\n",
       "      <td>kg CO2eq/kg</td>\n",
       "      <td>380000.0</td>\n",
       "      <td>t</td>\n",
       "    </tr>\n",
       "  </tbody>\n",
       "</table>\n",
       "</div>"
      ],
      "text/plain": [
       "          area  year  item  item_code  emissions_co2eq emissions_co2eq_unit  \\\n",
       "0  Afghanistan  1961  Rice         27         867.5087                   kt   \n",
       "1  Afghanistan  1962  Rice         27         867.5087                   kt   \n",
       "2  Afghanistan  1963  Rice         27         867.5087                   kt   \n",
       "3  Afghanistan  1964  Rice         27         910.6113                   kt   \n",
       "4  Afghanistan  1965  Rice         27         910.6113                   kt   \n",
       "\n",
       "   emissions_intensity emissions_intensity_unit  production production_unit  \n",
       "0               2.7195              kg CO2eq/kg    319000.0               t  \n",
       "1               2.7195              kg CO2eq/kg    319000.0               t  \n",
       "2               2.7195              kg CO2eq/kg    319000.0               t  \n",
       "3               2.3963              kg CO2eq/kg    380000.0               t  \n",
       "4               2.3963              kg CO2eq/kg    380000.0               t  "
      ]
     },
     "execution_count": 23,
     "metadata": {},
     "output_type": "execute_result"
    }
   ],
   "source": [
    "# show first data rows\n",
    "df_wrangled.head()"
   ]
  },
  {
   "cell_type": "code",
   "execution_count": 24,
   "metadata": {},
   "outputs": [
    {
     "name": "stdout",
     "output_type": "stream",
     "text": [
      "<class 'pandas.core.frame.DataFrame'>\n",
      "RangeIndex: 133607 entries, 0 to 133606\n",
      "Data columns (total 10 columns):\n",
      " #   Column                    Non-Null Count   Dtype  \n",
      "---  ------                    --------------   -----  \n",
      " 0   area                      133607 non-null  object \n",
      " 1   year                      133607 non-null  int64  \n",
      " 2   item                      133607 non-null  object \n",
      " 3   item_code                 133607 non-null  int64  \n",
      " 4   emissions_co2eq           133607 non-null  float64\n",
      " 5   emissions_co2eq_unit      133607 non-null  object \n",
      " 6   emissions_intensity       133607 non-null  float64\n",
      " 7   emissions_intensity_unit  133607 non-null  object \n",
      " 8   production                133607 non-null  float64\n",
      " 9   production_unit           133607 non-null  object \n",
      "dtypes: float64(3), int64(2), object(5)\n",
      "memory usage: 10.2+ MB\n"
     ]
    }
   ],
   "source": [
    "# show table summary\n",
    "df_wrangled.info()"
   ]
  },
  {
   "cell_type": "code",
   "execution_count": 25,
   "metadata": {},
   "outputs": [
    {
     "data": {
      "text/plain": [
       "False    133607\n",
       "Name: count, dtype: int64"
      ]
     },
     "execution_count": 25,
     "metadata": {},
     "output_type": "execute_result"
    }
   ],
   "source": [
    "# check for duplicates regarding composite key\n",
    "df_wrangled[['area', 'year', 'item']].duplicated().value_counts()"
   ]
  },
  {
   "cell_type": "markdown",
   "metadata": {},
   "source": [
    "### write raw data"
   ]
  },
  {
   "cell_type": "code",
   "execution_count": 26,
   "metadata": {},
   "outputs": [
    {
     "name": "stdout",
     "output_type": "stream",
     "text": [
      "+ table written: fao_emissions_intensities_raw_sh\n"
     ]
    }
   ],
   "source": [
    "# write to database & grant access\n",
    "table_name = 'fao_emissions_intensities_raw_sh'\n",
    "fs.write_dataframe(df_raw, table_name)\n",
    "fs.run_command('CALL grant_access(\\'' + table_name + '\\')')"
   ]
  },
  {
   "cell_type": "markdown",
   "metadata": {},
   "source": [
    "### write wrangled data"
   ]
  },
  {
   "cell_type": "code",
   "execution_count": 27,
   "metadata": {},
   "outputs": [
    {
     "name": "stdout",
     "output_type": "stream",
     "text": [
      "+ table written: fao_emissions_intensities_wrangled_sh\n"
     ]
    }
   ],
   "source": [
    "# write to database & grant access\n",
    "table_name = 'fao_emissions_intensities_wrangled_sh'\n",
    "fs.write_dataframe(df_wrangled, table_name)\n",
    "fs.run_command('CALL grant_access(\\'' + table_name + '\\')')"
   ]
  }
 ],
 "metadata": {
  "kernelspec": {
   "display_name": "nf_sql",
   "language": "python",
   "name": "python3"
  },
  "language_info": {
   "codemirror_mode": {
    "name": "ipython",
    "version": 3
   },
   "file_extension": ".py",
   "mimetype": "text/x-python",
   "name": "python",
   "nbconvert_exporter": "python",
   "pygments_lexer": "ipython3",
   "version": "3.9.18"
  }
 },
 "nbformat": 4,
 "nbformat_minor": 2
}
