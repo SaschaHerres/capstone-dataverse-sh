{
 "cells": [
  {
   "cell_type": "code",
   "execution_count": 1,
   "metadata": {},
   "outputs": [],
   "source": [
    "import _functions_data_files as fdf"
   ]
  },
  {
   "cell_type": "code",
   "execution_count": 4,
   "metadata": {},
   "outputs": [],
   "source": [
    "data = {\n",
    "    'prod': {\n",
    "        'title': 'crops & livestock production data',\n",
    "        'url': 'https://fenixservices.fao.org/faostat/static/bulkdownloads/' +\n",
    "            'Production_Crops_Livestock_E_All_Data_(Normalized).zip',\n",
    "        'file': 'Production_Crops_Livestock_E_All_Data_(Normalized).csv'\n",
    "    },\n",
    "    'emi_crop': {\n",
    "        'title': 'emissions from crops data',\n",
    "        'url': 'https://fenixservices.fao.org/faostat/static/bulkdownloads/' +\n",
    "            'Emissions_crops_E_All_Data_(Normalized).zip',\n",
    "        'file': 'Emissions_crops_E_All_Data_(Normalized).csv'\n",
    "    },\n",
    "    'emi_live': {\n",
    "        'title': 'emissions from livestock data',\n",
    "        'url': 'https://fenixservices.fao.org/faostat/static/bulkdownloads/' +\n",
    "            'Emissions_livestock_E_All_Data_(Normalized).zip',\n",
    "        'file': 'Emissions_livestock_E_All_Data_(Normalized).csv'\n",
    "    },\n",
    "    'food': {\n",
    "        'title': 'food balances data',\n",
    "        'url': 'https://fenixservices.fao.org/faostat/static/bulkdownloads/' +\n",
    "            'FoodBalanceSheets_E_All_Data_(Normalized).zip',\n",
    "        'file': 'FoodBalanceSheets_E_All_Data_(Normalized).csv'\n",
    "    },\n",
    "    'add': {\n",
    "        'title': 'additional emissions data',\n",
    "        'url': 'https://fenixservices.fao.org/faostat/static/bulkdownloads/' +\n",
    "            'Environment_Emissions_intensities_E_All_Data_(Normalized).zip',\n",
    "        'file': 'Environment_Emissions_intensities_E_All_Data_(Normalized).csv'\n",
    "    }\n",
    "}"
   ]
  },
  {
   "cell_type": "code",
   "execution_count": 8,
   "metadata": {},
   "outputs": [
    {
     "name": "stdout",
     "output_type": "stream",
     "text": [
      "# downloading crops & livestock production data\n",
      "+ file downloaded: Production_Crops_Livestock_E_All_Data_(Normalized).zip\n",
      "+ files extracted: ['Production_Crops_Livestock_E_All_Data_(Normalized).csv', 'Production_Crops_Livestock_E_AreaCodes.csv', 'Production_Crops_Livestock_E_Flags.csv', 'Production_Crops_Livestock_E_ItemCodes.csv']\n",
      "+ searched file found: ./data/Production_Crops_Livestock_E_All_Data_(Normalized).csv\n",
      "\n",
      "# downloading emissions from crops data\n",
      "+ file downloaded: Emissions_crops_E_All_Data_(Normalized).zip\n",
      "+ files extracted: ['Emissions_crops_E_All_Data_(Normalized).csv', 'Emissions_crops_E_AreaCodes.csv', 'Emissions_crops_E_Flags.csv', 'Emissions_crops_E_ItemCodes.csv']\n",
      "+ searched file found: ./data/Emissions_crops_E_All_Data_(Normalized).csv\n",
      "\n",
      "# downloading emissions from livestock data\n",
      "+ file downloaded: Emissions_livestock_E_All_Data_(Normalized).zip\n",
      "+ files extracted: ['Emissions_livestock_E_All_Data_(Normalized).csv', 'Emissions_livestock_E_AreaCodes.csv', 'Emissions_livestock_E_Flags.csv', 'Emissions_livestock_E_ItemCodes.csv']\n",
      "+ searched file found: ./data/Emissions_livestock_E_All_Data_(Normalized).csv\n",
      "\n",
      "# downloading food balances data\n",
      "+ file downloaded: FoodBalanceSheets_E_All_Data_(Normalized).zip\n",
      "+ files extracted: ['FoodBalanceSheets_E_All_Data_(Normalized).csv', 'FoodBalanceSheets_E_AreaCodes.csv', 'FoodBalanceSheets_E_Flags.csv', 'FoodBalanceSheets_E_ItemCodes.csv']\n",
      "+ searched file found: ./data/FoodBalanceSheets_E_All_Data_(Normalized).csv\n",
      "\n",
      "# downloading additional emissions data\n",
      "+ file downloaded: Environment_Emissions_intensities_E_All_Data_(Normalized).zip\n",
      "+ files extracted: ['Environment_Emissions_intensities_E_All_Data_(Normalized).csv', 'Environment_Emissions_intensities_E_AreaCodes.csv', 'Environment_Emissions_intensities_E_Flags.csv', 'Environment_Emissions_intensities_E_ItemCodes.csv']\n",
      "+ searched file found: ./data/Environment_Emissions_intensities_E_All_Data_(Normalized).csv\n",
      "\n"
     ]
    }
   ],
   "source": [
    "# download, extract all files, search for csv target file & print full path\n",
    "for d in data.values():\n",
    "    print('# downloading', d['title'])\n",
    "    if zipfile := fdf.download_file(d['url']):\n",
    "        if not d['file'] in fdf.unzip_file(zipfile):\n",
    "            print('ERROR! searched file not extracted')    \n",
    "        elif not (path := fdf.get_file_path(d['file'], check_exist=True)):\n",
    "            print('ERROR! searched file not found in file system')\n",
    "        else:\n",
    "            print('+ searched file found:', path)\n",
    "    print()"
   ]
  }
 ],
 "metadata": {
  "kernelspec": {
   "display_name": "capstone",
   "language": "python",
   "name": "python3"
  },
  "language_info": {
   "codemirror_mode": {
    "name": "ipython",
    "version": 3
   },
   "file_extension": ".py",
   "mimetype": "text/x-python",
   "name": "python",
   "nbconvert_exporter": "python",
   "pygments_lexer": "ipython3",
   "version": "3.9.18"
  }
 },
 "nbformat": 4,
 "nbformat_minor": 2
}
