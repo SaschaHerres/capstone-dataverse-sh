{
 "cells": [
  {
   "cell_type": "markdown",
   "metadata": {},
   "source": [
    "# getting all the data"
   ]
  },
  {
   "cell_type": "code",
   "execution_count": 4,
   "metadata": {},
   "outputs": [],
   "source": [
    "import _functions_data_files as fdf"
   ]
  },
  {
   "cell_type": "code",
   "execution_count": 5,
   "metadata": {},
   "outputs": [],
   "source": [
    "data = {\n",
    "    'faostat_prod': {\n",
    "        'title': 'faostat: crops & livestock production',\n",
    "        'url': 'https://fenixservices.fao.org/faostat/static/bulkdownloads/' +\n",
    "            'Production_Crops_Livestock_E_All_Data_(Normalized).zip',\n",
    "        'file': 'Production_Crops_Livestock_E_All_Data_(Normalized).csv'\n",
    "    },\n",
    "    'faostat_emi_crop': {\n",
    "        'title': 'faostat: emissions from crops',\n",
    "        'url': 'https://fenixservices.fao.org/faostat/static/bulkdownloads/' +\n",
    "            'Emissions_crops_E_All_Data_(Normalized).zip',\n",
    "        'file': 'Emissions_crops_E_All_Data_(Normalized).csv'\n",
    "    },\n",
    "    'faostat_emi_live': {\n",
    "        'title': 'faostat: emissions from livestock',\n",
    "        'url': 'https://fenixservices.fao.org/faostat/static/bulkdownloads/' +\n",
    "            'Emissions_livestock_E_All_Data_(Normalized).zip',\n",
    "        'file': 'Emissions_livestock_E_All_Data_(Normalized).csv'\n",
    "    },\n",
    "    'faostat_food': {\n",
    "        'title': 'faostat: food balances',\n",
    "        'url': 'https://fenixservices.fao.org/faostat/static/bulkdownloads/' +\n",
    "            'FoodBalanceSheets_E_All_Data_(Normalized).zip',\n",
    "        'file': 'FoodBalanceSheets_E_All_Data_(Normalized).csv'\n",
    "    },\n",
    "    'faostat_emi_int': {\n",
    "        'title': 'faostat: emissions intensities',\n",
    "        'url': 'https://fenixservices.fao.org/faostat/static/bulkdownloads/' +\n",
    "            'Environment_Emissions_intensities_E_All_Data_(Normalized).zip',\n",
    "        'file': 'Environment_Emissions_intensities_E_All_Data_(Normalized).csv'\n",
    "    },\n",
    "    'faostat_trade_matrix': {\n",
    "        'title': 'faostat: trade matrix',\n",
    "        'url': 'https://fenixservices.fao.org/faostat/static/bulkdownloads/' +\n",
    "            'Trade_DetailedTradeMatrix_E_All_Data_(Normalized).zip',\n",
    "        'file': 'Trade_DetailedTradeMatrix_E_All_Data_(Normalized).csv'\n",
    "    }    \n",
    "}"
   ]
  },
  {
   "cell_type": "code",
   "execution_count": 6,
   "metadata": {},
   "outputs": [
    {
     "name": "stdout",
     "output_type": "stream",
     "text": [
      "# downloading faostat: crops & livestock production\n",
      "+ file downloaded: Production_Crops_Livestock_E_All_Data_(Normalized).zip\n",
      "+ files extracted: ['Production_Crops_Livestock_E_All_Data_(Normalized).csv', 'Production_Crops_Livestock_E_AreaCodes.csv', 'Production_Crops_Livestock_E_Flags.csv', 'Production_Crops_Livestock_E_ItemCodes.csv']\n",
      "+ searched file found: ./data/faostat_prod/Production_Crops_Livestock_E_All_Data_(Normalized).csv\n",
      "\n",
      "# downloading faostat: emissions from crops\n",
      "+ file downloaded: Emissions_crops_E_All_Data_(Normalized).zip\n",
      "+ files extracted: ['Emissions_crops_E_All_Data_(Normalized).csv', 'Emissions_crops_E_AreaCodes.csv', 'Emissions_crops_E_Flags.csv', 'Emissions_crops_E_ItemCodes.csv']\n",
      "+ searched file found: ./data/faostat_emi_crop/Emissions_crops_E_All_Data_(Normalized).csv\n",
      "\n",
      "# downloading faostat: emissions from livestock\n",
      "+ file downloaded: Emissions_livestock_E_All_Data_(Normalized).zip\n",
      "+ files extracted: ['Emissions_livestock_E_All_Data_(Normalized).csv', 'Emissions_livestock_E_AreaCodes.csv', 'Emissions_livestock_E_Flags.csv', 'Emissions_livestock_E_ItemCodes.csv']\n",
      "+ searched file found: ./data/faostat_emi_live/Emissions_livestock_E_All_Data_(Normalized).csv\n",
      "\n",
      "# downloading faostat: food balances\n",
      "+ file downloaded: FoodBalanceSheets_E_All_Data_(Normalized).zip\n",
      "+ files extracted: ['FoodBalanceSheets_E_All_Data_(Normalized).csv', 'FoodBalanceSheets_E_AreaCodes.csv', 'FoodBalanceSheets_E_Flags.csv', 'FoodBalanceSheets_E_ItemCodes.csv']\n",
      "+ searched file found: ./data/faostat_food/FoodBalanceSheets_E_All_Data_(Normalized).csv\n",
      "\n",
      "# downloading faostat: emissions intensities\n",
      "+ file downloaded: Environment_Emissions_intensities_E_All_Data_(Normalized).zip\n",
      "+ files extracted: ['Environment_Emissions_intensities_E_All_Data_(Normalized).csv', 'Environment_Emissions_intensities_E_AreaCodes.csv', 'Environment_Emissions_intensities_E_Flags.csv', 'Environment_Emissions_intensities_E_ItemCodes.csv']\n",
      "+ searched file found: ./data/faostat_emi_int/Environment_Emissions_intensities_E_All_Data_(Normalized).csv\n",
      "\n",
      "# downloading faostat: trade matrix\n",
      "+ file downloaded: Trade_DetailedTradeMatrix_E_All_Data_(Normalized).zip\n",
      "+ files extracted: ['Trade_DetailedTradeMatrix_E_All_Data_(Normalized).csv', 'Trade_DetailedTradeMatrix_E_AreaCodes.csv', 'Trade_DetailedTradeMatrix_E_Flags.csv', 'Trade_DetailedTradeMatrix_E_ItemCodes.csv']\n",
      "ERROR! searched file not extracted\n",
      "\n"
     ]
    }
   ],
   "source": [
    "# download, extract all files, search for csv target file & print full path\n",
    "for src, dl in data.items():\n",
    "    print('# downloading', dl['title'])\n",
    "    if zipfile := fdf.download_file(dl['url'], src):\n",
    "        if not dl['file'] in fdf.unzip_file(zipfile, src):\n",
    "            print('ERROR! searched file not extracted')    \n",
    "        elif not (path := fdf.get_file_path(dl['file'], src, True)):\n",
    "            print('ERROR! searched file not found in file system')\n",
    "        else:\n",
    "            print('+ searched file found:', path)\n",
    "    print()"
   ]
  }
 ],
 "metadata": {
  "kernelspec": {
   "display_name": "capstone",
   "language": "python",
   "name": "python3"
  },
  "language_info": {
   "codemirror_mode": {
    "name": "ipython",
    "version": 3
   },
   "file_extension": ".py",
   "mimetype": "text/x-python",
   "name": "python",
   "nbconvert_exporter": "python",
   "pygments_lexer": "ipython3",
   "version": "3.9.18"
  }
 },
 "nbformat": 4,
 "nbformat_minor": 2
}
