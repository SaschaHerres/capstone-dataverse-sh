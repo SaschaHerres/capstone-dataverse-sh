{
 "cells": [
  {
   "cell_type": "markdown",
   "metadata": {},
   "source": [
    "# [FAO] emissions from livestock"
   ]
  },
  {
   "cell_type": "code",
   "execution_count": 1,
   "metadata": {},
   "outputs": [],
   "source": [
    "import pandas as pd\n",
    "import numpy as np\n",
    "import re as re\n",
    "\n",
    "import _functions_sql as fs\n",
    "import _functions_data_files as fdf\n",
    "\n",
    "source_dir = 'fao_emissions_livestock'\n",
    "source_file = 'Emissions_livestock_E_All_Data_(Normalized).csv'"
   ]
  },
  {
   "cell_type": "markdown",
   "metadata": {},
   "source": [
    "## import from CSV & show general information"
   ]
  },
  {
   "cell_type": "code",
   "execution_count": 2,
   "metadata": {},
   "outputs": [],
   "source": [
    "# import raw data into a pandas dataframe\n",
    "df_raw = pd.read_csv(\n",
    "      fdf.get_path(source_file, source_dir)\n",
    "    , encoding='latin-1'\n",
    "    , converters={'Note': str} # handle DtypeWarning without 'low_memory=False' \n",
    ")"
   ]
  },
  {
   "cell_type": "code",
   "execution_count": 3,
   "metadata": {},
   "outputs": [
    {
     "data": {
      "text/html": [
       "<div>\n",
       "<style scoped>\n",
       "    .dataframe tbody tr th:only-of-type {\n",
       "        vertical-align: middle;\n",
       "    }\n",
       "\n",
       "    .dataframe tbody tr th {\n",
       "        vertical-align: top;\n",
       "    }\n",
       "\n",
       "    .dataframe thead th {\n",
       "        text-align: right;\n",
       "    }\n",
       "</style>\n",
       "<table border=\"1\" class=\"dataframe\">\n",
       "  <thead>\n",
       "    <tr style=\"text-align: right;\">\n",
       "      <th></th>\n",
       "      <th>Area Code</th>\n",
       "      <th>Area Code (M49)</th>\n",
       "      <th>Area</th>\n",
       "      <th>Item Code</th>\n",
       "      <th>Item Code (CPC)</th>\n",
       "      <th>Item</th>\n",
       "      <th>Element Code</th>\n",
       "      <th>Element</th>\n",
       "      <th>Year Code</th>\n",
       "      <th>Year</th>\n",
       "      <th>Source Code</th>\n",
       "      <th>Source</th>\n",
       "      <th>Unit</th>\n",
       "      <th>Value</th>\n",
       "      <th>Flag</th>\n",
       "      <th>Note</th>\n",
       "    </tr>\n",
       "  </thead>\n",
       "  <tbody>\n",
       "    <tr>\n",
       "      <th>0</th>\n",
       "      <td>2</td>\n",
       "      <td>'004</td>\n",
       "      <td>Afghanistan</td>\n",
       "      <td>1107</td>\n",
       "      <td>'02132</td>\n",
       "      <td>Asses</td>\n",
       "      <td>5111</td>\n",
       "      <td>Stocks</td>\n",
       "      <td>1961</td>\n",
       "      <td>1961</td>\n",
       "      <td>3050</td>\n",
       "      <td>FAO TIER 1</td>\n",
       "      <td>An</td>\n",
       "      <td>1300000.0</td>\n",
       "      <td>A</td>\n",
       "      <td></td>\n",
       "    </tr>\n",
       "    <tr>\n",
       "      <th>1</th>\n",
       "      <td>2</td>\n",
       "      <td>'004</td>\n",
       "      <td>Afghanistan</td>\n",
       "      <td>1107</td>\n",
       "      <td>'02132</td>\n",
       "      <td>Asses</td>\n",
       "      <td>5111</td>\n",
       "      <td>Stocks</td>\n",
       "      <td>1962</td>\n",
       "      <td>1962</td>\n",
       "      <td>3050</td>\n",
       "      <td>FAO TIER 1</td>\n",
       "      <td>An</td>\n",
       "      <td>851850.0</td>\n",
       "      <td>A</td>\n",
       "      <td></td>\n",
       "    </tr>\n",
       "    <tr>\n",
       "      <th>2</th>\n",
       "      <td>2</td>\n",
       "      <td>'004</td>\n",
       "      <td>Afghanistan</td>\n",
       "      <td>1107</td>\n",
       "      <td>'02132</td>\n",
       "      <td>Asses</td>\n",
       "      <td>5111</td>\n",
       "      <td>Stocks</td>\n",
       "      <td>1963</td>\n",
       "      <td>1963</td>\n",
       "      <td>3050</td>\n",
       "      <td>FAO TIER 1</td>\n",
       "      <td>An</td>\n",
       "      <td>1001112.0</td>\n",
       "      <td>A</td>\n",
       "      <td></td>\n",
       "    </tr>\n",
       "    <tr>\n",
       "      <th>3</th>\n",
       "      <td>2</td>\n",
       "      <td>'004</td>\n",
       "      <td>Afghanistan</td>\n",
       "      <td>1107</td>\n",
       "      <td>'02132</td>\n",
       "      <td>Asses</td>\n",
       "      <td>5111</td>\n",
       "      <td>Stocks</td>\n",
       "      <td>1964</td>\n",
       "      <td>1964</td>\n",
       "      <td>3050</td>\n",
       "      <td>FAO TIER 1</td>\n",
       "      <td>An</td>\n",
       "      <td>1150000.0</td>\n",
       "      <td>E</td>\n",
       "      <td></td>\n",
       "    </tr>\n",
       "    <tr>\n",
       "      <th>4</th>\n",
       "      <td>2</td>\n",
       "      <td>'004</td>\n",
       "      <td>Afghanistan</td>\n",
       "      <td>1107</td>\n",
       "      <td>'02132</td>\n",
       "      <td>Asses</td>\n",
       "      <td>5111</td>\n",
       "      <td>Stocks</td>\n",
       "      <td>1965</td>\n",
       "      <td>1965</td>\n",
       "      <td>3050</td>\n",
       "      <td>FAO TIER 1</td>\n",
       "      <td>An</td>\n",
       "      <td>1300000.0</td>\n",
       "      <td>A</td>\n",
       "      <td></td>\n",
       "    </tr>\n",
       "  </tbody>\n",
       "</table>\n",
       "</div>"
      ],
      "text/plain": [
       "   Area Code Area Code (M49)         Area  Item Code Item Code (CPC)   Item  \\\n",
       "0          2            '004  Afghanistan       1107          '02132  Asses   \n",
       "1          2            '004  Afghanistan       1107          '02132  Asses   \n",
       "2          2            '004  Afghanistan       1107          '02132  Asses   \n",
       "3          2            '004  Afghanistan       1107          '02132  Asses   \n",
       "4          2            '004  Afghanistan       1107          '02132  Asses   \n",
       "\n",
       "   Element Code Element  Year Code  Year  Source Code      Source Unit  \\\n",
       "0          5111  Stocks       1961  1961         3050  FAO TIER 1   An   \n",
       "1          5111  Stocks       1962  1962         3050  FAO TIER 1   An   \n",
       "2          5111  Stocks       1963  1963         3050  FAO TIER 1   An   \n",
       "3          5111  Stocks       1964  1964         3050  FAO TIER 1   An   \n",
       "4          5111  Stocks       1965  1965         3050  FAO TIER 1   An   \n",
       "\n",
       "       Value Flag Note  \n",
       "0  1300000.0    A       \n",
       "1   851850.0    A       \n",
       "2  1001112.0    A       \n",
       "3  1150000.0    E       \n",
       "4  1300000.0    A       "
      ]
     },
     "execution_count": 3,
     "metadata": {},
     "output_type": "execute_result"
    }
   ],
   "source": [
    "# show first data rows\n",
    "df_raw.head()"
   ]
  },
  {
   "cell_type": "code",
   "execution_count": 4,
   "metadata": {},
   "outputs": [
    {
     "name": "stdout",
     "output_type": "stream",
     "text": [
      "<class 'pandas.core.frame.DataFrame'>\n",
      "RangeIndex: 6285217 entries, 0 to 6285216\n",
      "Data columns (total 16 columns):\n",
      " #   Column           Dtype  \n",
      "---  ------           -----  \n",
      " 0   Area Code        int64  \n",
      " 1   Area Code (M49)  object \n",
      " 2   Area             object \n",
      " 3   Item Code        int64  \n",
      " 4   Item Code (CPC)  object \n",
      " 5   Item             object \n",
      " 6   Element Code     int64  \n",
      " 7   Element          object \n",
      " 8   Year Code        int64  \n",
      " 9   Year             int64  \n",
      " 10  Source Code      int64  \n",
      " 11  Source           object \n",
      " 12  Unit             object \n",
      " 13  Value            float64\n",
      " 14  Flag             object \n",
      " 15  Note             object \n",
      "dtypes: float64(1), int64(6), object(9)\n",
      "memory usage: 767.2+ MB\n"
     ]
    }
   ],
   "source": [
    "# show table summary\n",
    "df_raw.info()"
   ]
  },
  {
   "cell_type": "code",
   "execution_count": 5,
   "metadata": {},
   "outputs": [
    {
     "data": {
      "text/plain": [
       "False    6285217\n",
       "Name: count, dtype: int64"
      ]
     },
     "execution_count": 5,
     "metadata": {},
     "output_type": "execute_result"
    }
   ],
   "source": [
    "# show full duplicates\n",
    "df_raw.duplicated().value_counts()"
   ]
  },
  {
   "cell_type": "code",
   "execution_count": 6,
   "metadata": {},
   "outputs": [
    {
     "data": {
      "text/plain": [
       "Area Code  Area Code (M49)  Area   Item Code  Item Code (CPC)  Item   Element Code  Element  Year Code  Year   Source Code  Source  Unit   Value  Flag   Note \n",
       "False      False            False  False      False            False  False         False    False      False  False        False   False  False  False  False    6285217\n",
       "Name: count, dtype: int64"
      ]
     },
     "execution_count": 6,
     "metadata": {},
     "output_type": "execute_result"
    }
   ],
   "source": [
    "# show null values\n",
    "df_raw.isnull().value_counts()"
   ]
  },
  {
   "cell_type": "markdown",
   "metadata": {},
   "source": [
    "## data cleaning"
   ]
  },
  {
   "cell_type": "code",
   "execution_count": 7,
   "metadata": {},
   "outputs": [],
   "source": [
    "# unify column names:\n",
    "# - remove leading/trailing spaces\n",
    "# - convert to lower case\n",
    "# - replace all non-alphanumerical characters with '_'\n",
    "df_raw.columns = [\n",
    "    re.sub('[^a-zA-Z0-9]', '_', col) for col in \\\n",
    "        df_raw.columns.str.strip().str.lower()\n",
    "]"
   ]
  },
  {
   "cell_type": "code",
   "execution_count": 8,
   "metadata": {},
   "outputs": [],
   "source": [
    "# retain original raw data for later\n",
    "df_clean = df_raw.copy()"
   ]
  },
  {
   "cell_type": "markdown",
   "metadata": {},
   "source": [
    "### drop 'area_code' & 'area_code_m49_' (redundant to 'Area')"
   ]
  },
  {
   "cell_type": "markdown",
   "metadata": {},
   "source": [
    ":FIXME: :TODO: has yet to be proven!!!"
   ]
  },
  {
   "cell_type": "code",
   "execution_count": 9,
   "metadata": {},
   "outputs": [],
   "source": [
    "# drop column\n",
    "df_clean.drop(columns = ['area_code', 'area_code__m49_'], inplace=True)"
   ]
  },
  {
   "cell_type": "markdown",
   "metadata": {},
   "source": [
    "### drop 'item_code_cpc_' (redundant to 'item_code')"
   ]
  },
  {
   "cell_type": "markdown",
   "metadata": {},
   "source": [
    ":FIXME: :TODO: has yet to be proven!!!"
   ]
  },
  {
   "cell_type": "code",
   "execution_count": 10,
   "metadata": {},
   "outputs": [],
   "source": [
    "# drop column\n",
    "df_clean.drop(columns = ['item_code__cpc_'], inplace=True)"
   ]
  },
  {
   "cell_type": "markdown",
   "metadata": {},
   "source": [
    "### drop 'element_code' (redundant to 'element')"
   ]
  },
  {
   "cell_type": "markdown",
   "metadata": {},
   "source": [
    ":FIXME: :TODO: has yet to be proven!!!"
   ]
  },
  {
   "cell_type": "markdown",
   "metadata": {},
   "source": [
    "'element_code' stands for a unique combination of element and unit, it can be dropped"
   ]
  },
  {
   "cell_type": "code",
   "execution_count": 11,
   "metadata": {},
   "outputs": [],
   "source": [
    "# drop column\n",
    "df_clean.drop(columns = ['element_code'], inplace=True)"
   ]
  },
  {
   "cell_type": "markdown",
   "metadata": {},
   "source": [
    "### drop 'year_code' (redundant to 'year')"
   ]
  },
  {
   "cell_type": "markdown",
   "metadata": {},
   "source": [
    ":FIXME: :TODO: has yet to be proven!!!"
   ]
  },
  {
   "cell_type": "code",
   "execution_count": 12,
   "metadata": {},
   "outputs": [],
   "source": [
    "# drop column\n",
    "df_clean.drop(columns = ['year_code'], inplace=True)"
   ]
  },
  {
   "cell_type": "markdown",
   "metadata": {},
   "source": [
    "### drop 'source_code' (redundant to 'source')"
   ]
  },
  {
   "cell_type": "markdown",
   "metadata": {},
   "source": [
    ":FIXME: :TODO: has yet to be proven!!!"
   ]
  },
  {
   "cell_type": "code",
   "execution_count": 13,
   "metadata": {},
   "outputs": [],
   "source": [
    "# drop column\n",
    "df_clean.drop(columns = ['source_code'], inplace=True)"
   ]
  },
  {
   "cell_type": "markdown",
   "metadata": {},
   "source": [
    "### drop 'note' (no added value)"
   ]
  },
  {
   "cell_type": "markdown",
   "metadata": {},
   "source": [
    ":FIXME: :TODO: has yet to be proven!!!"
   ]
  },
  {
   "cell_type": "code",
   "execution_count": 14,
   "metadata": {},
   "outputs": [],
   "source": [
    "# replace empty strings with 'null'\n",
    "df_clean['note'].replace('', np.nan, inplace=True)"
   ]
  },
  {
   "cell_type": "code",
   "execution_count": 15,
   "metadata": {},
   "outputs": [
    {
     "data": {
      "text/plain": [
       "note\n",
       "NaN                             6213175\n",
       "NC/CRF/BUR                        60399\n",
       "NC/CRF/BUR Unofficial figure       7521\n",
       "Unofficial figure                  2482\n",
       "UNFCCC Repository                  1640\n",
       "Name: count, dtype: int64"
      ]
     },
     "execution_count": 15,
     "metadata": {},
     "output_type": "execute_result"
    }
   ],
   "source": [
    "# show unique values & counts\n",
    "df_clean['note'].value_counts(dropna=False)"
   ]
  },
  {
   "cell_type": "code",
   "execution_count": 16,
   "metadata": {},
   "outputs": [],
   "source": [
    "# drop column\n",
    "df_clean.drop(columns = ['note'], inplace=True)"
   ]
  },
  {
   "cell_type": "markdown",
   "metadata": {},
   "source": [
    "### drop 'flag' (no added value)"
   ]
  },
  {
   "cell_type": "markdown",
   "metadata": {},
   "source": [
    ":FIXME: :TODO: has yet to be proven!!!"
   ]
  },
  {
   "cell_type": "code",
   "execution_count": 17,
   "metadata": {},
   "outputs": [],
   "source": [
    "# drop column\n",
    "df_clean.drop(columns = ['flag'], inplace=True)"
   ]
  },
  {
   "cell_type": "markdown",
   "metadata": {},
   "source": [
    "## data wrangling"
   ]
  },
  {
   "cell_type": "code",
   "execution_count": 18,
   "metadata": {},
   "outputs": [],
   "source": [
    "# retain original cleaned data for later\n",
    "df_wrangled = df_clean.copy()"
   ]
  },
  {
   "cell_type": "markdown",
   "metadata": {},
   "source": [
    "### drop duplicate rows from divergent 'source'"
   ]
  },
  {
   "cell_type": "markdown",
   "metadata": {},
   "source": [
    "when there is data from multiple sources, all but that from 'FAO TIER 1' is dropped"
   ]
  },
  {
   "cell_type": "code",
   "execution_count": 19,
   "metadata": {},
   "outputs": [
    {
     "data": {
      "text/plain": [
       "source\n",
       "FAO TIER 1    6199890\n",
       "UNFCCC          85327\n",
       "Name: count, dtype: int64"
      ]
     },
     "execution_count": 19,
     "metadata": {},
     "output_type": "execute_result"
    }
   ],
   "source": [
    "# show unique values & counts\n",
    "df_wrangled['source'].value_counts(dropna=False)"
   ]
  },
  {
   "cell_type": "code",
   "execution_count": 20,
   "metadata": {},
   "outputs": [
    {
     "data": {
      "text/plain": [
       "164558"
      ]
     },
     "execution_count": 20,
     "metadata": {},
     "output_type": "execute_result"
    }
   ],
   "source": [
    "# count duplicate rows (from divergent 'source')\n",
    "df_wrangled[df_wrangled.duplicated(\n",
    "      subset=['area', 'item_code', 'item', 'element', 'year']\n",
    "    , keep=False\n",
    ")].shape[0]"
   ]
  },
  {
   "cell_type": "code",
   "execution_count": 21,
   "metadata": {},
   "outputs": [],
   "source": [
    "# sort, so that 'FAO TIER 1' is first for duplicate rows\n",
    "df_wrangled.sort_values(\n",
    "      ['area', 'item_code', 'item', 'element', 'year', 'source']\n",
    "    , na_position='last'\n",
    "    , ascending=True\n",
    "    , inplace=True\n",
    ")\n",
    "# drop duplicate rows, keeping first\n",
    "df_wrangled.drop_duplicates(\n",
    "      subset=['area', 'item_code', 'item', 'element', 'year']\n",
    "    , keep='first'\n",
    "    , inplace=True\n",
    ")"
   ]
  },
  {
   "cell_type": "markdown",
   "metadata": {},
   "source": [
    "### drop all but totals values from 'element'"
   ]
  },
  {
   "cell_type": "code",
   "execution_count": 22,
   "metadata": {},
   "outputs": [
    {
     "data": {
      "text/plain": [
       "element\n",
       "Livestock total (Emissions CH4)                                  255374\n",
       "Manure left on pasture (N content)                               255318\n",
       "Manure management (manure treated, N content)                    255232\n",
       "Manure management (Direct emissions N2O)                         255232\n",
       "Manure management (Emissions N2O)                                254836\n",
       "Livestock total (Emissions N2O)                                  254836\n",
       "Manure management (Emissions CH4)                                254834\n",
       "Manure left on pasture that volatilises (N content)              254829\n",
       "Manure left on pasture that leaches (N content)                  254829\n",
       "Manure left on pasture (Indirect emissions N2O)                  254829\n",
       "Manure left on pasture (Emissions N2O)                           254829\n",
       "Manure left on pasture (Direct emissions N2O)                    254829\n",
       "Manure applied to soils that volatilises (N content)             254829\n",
       "Manure management (Indirect emissions N2O)                       254829\n",
       "Manure applied to soils (N content)                              254829\n",
       "Manure applied to soils (Indirect emissions N2O)                 254829\n",
       "Manure applied to soils (Direct emissions N2O)                   254829\n",
       "Indirect emissions (N2O that volatilises) (Manure on pasture)    254829\n",
       "Indirect emissions (N2O that volatilises) (Manure applied)       254829\n",
       "Indirect emissions (N2O that leaches) (Manure on pasture)        254829\n",
       "Indirect emissions (N2O that leaches) (Manure applied)           254829\n",
       "Manure applied to soils that leaches (N content)                 254829\n",
       "Stocks                                                           241266\n",
       "Enteric fermentation (Emissions CH4)                             180972\n",
       "Emissions (N2O) (Manure applied)                                 172603\n",
       "Name: count, dtype: int64"
      ]
     },
     "execution_count": 22,
     "metadata": {},
     "output_type": "execute_result"
    }
   ],
   "source": [
    "# show unique values & counts\n",
    "df_wrangled['element'].value_counts(dropna=False)"
   ]
  },
  {
   "cell_type": "code",
   "execution_count": 23,
   "metadata": {},
   "outputs": [
    {
     "name": "stdout",
     "output_type": "stream",
     "text": [
      "remaining rows: 510210\n"
     ]
    }
   ],
   "source": [
    "# drop rows that do not contain totals values\n",
    "df_wrangled.drop(df_wrangled[~(df_wrangled['element'].isin([\n",
    "      'Livestock total (Emissions CH4)'\n",
    "    , 'Livestock total (Emissions N2O)'\n",
    "]))].index, inplace=True)\n",
    "print('remaining rows:', df_wrangled.shape[0])"
   ]
  },
  {
   "cell_type": "markdown",
   "metadata": {},
   "source": [
    "### split 'element' column into separate columns using 'value' and 'unit'"
   ]
  },
  {
   "cell_type": "code",
   "execution_count": 24,
   "metadata": {},
   "outputs": [
    {
     "data": {
      "text/plain": [
       "False    510210\n",
       "Name: count, dtype: int64"
      ]
     },
     "execution_count": 24,
     "metadata": {},
     "output_type": "execute_result"
    }
   ],
   "source": [
    "# check for duplicates regarding composite key with 'element'\n",
    "df_wrangled[['area', 'year', 'item', 'element']].duplicated().value_counts()"
   ]
  },
  {
   "cell_type": "code",
   "execution_count": 25,
   "metadata": {},
   "outputs": [
    {
     "data": {
      "text/plain": [
       "True"
      ]
     },
     "execution_count": 25,
     "metadata": {},
     "output_type": "execute_result"
    }
   ],
   "source": [
    "# verify all values are positive, otherwise aggregation via 'max' will not work\n",
    "(df_wrangled['value'] >= 0).all()"
   ]
  },
  {
   "cell_type": "code",
   "execution_count": 26,
   "metadata": {},
   "outputs": [
    {
     "data": {
      "text/plain": [
       "unit\n",
       "kt    510210\n",
       "Name: count, dtype: int64"
      ]
     },
     "execution_count": 26,
     "metadata": {},
     "output_type": "execute_result"
    }
   ],
   "source": [
    "# verify all values have the same unit\n",
    "df_wrangled['unit'].value_counts(dropna=False)"
   ]
  },
  {
   "cell_type": "code",
   "execution_count": 27,
   "metadata": {},
   "outputs": [],
   "source": [
    "# split 'element' column (by the 2 expected values) into seperate columns, that\n",
    "# contain 0/1 depending on the actual value of 'element'\n",
    "df_dummies = pd.get_dummies(df_wrangled['element'])\n",
    "# rename columns\n",
    "df_dummies.rename(\n",
    "        columns={\n",
    "              'Livestock total (Emissions CH4)': 'emissions_ch4'\n",
    "            , 'Livestock total (Emissions N2O)': 'emissions_n2o'\n",
    "        }\n",
    "        , inplace=True)\n",
    "\n",
    "# add dummies after replacing '1' with actual value from 'value'\n",
    "df_new_cols = df_dummies.mul(df_wrangled['value'], axis=0)\n",
    "df_wrangled = pd.concat([df_wrangled, df_new_cols], axis=1)"
   ]
  },
  {
   "cell_type": "code",
   "execution_count": 28,
   "metadata": {},
   "outputs": [
    {
     "name": "stdout",
     "output_type": "stream",
     "text": [
      "precision loss for emissions_ch4: -1.4901161193847656e-08\n",
      "precision loss for emissions_n2o: 4.656612873077393e-10\n"
     ]
    }
   ],
   "source": [
    "# calculate the precision loss\n",
    "print(\n",
    "      'precision loss for emissions_ch4:'\n",
    "    , df_wrangled[df_wrangled['element'] == 'Livestock total (Emissions CH4)'] \\\n",
    "        ['value'].sum()\n",
    "      - df_wrangled['emissions_ch4'].sum()\n",
    ")\n",
    "print(\n",
    "      'precision loss for emissions_n2o:'\n",
    "    , df_wrangled[df_wrangled['element'] == 'Livestock total (Emissions N2O)'] \\\n",
    "        ['value'].sum()\n",
    "      - df_wrangled['emissions_n2o'].sum()\n",
    ")"
   ]
  },
  {
   "cell_type": "code",
   "execution_count": 29,
   "metadata": {},
   "outputs": [],
   "source": [
    "# rename columns\n",
    "df_wrangled.rename(columns={\n",
    "    'unit': 'emissions_unit'\n",
    "}, inplace=True)\n",
    "# drop now redundant columns\n",
    "df_wrangled.drop(columns = ['element', 'value'], inplace=True)\n",
    "# group all duplicate columns keeping the actual values for each row\n",
    "df_wrangled = df_wrangled.groupby([\n",
    "      'area'\n",
    "    , 'item_code'\n",
    "    , 'item'\n",
    "    , 'year'\n",
    "    , 'source'\n",
    "    , 'emissions_unit'\n",
    "]).agg({\n",
    "      'emissions_ch4': 'max'\n",
    "    , 'emissions_n2o': 'max'\n",
    "}).reset_index()"
   ]
  },
  {
   "cell_type": "markdown",
   "metadata": {},
   "source": [
    "### verify 'year' values"
   ]
  },
  {
   "cell_type": "markdown",
   "metadata": {},
   "source": [
    "note: '2030' and '2050' are official forecasts"
   ]
  },
  {
   "cell_type": "code",
   "execution_count": 31,
   "metadata": {},
   "outputs": [
    {
     "data": {
      "text/plain": [
       "array([1961, 1962, 1963, 1964, 1965, 1966, 1967, 1968, 1969, 1970, 1971,\n",
       "       1972, 1973, 1974, 1975, 1976, 1977, 1978, 1979, 1980, 1981, 1982,\n",
       "       1983, 1984, 1985, 1986, 1987, 1988, 1989, 1990, 1991, 1992, 1993,\n",
       "       1994, 1995, 1996, 1997, 1998, 1999, 2000, 2001, 2002, 2003, 2004,\n",
       "       2005, 2006, 2007, 2008, 2009, 2010, 2011, 2012, 2013, 2014, 2015,\n",
       "       2016, 2017, 2018, 2019, 2020, 2021, 2030, 2050])"
      ]
     },
     "execution_count": 31,
     "metadata": {},
     "output_type": "execute_result"
    }
   ],
   "source": [
    "# show time span of rows\n",
    "pd.Series(df_raw['year'].unique()).sort_values().to_numpy()"
   ]
  },
  {
   "cell_type": "markdown",
   "metadata": {},
   "source": [
    "### reorder columns"
   ]
  },
  {
   "cell_type": "code",
   "execution_count": 142,
   "metadata": {},
   "outputs": [],
   "source": [
    "column_order = [\n",
    "      'area', 'year', 'item', 'item_code', 'source'\n",
    "    , 'emissions_ch4', 'emissions_n2o', 'emissions_unit'\n",
    "]\n",
    "if len(column_order) != df_wrangled.shape[1]:\n",
    "    print('warning: dropping columns')\n",
    "df_wrangled = df_wrangled[column_order]"
   ]
  },
  {
   "cell_type": "markdown",
   "metadata": {},
   "source": [
    "## final checks & upload to database server"
   ]
  },
  {
   "cell_type": "code",
   "execution_count": 143,
   "metadata": {},
   "outputs": [
    {
     "data": {
      "text/html": [
       "<div>\n",
       "<style scoped>\n",
       "    .dataframe tbody tr th:only-of-type {\n",
       "        vertical-align: middle;\n",
       "    }\n",
       "\n",
       "    .dataframe tbody tr th {\n",
       "        vertical-align: top;\n",
       "    }\n",
       "\n",
       "    .dataframe thead th {\n",
       "        text-align: right;\n",
       "    }\n",
       "</style>\n",
       "<table border=\"1\" class=\"dataframe\">\n",
       "  <thead>\n",
       "    <tr style=\"text-align: right;\">\n",
       "      <th></th>\n",
       "      <th>area</th>\n",
       "      <th>year</th>\n",
       "      <th>item</th>\n",
       "      <th>item_code</th>\n",
       "      <th>source</th>\n",
       "      <th>emissions_ch4</th>\n",
       "      <th>emissions_n2o</th>\n",
       "      <th>emissions_unit</th>\n",
       "    </tr>\n",
       "  </thead>\n",
       "  <tbody>\n",
       "    <tr>\n",
       "      <th>0</th>\n",
       "      <td>Afghanistan</td>\n",
       "      <td>1961</td>\n",
       "      <td>Cattle, dairy</td>\n",
       "      <td>960</td>\n",
       "      <td>FAO TIER 1</td>\n",
       "      <td>44.10</td>\n",
       "      <td>0.7937</td>\n",
       "      <td>kt</td>\n",
       "    </tr>\n",
       "    <tr>\n",
       "      <th>1</th>\n",
       "      <td>Afghanistan</td>\n",
       "      <td>1962</td>\n",
       "      <td>Cattle, dairy</td>\n",
       "      <td>960</td>\n",
       "      <td>FAO TIER 1</td>\n",
       "      <td>44.10</td>\n",
       "      <td>0.7937</td>\n",
       "      <td>kt</td>\n",
       "    </tr>\n",
       "    <tr>\n",
       "      <th>2</th>\n",
       "      <td>Afghanistan</td>\n",
       "      <td>1963</td>\n",
       "      <td>Cattle, dairy</td>\n",
       "      <td>960</td>\n",
       "      <td>FAO TIER 1</td>\n",
       "      <td>49.14</td>\n",
       "      <td>0.8844</td>\n",
       "      <td>kt</td>\n",
       "    </tr>\n",
       "    <tr>\n",
       "      <th>3</th>\n",
       "      <td>Afghanistan</td>\n",
       "      <td>1964</td>\n",
       "      <td>Cattle, dairy</td>\n",
       "      <td>960</td>\n",
       "      <td>FAO TIER 1</td>\n",
       "      <td>49.14</td>\n",
       "      <td>0.8844</td>\n",
       "      <td>kt</td>\n",
       "    </tr>\n",
       "    <tr>\n",
       "      <th>4</th>\n",
       "      <td>Afghanistan</td>\n",
       "      <td>1965</td>\n",
       "      <td>Cattle, dairy</td>\n",
       "      <td>960</td>\n",
       "      <td>FAO TIER 1</td>\n",
       "      <td>54.81</td>\n",
       "      <td>0.9864</td>\n",
       "      <td>kt</td>\n",
       "    </tr>\n",
       "  </tbody>\n",
       "</table>\n",
       "</div>"
      ],
      "text/plain": [
       "          area  year           item  item_code      source  emissions_ch4  \\\n",
       "0  Afghanistan  1961  Cattle, dairy        960  FAO TIER 1          44.10   \n",
       "1  Afghanistan  1962  Cattle, dairy        960  FAO TIER 1          44.10   \n",
       "2  Afghanistan  1963  Cattle, dairy        960  FAO TIER 1          49.14   \n",
       "3  Afghanistan  1964  Cattle, dairy        960  FAO TIER 1          49.14   \n",
       "4  Afghanistan  1965  Cattle, dairy        960  FAO TIER 1          54.81   \n",
       "\n",
       "   emissions_n2o emissions_unit  \n",
       "0         0.7937             kt  \n",
       "1         0.7937             kt  \n",
       "2         0.8844             kt  \n",
       "3         0.8844             kt  \n",
       "4         0.9864             kt  "
      ]
     },
     "execution_count": 143,
     "metadata": {},
     "output_type": "execute_result"
    }
   ],
   "source": [
    "# show first data rows\n",
    "df_wrangled.head()"
   ]
  },
  {
   "cell_type": "code",
   "execution_count": 144,
   "metadata": {},
   "outputs": [
    {
     "name": "stdout",
     "output_type": "stream",
     "text": [
      "<class 'pandas.core.frame.DataFrame'>\n",
      "RangeIndex: 255374 entries, 0 to 255373\n",
      "Data columns (total 8 columns):\n",
      " #   Column          Non-Null Count   Dtype  \n",
      "---  ------          --------------   -----  \n",
      " 0   area            255374 non-null  object \n",
      " 1   year            255374 non-null  int64  \n",
      " 2   item            255374 non-null  object \n",
      " 3   item_code       255374 non-null  int64  \n",
      " 4   source          255374 non-null  object \n",
      " 5   emissions_ch4   255374 non-null  float64\n",
      " 6   emissions_n2o   255374 non-null  float64\n",
      " 7   emissions_unit  255374 non-null  object \n",
      "dtypes: float64(2), int64(2), object(4)\n",
      "memory usage: 15.6+ MB\n"
     ]
    }
   ],
   "source": [
    "# show table summary\n",
    "df_wrangled.info()"
   ]
  },
  {
   "cell_type": "code",
   "execution_count": 145,
   "metadata": {},
   "outputs": [
    {
     "data": {
      "text/plain": [
       "False    255374\n",
       "Name: count, dtype: int64"
      ]
     },
     "execution_count": 145,
     "metadata": {},
     "output_type": "execute_result"
    }
   ],
   "source": [
    "# check for duplicates regarding composite key\n",
    "df_wrangled[['area', 'year', 'item']].duplicated().value_counts()"
   ]
  },
  {
   "cell_type": "markdown",
   "metadata": {},
   "source": [
    "### write raw data"
   ]
  },
  {
   "cell_type": "code",
   "execution_count": 146,
   "metadata": {},
   "outputs": [
    {
     "name": "stdout",
     "output_type": "stream",
     "text": [
      "+ table written: fao_emissions_livestock_raw_sh\n"
     ]
    }
   ],
   "source": [
    "# write to database & grant access\n",
    "table_name = 'fao_emissions_livestock_raw_sh'\n",
    "fs.write_dataframe(df_raw, table_name)\n",
    "fs.run_command('CALL grant_access(\\'' + table_name + '\\')')"
   ]
  },
  {
   "cell_type": "markdown",
   "metadata": {},
   "source": [
    "### write wrangled data"
   ]
  },
  {
   "cell_type": "code",
   "execution_count": 147,
   "metadata": {},
   "outputs": [
    {
     "name": "stdout",
     "output_type": "stream",
     "text": [
      "+ table written: fao_emissions_livestock_wrangled_sh\n"
     ]
    }
   ],
   "source": [
    "# write to database & grant access\n",
    "table_name = 'fao_emissions_livestock_wrangled_sh'\n",
    "fs.write_dataframe(df_wrangled, table_name)\n",
    "fs.run_command('CALL grant_access(\\'' + table_name + '\\')')"
   ]
  }
 ],
 "metadata": {
  "kernelspec": {
   "display_name": "nf_sql",
   "language": "python",
   "name": "python3"
  },
  "language_info": {
   "codemirror_mode": {
    "name": "ipython",
    "version": 3
   },
   "file_extension": ".py",
   "mimetype": "text/x-python",
   "name": "python",
   "nbconvert_exporter": "python",
   "pygments_lexer": "ipython3",
   "version": "3.9.18"
  }
 },
 "nbformat": 4,
 "nbformat_minor": 2
}
