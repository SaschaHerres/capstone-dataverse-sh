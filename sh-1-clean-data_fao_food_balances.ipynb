{
 "cells": [
  {
   "cell_type": "markdown",
   "metadata": {},
   "source": [
    "# [FAO] food balances (2010-)"
   ]
  },
  {
   "cell_type": "code",
   "execution_count": 1,
   "metadata": {},
   "outputs": [],
   "source": [
    "import pandas as pd\n",
    "import numpy as np\n",
    "import re as re\n",
    "\n",
    "import _functions_sql as fs\n",
    "import _functions_data_files as fdf\n",
    "\n",
    "source_dir = 'fao_food_balances'\n",
    "source_file = 'FoodBalanceSheets_E_All_Data_(Normalized).csv'"
   ]
  },
  {
   "cell_type": "markdown",
   "metadata": {},
   "source": [
    "## import from CSV & show general information"
   ]
  },
  {
   "cell_type": "code",
   "execution_count": 9,
   "metadata": {},
   "outputs": [],
   "source": [
    "# import raw data into a pandas dataframe\n",
    "df_raw = pd.read_csv(\n",
    "      fdf.get_path(source_file, source_dir)\n",
    "    , encoding='latin-1'\n",
    "    , converters={}\n",
    ")"
   ]
  },
  {
   "cell_type": "code",
   "execution_count": 3,
   "metadata": {},
   "outputs": [
    {
     "data": {
      "text/html": [
       "<div>\n",
       "<style scoped>\n",
       "    .dataframe tbody tr th:only-of-type {\n",
       "        vertical-align: middle;\n",
       "    }\n",
       "\n",
       "    .dataframe tbody tr th {\n",
       "        vertical-align: top;\n",
       "    }\n",
       "\n",
       "    .dataframe thead th {\n",
       "        text-align: right;\n",
       "    }\n",
       "</style>\n",
       "<table border=\"1\" class=\"dataframe\">\n",
       "  <thead>\n",
       "    <tr style=\"text-align: right;\">\n",
       "      <th></th>\n",
       "      <th>Area Code</th>\n",
       "      <th>Area Code (M49)</th>\n",
       "      <th>Area</th>\n",
       "      <th>Item Code</th>\n",
       "      <th>Item Code (FBS)</th>\n",
       "      <th>Item</th>\n",
       "      <th>Element Code</th>\n",
       "      <th>Element</th>\n",
       "      <th>Year Code</th>\n",
       "      <th>Year</th>\n",
       "      <th>Unit</th>\n",
       "      <th>Value</th>\n",
       "      <th>Flag</th>\n",
       "    </tr>\n",
       "  </thead>\n",
       "  <tbody>\n",
       "    <tr>\n",
       "      <th>0</th>\n",
       "      <td>2</td>\n",
       "      <td>'004</td>\n",
       "      <td>Afghanistan</td>\n",
       "      <td>2501</td>\n",
       "      <td>'S2501</td>\n",
       "      <td>Population</td>\n",
       "      <td>511</td>\n",
       "      <td>Total Population - Both sexes</td>\n",
       "      <td>2010</td>\n",
       "      <td>2010</td>\n",
       "      <td>1000 No</td>\n",
       "      <td>28189.67</td>\n",
       "      <td>X</td>\n",
       "    </tr>\n",
       "    <tr>\n",
       "      <th>1</th>\n",
       "      <td>2</td>\n",
       "      <td>'004</td>\n",
       "      <td>Afghanistan</td>\n",
       "      <td>2501</td>\n",
       "      <td>'S2501</td>\n",
       "      <td>Population</td>\n",
       "      <td>511</td>\n",
       "      <td>Total Population - Both sexes</td>\n",
       "      <td>2011</td>\n",
       "      <td>2011</td>\n",
       "      <td>1000 No</td>\n",
       "      <td>29249.16</td>\n",
       "      <td>X</td>\n",
       "    </tr>\n",
       "    <tr>\n",
       "      <th>2</th>\n",
       "      <td>3</td>\n",
       "      <td>'008</td>\n",
       "      <td>Albania</td>\n",
       "      <td>2501</td>\n",
       "      <td>'S2501</td>\n",
       "      <td>Population</td>\n",
       "      <td>511</td>\n",
       "      <td>Total Population - Both sexes</td>\n",
       "      <td>2010</td>\n",
       "      <td>2010</td>\n",
       "      <td>1000 No</td>\n",
       "      <td>2913.40</td>\n",
       "      <td>X</td>\n",
       "    </tr>\n",
       "    <tr>\n",
       "      <th>3</th>\n",
       "      <td>3</td>\n",
       "      <td>'008</td>\n",
       "      <td>Albania</td>\n",
       "      <td>2501</td>\n",
       "      <td>'S2501</td>\n",
       "      <td>Population</td>\n",
       "      <td>511</td>\n",
       "      <td>Total Population - Both sexes</td>\n",
       "      <td>2011</td>\n",
       "      <td>2011</td>\n",
       "      <td>1000 No</td>\n",
       "      <td>2900.65</td>\n",
       "      <td>X</td>\n",
       "    </tr>\n",
       "    <tr>\n",
       "      <th>4</th>\n",
       "      <td>2</td>\n",
       "      <td>'004</td>\n",
       "      <td>Afghanistan</td>\n",
       "      <td>2501</td>\n",
       "      <td>'S2501</td>\n",
       "      <td>Population</td>\n",
       "      <td>511</td>\n",
       "      <td>Total Population - Both sexes</td>\n",
       "      <td>2012</td>\n",
       "      <td>2012</td>\n",
       "      <td>1000 No</td>\n",
       "      <td>30466.48</td>\n",
       "      <td>X</td>\n",
       "    </tr>\n",
       "  </tbody>\n",
       "</table>\n",
       "</div>"
      ],
      "text/plain": [
       "   Area Code Area Code (M49)         Area  Item Code Item Code (FBS)  \\\n",
       "0          2            '004  Afghanistan       2501          'S2501   \n",
       "1          2            '004  Afghanistan       2501          'S2501   \n",
       "2          3            '008      Albania       2501          'S2501   \n",
       "3          3            '008      Albania       2501          'S2501   \n",
       "4          2            '004  Afghanistan       2501          'S2501   \n",
       "\n",
       "         Item  Element Code                        Element  Year Code  Year  \\\n",
       "0  Population           511  Total Population - Both sexes       2010  2010   \n",
       "1  Population           511  Total Population - Both sexes       2011  2011   \n",
       "2  Population           511  Total Population - Both sexes       2010  2010   \n",
       "3  Population           511  Total Population - Both sexes       2011  2011   \n",
       "4  Population           511  Total Population - Both sexes       2012  2012   \n",
       "\n",
       "      Unit     Value Flag  \n",
       "0  1000 No  28189.67    X  \n",
       "1  1000 No  29249.16    X  \n",
       "2  1000 No   2913.40    X  \n",
       "3  1000 No   2900.65    X  \n",
       "4  1000 No  30466.48    X  "
      ]
     },
     "execution_count": 3,
     "metadata": {},
     "output_type": "execute_result"
    }
   ],
   "source": [
    "# show first data rows\n",
    "df_raw.head()"
   ]
  },
  {
   "cell_type": "code",
   "execution_count": 4,
   "metadata": {},
   "outputs": [
    {
     "name": "stdout",
     "output_type": "stream",
     "text": [
      "<class 'pandas.core.frame.DataFrame'>\n",
      "RangeIndex: 4320908 entries, 0 to 4320907\n",
      "Data columns (total 13 columns):\n",
      " #   Column           Dtype  \n",
      "---  ------           -----  \n",
      " 0   Area Code        int64  \n",
      " 1   Area Code (M49)  object \n",
      " 2   Area             object \n",
      " 3   Item Code        int64  \n",
      " 4   Item Code (FBS)  object \n",
      " 5   Item             object \n",
      " 6   Element Code     int64  \n",
      " 7   Element          object \n",
      " 8   Year Code        int64  \n",
      " 9   Year             int64  \n",
      " 10  Unit             object \n",
      " 11  Value            float64\n",
      " 12  Flag             object \n",
      "dtypes: float64(1), int64(5), object(7)\n",
      "memory usage: 428.6+ MB\n"
     ]
    }
   ],
   "source": [
    "# show table summary\n",
    "df_raw.info()"
   ]
  },
  {
   "cell_type": "code",
   "execution_count": 7,
   "metadata": {},
   "outputs": [
    {
     "data": {
      "text/plain": [
       "False    4320908\n",
       "Name: count, dtype: int64"
      ]
     },
     "execution_count": 7,
     "metadata": {},
     "output_type": "execute_result"
    }
   ],
   "source": [
    "# show full duplicates\n",
    "df_raw.duplicated().value_counts()"
   ]
  },
  {
   "cell_type": "code",
   "execution_count": 8,
   "metadata": {},
   "outputs": [
    {
     "data": {
      "text/plain": [
       "Area Code  Area Code (M49)  Area   Item Code  Item Code (FBS)  Item   Element Code  Element  Year Code  Year   Unit   Value  Flag \n",
       "False      False            False  False      False            False  False         False    False      False  False  False  False    4320908\n",
       "Name: count, dtype: int64"
      ]
     },
     "execution_count": 8,
     "metadata": {},
     "output_type": "execute_result"
    }
   ],
   "source": [
    "# show null values\n",
    "df_raw.isnull().value_counts()"
   ]
  }
 ],
 "metadata": {
  "kernelspec": {
   "display_name": "nf_sql",
   "language": "python",
   "name": "python3"
  },
  "language_info": {
   "codemirror_mode": {
    "name": "ipython",
    "version": 3
   },
   "file_extension": ".py",
   "mimetype": "text/x-python",
   "name": "python",
   "nbconvert_exporter": "python",
   "pygments_lexer": "ipython3",
   "version": "3.9.18"
  }
 },
 "nbformat": 4,
 "nbformat_minor": 2
}
